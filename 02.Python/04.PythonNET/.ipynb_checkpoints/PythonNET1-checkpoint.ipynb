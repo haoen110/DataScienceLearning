{
 "cells": [
  {
   "cell_type": "markdown",
   "metadata": {},
   "source": [
    "# PythonNET 网络编程\n",
    "---\n",
    "\n",
    "- ISO（国际标准化组织）\n",
    "\n",
    "- 制定了\n",
    "\n",
    "- **OSI（Open System Interconnectio）**，意为开放式系统互联。国际标准化组织（ISO）制定了OSI模型，该模型定义了不同计算机互联的标准，是设计和描述计算机网络通信的基本框架。\n",
    "   - 网络通信工作流程的标准化\n",
    "   \n",
    "Ps.\n",
    "- 高内聚：模块功能尽可能单一，不要掺杂\n",
    "- 低耦合：模块之间尽可能减少关联和影响"
   ]
  },
  {
   "cell_type": "markdown",
   "metadata": {},
   "source": [
    "# 模型"
   ]
  },
  {
   "cell_type": "markdown",
   "metadata": {},
   "source": [
    "## OSI 七层模型"
   ]
  },
  {
   "cell_type": "markdown",
   "metadata": {},
   "source": [
    "- 应用层\n",
    "    - 提供用户服务，具体功能由特定程序而定\n",
    "- 表示称\n",
    "    - 提供数据压缩、优化、加密\n",
    "- 会话层\n",
    "    - 建立应用级的连接，选择传输服务\n",
    "- 传输层\n",
    "    - 提供不同的传输服务。流量控制\n",
    "- 网络层\n",
    "    - 路由选择，网络互联\n",
    "- 链路层\n",
    "    - 进行数据转换，具体消息的发送，链路连接\n",
    "- 物理层\n",
    "    - 物理硬件、接口设定、网卡路由交换机等\n",
    "\n",
    "\n",
    "- 优点：\n",
    "    1. 将工作流程标准化\n",
    "    2. 降低了模块之间的耦合度，使每一部分可以单独开发、工作\n"
   ]
  },
  {
   "cell_type": "markdown",
   "metadata": {},
   "source": [
    "## 四层模型"
   ]
  },
  {
   "cell_type": "markdown",
   "metadata": {},
   "source": [
    "- 应用层\n",
    "- 传输层\n",
    "- 网络层\n",
    "- 物理链路层"
   ]
  },
  {
   "cell_type": "markdown",
   "metadata": {},
   "source": [
    "## 五层模型 TCP/IP模型\n",
    "- 应用层（包括应用层、表示层、会话层）\n",
    "- 传输层\n",
    "- 网络层\n",
    "- 链路层\n",
    "- 物理层"
   ]
  },
  {
   "cell_type": "markdown",
   "metadata": {},
   "source": [
    "# 数据的传输流程"
   ]
  },
  {
   "cell_type": "markdown",
   "metadata": {},
   "source": [
    "1. 发送端由**应用层**到**物理层**逐层添加信息头（首部），最终在物理层发送。\n",
    "2. 中间经过节点（交换机，路由器等）转发，发送到**接受端**。\n",
    "3. 在接收端根据发送端的每个信息头进行解析，最终消息到应用层展示给用户。\n",
    "\n",
    "\n",
    "- 网络协议：在网络通信中双方都遵循的规定。包括建立什么样的网络结构、消息结构、标示代表什么等。\n",
    "\n",
    "- 例如：\n",
    "- 应用层：TFTP HTTP DNS SMTP\n",
    "- 传输层：TCP UDP\n",
    "- 网络层：IP\n",
    "- 物理层：IEEE"
   ]
  },
  {
   "cell_type": "markdown",
   "metadata": {},
   "source": [
    "# 网络相关概念\n",
    "- 网络主机：在网络中标示一台计算机 HOST\n",
    "- 本地使用：'localhost' '127.0.0.1'\n",
    "- 网络使用：'0.0.0.0.' '172.xxx.xxx.xxx' \n",
    "- `ifconfig/ipconfig`：查看IP\n",
    "\n",
    "\n",
    "- 获取计算机名\n",
    "        In [2]: socket.gethostname()                                                    \n",
    "        Out[2]: 'EnweiHaos-MacBook-Pro.local'\n",
    "\n",
    "        In [3]: socket.gethostbyname('EnweiHaos-MacBook-Pro.local')                     \n",
    "        Out[3]: '192.168.2.104''\n",
    "        \n",
    "        \n",
    "- IP地址：网络上确定一台主机网络位置的地址\n",
    "- IPv4：点分十进制；192.168.1.2；0～255；32位；有2的32次方种可能\n",
    "- IPv6：128位\n",
    "\n",
    "\n",
    "- `ping ip`：测试和某台网络主机是否联通\n",
    "\n",
    "\n",
    "- 特殊IP地址\n",
    "    - 127.0.0.1 本地测试IP\n",
    "    - 0.0.0.0 使用本机可用IP\n",
    "    - 192.168.1.0 表示网段IP\n",
    "    - 192.168.1.1 网关IP\n",
    "    - 192.168.1.255 广播地址\n",
    "    \n",
    "    \n",
    "- 通过地址获取主机网络信息\n",
    "        In [7]: socket.gethostbyaddr('www.baidu.com')\n",
    "        Out[7]: ('127.0.0.1', [], ['119.75.216.20'])\n",
    "                  主机名     别名   网络地址\n",
    "\n",
    "- 点分十进制地址转换为二进制\n",
    "        In [9]: socket.inet_aton('192.168.1.2')\n",
    "        Out[9]: b'\\xc0\\xa8\\x01\\x02'\n",
    "\n",
    "- 二进制地址转换为点分十进制\n",
    "        In [10]: socket.inet_ntoa(b'\\xc0\\xa8\\x01\\x02')\n",
    "        Out[10]: '192.168.1.2'\n",
    "\n",
    "- 域名 ： 网络服务器地址的名称\n",
    "    1. 方便记忆\n",
    "    2. 名称表达一定的含义\n",
    "\n",
    "\n",
    "- **网络端口号**\n",
    "    - 端口是网络地址的一部分，用于区分一个网络主机上的网络应用\n",
    "    * 在一个操作系统中不同的网络应用监听不同的端口号\n",
    "    \n",
    "    \n",
    "        - 取值范围：1～65535\n",
    "            - 1～255：一些众所周知的通用端口\n",
    "            - 256～1023：系统应用端口\n",
    "            - 65535：自用端口\n",
    "            - 建议使用 >10000\n",
    "            \n",
    "            \n",
    "        - 获取一个应用的端口信息\n",
    "                In [11]: socket.getservbyname('mysql')\n",
    "                Out[11]: 3306\n",
    "\n",
    "\n",
    "- 网络字节序： 数据在网络中的传输格式\n"
   ]
  },
  {
   "cell_type": "markdown",
   "metadata": {},
   "source": [
    "# 传输层服务"
   ]
  },
  {
   "cell_type": "markdown",
   "metadata": {},
   "source": [
    "## 面向连接的传输服务：基于TCP（Transmission Control Protocol ）协议的数据传输\n",
    "- 传输特征 ：提供可靠的数据传输，**可靠性**指数据传输过程中**无丢失，无失序，无差错，无重复**。\n",
    "- 实现手段：数据**传输断开**前都需要进行传输和断开的**确认**\n",
    "- 应用情况：适用于传输较大的文件，网络情况良好，需要保证传输可靠性的情况。  \n",
    "- 比如： 网页的获取，文件下载，邮件传输，登录注册"
   ]
  },
  {
   "cell_type": "markdown",
   "metadata": {},
   "source": [
    "### 三次握手：TCP传输在数据传输前建立连接的过程\n",
    "1. 客户端向服务器发送连接请求 \n",
    "2. 服务器收到请求后，回复确认消息，表示允许连接\n",
    "3. 客户端收到服务器回复，进行最终标志发送确认连接\n",
    "![jupyter](./IMGS/woshou.png)\n",
    "![jupyter](./IMGS/tcp.gif)\n",
    "\n",
    "\n",
    "### 四次挥手：TCP传输在连接断开前进行断开确认的过程\n",
    "1. 主动发发送报文告知被动方要断开连接\n",
    "2. 被动方收到请求后立即返回报文告知已经准备断开\n",
    "3. 被动方准备就绪后再次发送报文告知可以断开\n",
    "4. 主动方发送消息，确认最终断开\n",
    "![jupyter](./IMGS/huishou.png)"
   ]
  },
  {
   "cell_type": "markdown",
   "metadata": {},
   "source": [
    "## 面向无连接的传输服务：基于UDP（User Datagram Protoco）协议的传输\n",
    "- 传输特点 ： 不保证传输的可靠性，传输过程没有连接和断开的流程，数据收发自由。\n",
    "- 使用情况 ： 网络情况较差，对传输可靠性要求不高，需要提升传输效率。不便连接，需要灵活收发消息。\n",
    "- 比如：网络视频，群聊，广播发送"
   ]
  },
  {
   "cell_type": "markdown",
   "metadata": {},
   "source": [
    "# 要求\n",
    ">1. osi七层模型介绍一下，tcp/ip模型呢?\n",
    ">2. tcp服务和udp服务有什么区别?\n",
    ">3. 三次握手和四次挥手是什么意思，过程是怎样的?"
   ]
  },
  {
   "cell_type": "markdown",
   "metadata": {},
   "source": [
    "# socket 套接字编程\n",
    "- 目标：根据**socket模块**提供的接口函数，进行组合使用完成基于TCP或者UDP的网路编程\n",
    "- 套接字：完成上述目标的一种编程手段，编程方案"
   ]
  },
  {
   "cell_type": "markdown",
   "metadata": {},
   "source": [
    "## 套接字分类：\n",
    "- 流式套接字（SOCK_STREAM）：传输层基于**TCP**协议的套接字编程方案。\n",
    "- 数据报套接字（SOCK_DGRAM）：传输层基**UDP**协议的套接字编程方案。\n",
    "- 底层套接字（SOCK_RAM）：访问底层协议的套接字编程。\n",
    "\n",
    " **面向连接的传输--TGP协议--可靠地--流式套接字**  \n",
    " **面向无连接传输--UDP协议--不可靠--数据报套接字**"
   ]
  },
  {
   "cell_type": "markdown",
   "metadata": {},
   "source": [
    "## TCP套接字（流式套接字）*服务端编程*"
   ]
  },
  {
   "cell_type": "markdown",
   "metadata": {},
   "source": [
    "![jupyter](./IMGS/TCP_Server.PNG)\n",
    "\n",
    "`import  socket`  \n",
    "### 1、创建套接字\n",
    "\n",
    "        sockfd = socket.socket(socket_family = AF_INET,\n",
    "                               socket_type = SOCK_STREAM,\n",
    "                               proto = 0)\n",
    "- **功能**：创建套接字\n",
    "- **参数**：\n",
    "    - socket_family:选择地址族类型  \n",
    "        - AF_INET -> IPv4\n",
    "        - AF_INET6 -> IPv6\n",
    "    - socket_type:套接字类型 \n",
    "        - SOCK_STREAM 流式\n",
    "        - SOCK_DGRAM 数据报\n",
    "    - proto:选择子协议类型，通常为0\n",
    "- **返回值**：返回套接字对象\n",
    "    \n",
    "    \n",
    " \n",
    "### 2、绑定服务端地址\n",
    "\n",
    "        sockfd.bind(addr)\n",
    "\n",
    "- **功能**：绑定IP地址\n",
    "- **参数**：元组（ip，port）\n",
    "\n",
    "    - localhost    可以被本机用\n",
    "    - 127.0.0.1    同上\n",
    "    - 192.168.205.127   可以被所有人用192.168.205.127访问\n",
    "    - 0.0.0.0  可以被所有人用192.168.205.127访问；也可被自己用127.0.0.1访问\n",
    "\n",
    "\n",
    "### 3、设置监听套接字\n",
    "        sockfd.listen(n)\n",
    "- **功能**：将套接字设置为监听套接字，创建监听队列\n",
    "- **参数**：n 表示监听队列大小  \n",
    "**一个监听套接字可以连接多个客户端套接字**\n",
    "\n",
    "### 4、等待处理客户端连接请求\n",
    "        connfd, addr = sockfd.accept()\n",
    "- **功能**：阻塞等待处理客户端连接\n",
    "- **返回值**：\n",
    "    - connfd  客户端连接套接字\n",
    "    - addr    连接的客户端地址  \n",
    "**阻塞函数：程序运行过程中遇到阻塞函数则暂停运行，直到某种阻塞条件达成再继续运行**\n",
    "\n",
    "### 5、消息收发\n",
    "        data = connfd.recv(buffersize)\n",
    "- **功能**：接收对应客户端消息\n",
    "- **参数**：一次最多接收多少字节\n",
    "- **返回值**：接收到的内容  \n",
    "**如果没有消息则会阻塞**\n",
    "\n",
    "        n = connfd.send(data)\n",
    "- **功能**：发送消息给对应客户端\n",
    "- **参数**：要发送的内容，必须是bytes格式\n",
    "- **返回值**：返回实际发送消息的大小\n",
    "\n",
    "### 6、关闭套接字\n",
    "        sockfd.close()\n",
    "- **功能**：关闭套接字"
   ]
  },
  {
   "cell_type": "code",
   "execution_count": null,
   "metadata": {},
   "outputs": [],
   "source": [
    "# tcp_server.py\n",
    "from socket import * \n",
    "\n",
    "# 创建套接字\n",
    "sockfd = socket(AF_INET,SOCK_STREAM)\n",
    "\n",
    "# 绑定地址\n",
    "sockfd.bind(('0.0.0.0',9900))\n",
    "\n",
    "# 设置监听\n",
    "sockfd.listen(5)\n",
    "\n",
    "# 等待接受连接\n",
    "print(\"Waiting for connect...\")\n",
    "connfd,addr = sockfd.accept()\n",
    "print(\"Connect from\",addr)\n",
    "\n",
    "while True:\n",
    "    # 收发消息\n",
    "    data = connfd.recv(1024).decode()\n",
    "    if data == \"##\":\n",
    "        break\n",
    "    print(data)\n",
    "    n = connfd.send(b'Receive your message')\n",
    "    print(\"发送了%d字节\" % n)\n",
    "\n",
    "# 关闭套接字\n",
    "connfd.close()\n",
    "sockfd.close()\n",
    "\n",
    "# telnet macOS下载：https://blog.csdn.net/licheng70356213/article/details/81162660 \n",
    "# $ telnet 127.0.0.1 9996\n",
    "# Trying 127.0.0.1...\n",
    "# Connected to localhost.\n",
    "# Escape character is '^]'.\n",
    "# hello \n",
    "# Receive your messageConnection closed by foreign host."
   ]
  },
  {
   "cell_type": "markdown",
   "metadata": {},
   "source": [
    "## TCP套接字（流式套接字）*客户端编程*"
   ]
  },
  {
   "cell_type": "markdown",
   "metadata": {},
   "source": [
    "![jupyter](./IMGS/TCP_Client.PNG)\n",
    "\n",
    "- 创建套接字  \n",
    "   **必须相同类型的套接字才能通信**\n",
    "   \n",
    "- 建立连接\n",
    "       sockfd.connect(servr_addr)\n",
    "    - **功能**：建立连接\n",
    "    - **参数**：元组，服务端地址\n",
    "- 消息收发  \n",
    "   **消息收发要和服务端配合，避免两边都出现recv阻塞**\n",
    "- 关闭套接字"
   ]
  },
  {
   "cell_type": "code",
   "execution_count": null,
   "metadata": {},
   "outputs": [],
   "source": [
    "# tcp_client.py\n",
    "from socket import *\n",
    "\n",
    "# 创建套接字\n",
    "sockfd = socket(AF_INET,SOCK_STREAM)\n",
    "\n",
    "# 发起连接\n",
    "server_addr = ('192.168.207.129',9900)\n",
    "sockfd.connect(server_addr)\n",
    "\n",
    "while True:\n",
    "    # 消息发送接收\n",
    "    data = input(\"发送>>\")\n",
    "    sockfd.send(data.encode())\n",
    "    if data == '##':\n",
    "        break\n",
    "    data = sockfd.recv(1024)\n",
    "    print(\"接受到:\",data.decode())\n",
    "\n",
    "# 关闭套接字\n",
    "sockfd.close()"
   ]
  },
  {
   "cell_type": "markdown",
   "metadata": {},
   "source": [
    "## 套接字传输注意事项\n",
    "1. 监听套接字存在客户端即可发起连接，但是最终连接的处理需要**accept**进行处理\n",
    "2. 如果连接的另外一段退出，则**recv**会立即返回空子串不再阻塞。\n",
    "3. 当连接的另一端退出时，再试图**send**发送就会产生**BrokenPipeError**"
   ]
  },
  {
   "cell_type": "markdown",
   "metadata": {},
   "source": [
    "### 网络收发缓冲区\n",
    "- 缓冲区作用：\n",
    "    - 协调收发（处理）速度\n",
    "    - 减少交互次数\n",
    "\n",
    "send和recv实际上是和缓冲区进行交互，发送缓冲区满时就无法发送，接收缓冲区满时recv才阻塞\n",
    "\n",
    "```\n",
    "例如：connfd.recv(5)\n",
    "```\n",
    "若超过五个则会重复运行，直到发送完成\n",
    "\n",
    "### TCP粘包（消息粘连，不区分边界）\n",
    "- 产生原因：\n",
    "    - tcp套接字以字节流方式传输，没有消息边界\n",
    "    - 发送和接收并不能保证每次发送都及时的被接收\n",
    "\n",
    "- 影响：\n",
    "    - 如果每次发送内容表达一个独立的含义此时可能需要处理粘包防止产生歧义  \n",
    "\n",
    "\n",
    "- 处理方法：\n",
    "    1. 每次发送的消息添加结尾标志 （人为增加消息边界）\n",
    "    2. 发送数据结构体\n",
    "    3. 协调收发速度，每次发送后都预留接收时间"
   ]
  },
  {
   "cell_type": "markdown",
   "metadata": {},
   "source": [
    "## UDP套接字（数据报套接字）*服务端编程*"
   ]
  },
  {
   "attachments": {
    "image.png": {
     "image/png": "[encoded data removed]"
    }
   },
   "cell_type": "markdown",
   "metadata": {},
   "source": [
    "![image.png](attachment:image.png)\n",
    "### 1、创建数据报套接字\n",
    "    sockfd = socket(AF_INET,SOCK_DGRAM)\n",
    "\n",
    "### 2、绑定地址\n",
    "    sockfd.bind(addr)\n",
    "\n",
    "### 3、消息的收发\n",
    "    data,addr = sockfd.recvfrom(buffersize)\n",
    "    \n",
    "- **功能**：接收UDP消息\n",
    "- **参数**：每次最多接收多大的消息\n",
    "- **返回值**：\n",
    "    - data接收到的数据\n",
    "    - addr消息发送端的地址\n",
    "\n",
    "**一次接收一个数据报，如果数据报大小大于buffersize则会丢失部分消息**\n",
    "\n",
    "    sockfd.sendto(data,addr)\n",
    "- **功能**：发送udp消息\n",
    "- **参数**：\n",
    "    - data发送的消息\n",
    "    - addr目标地址\n",
    "- **返回值**：发送的字节数\n",
    "\n",
    "### 4、关闭套接字\n",
    "    sockfd.close()\n"
   ]
  },
  {
   "cell_type": "code",
   "execution_count": null,
   "metadata": {},
   "outputs": [],
   "source": [
    "from socket import *\n",
    "\n",
    "#创建数据报套接字\n",
    "sockfd = socket(AF_INET,SOCK_DGRAM)\n",
    "\n",
    "#绑定服务端地址\n",
    "server_addr = ('0.0.0.0',9999)\n",
    "sockfd.bind(server_addr)\n",
    "\n",
    "#消息收发\n",
    "while True:\n",
    "    data,addr = sockfd.recvfrom(5)\n",
    "    print(\"Receive from %s:%s\"%\\\n",
    "        (addr,data.decode()))\n",
    "    sockfd.sendto('收到你的消息'.encode(),addr)\n",
    "\n",
    "sockfd.close()"
   ]
  },
  {
   "cell_type": "markdown",
   "metadata": {},
   "source": [
    "## UDP套接字（数据报套接字）*客户端编程*"
   ]
  },
  {
   "cell_type": "markdown",
   "metadata": {},
   "source": [
    "1. 创建套接字 \n",
    "       socket(AF_INET,SOCK_DGRAM)\n",
    "2. 消息收发\n",
    "       recvfrom/sendto\n",
    "3. 关闭套接字\n",
    "       close（）"
   ]
  },
  {
   "cell_type": "markdown",
   "metadata": {},
   "source": [
    "## sys补充\n",
    "1. sys.argv 属性\n",
    "    - 功能 ： 获取命令行参数，得到一个列表\n",
    "    - 命令本身是 argv[0]\n",
    "    - 后面的参数从argv[1]开始，默认以空格分隔\n",
    "    - 使用引号引起来的内容算作一个整体\n",
    "    - 命令行参数都以字符串放入列表  \n",
    "    例如：\n",
    "    ``` \n",
    "     $ python udp_clinet.py 123 321\n",
    "     > sys.argv = ['udp_clinet.py','123', '321']```\n",
    "\n",
    "\n",
    "2. 直接执行程序\n",
    "在程序的第一行加\n",
    "#!/usr/bin/env python3\n",
    "添加程序的执行权限\n",
    "chmod  755  file.py\n",
    "修改后即可通过 ./file.py  运行程序"
   ]
  },
  {
   "cell_type": "code",
   "execution_count": null,
   "metadata": {},
   "outputs": [],
   "source": [
    "from socket import * \n",
    "import sys \n",
    "\n",
    "if len(sys.argv) < 3:\n",
    "    print('''\n",
    "        argv is error!\n",
    "        run as \n",
    "        python3 udp_client.py 127.0.0.1 9999\n",
    "        ''')\n",
    "    raise \n",
    "\n",
    "#从命令行输入IP,端口\n",
    "HOST = sys.argv[1]\n",
    "PORT = int(sys.argv[2])\n",
    "ADDR = (HOST,PORT)\n",
    "\n",
    "#创建套接字\n",
    "sockfd = socket(AF_INET,SOCK_DGRAM)\n",
    "\n",
    "#消息收发\n",
    "while True:\n",
    "    data = input(\"消息:\")\n",
    "    if not data:\n",
    "        break\n",
    "    sockfd.sendto(data.encode(),ADDR)\n",
    "    data,addr = sockfd.recvfrom(1024)\n",
    "    print(\"从服务器收到:\",data.decode())\n",
    "sockfd.close()"
   ]
  },
  {
   "cell_type": "markdown",
   "metadata": {},
   "source": [
    "## TCP套接字编程和UDP套接字编程区别\n",
    "1. 流式套接字使用**字节流**的方式传输，数据报套接字以**数据报**形式传输数据\n",
    "2. tcp会有**粘包**现象，udp有消息边界不会形成粘包\n",
    "3. tcp可以保障数据传输**完整性**，udp则不保证\n",
    "4. tcp需要进行**listen accept**操作，udp不需要\n",
    "5. tcp收发消息使用新的套接字，**recv send**；udp使用**recvfrom sendto**"
   ]
  },
  {
   "cell_type": "markdown",
   "metadata": {},
   "source": [
    "## 补充函数\n",
    "    sendall(data)\n",
    "- 功能 ： 发送tcp消息\n",
    "- 参数 ： 要发送的内容，bytes格式\n",
    "- 返回值 ： 成功返回 None 失败产生异常"
   ]
  },
  {
   "attachments": {
    "image.png": {
     "image/png": "[encoded data removed]"
    }
   },
   "cell_type": "markdown",
   "metadata": {},
   "source": [
    "# 套接字对象 \n",
    "\n",
    "- s.family:获取套接字地址族类型\n",
    "- s.type:获取套接字类型\n",
    "- s.getsockname():获取套接字的绑定地址\n",
    "- s.fileno():获取套接字的文件描述符\n",
    "    - 文件描述符：每一个IO事件操作系统都会分配一个不同的正整数作为编号，改正整数即为这个IO的文件描述符。\n",
    "\n",
    "**文件描述符是操作系统识别IO的唯一标志**\n",
    "\n",
    "        stdin ---> 0\n",
    "        stdout --> 1\n",
    "        stderr --> 2\n",
    "\n",
    "- s.getpeername():获取客户端连接套接字的对应地址\n",
    "\n",
    "- s.setsockopt(level,option,value)\n",
    "    - 功能：设置套接字选项，丰富或者修改套接字属性功能\n",
    "    - 参数： \n",
    "        - level 选项类别   SOL_SOCKET\n",
    "        - option 具体选项\n",
    "        - value  选项值\n",
    "![image.png](attachment:image.png)\n",
    "\n",
    "- s.getsockopt(level,option)\n",
    "    - 功能：获取套接字选项值\n",
    "    - 参数： \n",
    "        - level 选项类别   SOL_SOCKET\n",
    "        - option 具体选项\n",
    "    - 返回值：选项值\n",
    "\n",
    "**如果要设置套接字选项，最好在创建套接字之后立即设置**"
   ]
  },
  {
   "cell_type": "code",
   "execution_count": null,
   "metadata": {},
   "outputs": [],
   "source": [
    "from socket import * \n",
    "\n",
    "s = socket()\n",
    "\n",
    "#设置端口立即释放\n",
    "s.setsockopt(SOL_SOCKET,SO_REUSEADDR,1)\n",
    "\n",
    "#获取套接字选项值\n",
    "print(s.getsockopt(SOL_SOCKET,SO_REUSEADDR))\n",
    "\n",
    "#获取套接字地址族类型\n",
    "print(s.family)\n",
    "\n",
    "#获取套接字类型\n",
    "print(s.type)\n",
    "\n",
    "s.bind(('127.0.0.1',9998))\n",
    "#获取绑定地址\n",
    "print(s.getsockname())\n",
    "\n",
    "#获取套接字文件描述符\n",
    "print(s.fileno())\n",
    "\n",
    "s.listen(5)\n",
    "\n",
    "while True:\n",
    "    c,addr = s.accept()\n",
    "    print(\"Connect from\",c.getpeername())\n",
    "    c.recv(1024)"
   ]
  }
 ],
 "metadata": {
  "kernelspec": {
   "display_name": "Python 3",
   "language": "python",
   "name": "python3"
  },
  "language_info": {
   "codemirror_mode": {
    "name": "ipython",
    "version": 3
   },
   "file_extension": ".py",
   "mimetype": "text/x-python",
   "name": "python",
   "nbconvert_exporter": "python",
   "pygments_lexer": "ipython3",
   "version": "3.7.1"
  }
 },
 "nbformat": 4,
 "nbformat_minor": 2
}
