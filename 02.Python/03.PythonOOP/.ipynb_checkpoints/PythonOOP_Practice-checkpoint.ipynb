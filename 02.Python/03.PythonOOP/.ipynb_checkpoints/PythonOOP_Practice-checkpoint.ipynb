{
 "cells": [
  {
   "cell_type": "markdown",
   "metadata": {},
   "source": [
    "# 练习1："
   ]
  },
  {
   "cell_type": "markdown",
   "metadata": {},
   "source": [
    "定义一个学生的类：\n",
    "\n",
    "\n",
    "        class Student:\n",
    "        \n",
    "            def set_info(self, name, age):\n",
    "                '''此方法用来给学生对象添加'姓名'和'年龄'属性'''\n",
    "                # 此处自己实现\n",
    "                \n",
    "            def show_info(self):\n",
    "                '''此处显示学生信息'''\n",
    "                \n",
    "如：\n",
    "\n",
    "s1 = Student()  \n",
    "s1.set_info('小张', 20)  \n",
    "s2 = Student()  \n",
    "s2.set_info(‘小李', 18)  \n",
    "s1.show_info() # 小张 今年 20 岁  \n",
    "s2.show_info() # 小李 今年 18 岁  "
   ]
  },
  {
   "cell_type": "code",
   "execution_count": 3,
   "metadata": {},
   "outputs": [
    {
     "name": "stdout",
     "output_type": "stream",
     "text": [
      "小张 今年 20 岁\n",
      "小李 今年 18 岁\n"
     ]
    }
   ],
   "source": [
    "class Student:\n",
    "    \n",
    "    def set_info(self, name, age=0):\n",
    "        '''此方法用来给学生对象添加'姓名'和'年龄'属性'''\n",
    "        self.name = name\n",
    "        self.age = age\n",
    "    \n",
    "    def show_info(self):\n",
    "        print(self.name, '今年', self.age, '岁')\n",
    "\n",
    "s1 = Student()  \n",
    "s1.set_info('小张', 20)  \n",
    "s2 = Student()  \n",
    "s2.set_info('小李', 18)  \n",
    "s1.show_info()\n",
    "s2.show_info() "
   ]
  },
  {
   "cell_type": "markdown",
   "metadata": {},
   "source": [
    "# 练习2"
   ]
  },
  {
   "cell_type": "markdown",
   "metadata": {},
   "source": [
    "修改之前的Student类：\n",
    "1. 为该类添加初始化方法，实现在创建对象时自动设置\"姓名\"\"年龄\"\"成绩\"属性\n",
    "2. 添加set_score方法能为对象修改成绩信息\n",
    "3. 添加show_info方法打印学生对象的信息"
   ]
  },
  {
   "cell_type": "code",
   "execution_count": 7,
   "metadata": {},
   "outputs": [
    {
     "name": "stdout",
     "output_type": "stream",
     "text": [
      "蔚蔚 今年 22 岁，成绩是： 100 分\n",
      "蔚蔚 今年 22 岁，成绩是： 99 分\n"
     ]
    }
   ],
   "source": [
    "class Student:\n",
    "    def __init__(self, n, a, s):\n",
    "        self.name = n\n",
    "        self.age = a\n",
    "        self.score = s\n",
    "        \n",
    "    def set_score(self, s):\n",
    "        '''为对象修改成绩信息'''\n",
    "        self.score = s\n",
    "        \n",
    "    def show_info(self):\n",
    "        print(self.name, '今年', self.age, '岁，成绩是：', self.score, '分')\n",
    "\n",
    "s = Student('蔚蔚', 22, 100)\n",
    "s.show_info()\n",
    "s.set_score(99)\n",
    "s.show_info()"
   ]
  },
  {
   "cell_type": "markdown",
   "metadata": {},
   "source": [
    "# 练习3：学生管理系统（类）"
   ]
  },
  {
   "cell_type": "markdown",
   "metadata": {},
   "source": [
    "原学生管理系统使用字典储存，现在改用对象进行储存，  \n",
    "要求定义Student类来封装学生的信息和行为"
   ]
  },
  {
   "cell_type": "code",
   "execution_count": 8,
   "metadata": {},
   "outputs": [
    {
     "data": {
      "text/plain": [
       "'/Users/haoen110/Documents/DataScienceLearning/Python Learning/03.PythonOOP'"
      ]
     },
     "execution_count": 8,
     "metadata": {},
     "output_type": "execute_result"
    }
   ],
   "source": [
    "pwd"
   ]
  },
  {
   "cell_type": "code",
   "execution_count": null,
   "metadata": {},
   "outputs": [],
   "source": []
  }
 ],
 "metadata": {
  "kernelspec": {
   "display_name": "Python 3",
   "language": "python",
   "name": "python3"
  },
  "language_info": {
   "codemirror_mode": {
    "name": "ipython",
    "version": 3
   },
   "file_extension": ".py",
   "mimetype": "text/x-python",
   "name": "python",
   "nbconvert_exporter": "python",
   "pygments_lexer": "ipython3",
   "version": "3.7.1"
  }
 },
 "nbformat": 4,
 "nbformat_minor": 2
}
