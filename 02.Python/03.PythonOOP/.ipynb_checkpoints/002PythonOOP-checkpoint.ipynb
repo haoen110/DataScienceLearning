{
 "cells": [
  {
   "cell_type": "markdown",
   "metadata": {},
   "source": [
    "# Python面向对象编程2\n",
    "---"
   ]
  },
  {
   "cell_type": "markdown",
   "metadata": {},
   "source": [
    "## 面向过程的编程语言的特征：\n",
    "- 继承\n",
    "- 封装\n",
    "- 多态\n",
    "    - 如：C++ / Java / Python / Swift / C#\n",
    "    - 如：C仅仅为面向过程"
   ]
  },
  {
   "cell_type": "markdown",
   "metadata": {},
   "source": [
    "# inheritance 继承 drived 派生"
   ]
  },
  {
   "cell_type": "markdown",
   "metadata": {},
   "source": [
    "- 概念：\n",
    "    - **继承**是指从已有的类中衍生出新类，新类具有原类的行为，并能扩展新的行为\n",
    "    - **派生**就是从一个已有的衍生（创建）新类，在新类上可以田间新的属性的行为\n",
    "\n",
    "- 目的：\n",
    "    - **继承**是延续旧类的功能\n",
    "    - **派生**是为了在旧类的基础上添加新的功能\n",
    "    \n",
    "- 作用：\n",
    "    - 用继承派生机制，可以将一些共有功能加在基类中，实现代码的共享\n",
    "    - 在不改变基类的基础上改变原有功能\n",
    "    \n",
    "- 名词：\n",
    "    - 基类(base class)\n",
    "    - 超类(super class)\n",
    "    - 父类(father class)\n",
    "    - 派生类(derived class)\n",
    "    - 子类(child class)\n",
    "\n",
    "- 说明：\n",
    "    - 任何类都直接或间接继承自object类\n",
    "    - object类是一切类的超类（祖类）不写相当于def Human(object):...\n",
    "    - **类的```__base__```属性**用来记录此类的基类\n",
    "    ```Human.__base__```"
   ]
  },
  {
   "cell_type": "markdown",
   "metadata": {},
   "source": [
    "## 单继承"
   ]
  },
  {
   "cell_type": "markdown",
   "metadata": {},
   "source": [
    "- 语法：\n",
    "\n",
    "```class 类名(基类名):\n",
    "    语句块```\n",
    "    \n",
    "- 说明：\n",
    "    - 单继承是派生类由一个基类衍生出来的类"
   ]
  },
  {
   "cell_type": "code",
   "execution_count": 8,
   "metadata": {},
   "outputs": [
    {
     "name": "stdout",
     "output_type": "stream",
     "text": [
      "\n",
      "-----人类-----\n",
      "说： 今天天气真热\n",
      "走了： 5 公里\n",
      "\n",
      "-----学生-----\n",
      "说： 今天天气真热\n",
      "走了： 6 公里\n",
      "正在学习 Python\n",
      "\n",
      "-----教师-----\n",
      "说： 明天就星期六啦\n",
      "走了： 8 公里\n",
      "正在教 OOP\n",
      "正在学习 Piano\n"
     ]
    }
   ],
   "source": [
    "# 此示例示意继承和派生\n",
    "class Human:\n",
    "    '''此类用来描述人类的共性行为'''\n",
    "    def say(self, that):\n",
    "        print(\"说：\", that)\n",
    "    def walk(self, distance):\n",
    "        print(\"走了：\", distance, \"公里\")\n",
    "        \n",
    "print(\"\\n-----人类-----\")        \n",
    "h1 = Human()\n",
    "h1.say(\"今天天气真热\")\n",
    "h1.walk(5)\n",
    "\n",
    "class Student(Human):\n",
    "    def study(self, subject):\n",
    "        print(\"正在学习\", subject)\n",
    "\n",
    "print(\"\\n-----学生-----\")\n",
    "s1 = Student()\n",
    "s1.say(\"今天天气真热\")\n",
    "s1.walk(6)\n",
    "s1.study(\"Python\")\n",
    "\n",
    "class Teacher(Student):\n",
    "    def teach(self, subject):\n",
    "        print(\"正在教\", subject)\n",
    "\n",
    "print(\"\\n-----教师-----\")\n",
    "t1 = Teacher()\n",
    "t1.say(\"明天就星期六啦\")\n",
    "t1.walk(8)\n",
    "t1.teach(\"OOP\")\n",
    "t1.study(\"Piano\")"
   ]
  },
  {
   "cell_type": "markdown",
   "metadata": {},
   "source": [
    "## override 覆盖"
   ]
  },
  {
   "cell_type": "markdown",
   "metadata": {},
   "source": [
    "- 概念：\n",
    "    - 覆盖是指在有继承关系的子类中，子类中实现了与基类同名的方法，在子类实例调用该方法时，实例调用的是子类中的覆盖版本的方法，这种现象叫做覆盖\n",
    "\n",
    "- 子类对象显式调用基类方法的方式：\n",
    "    - ```基类名.方法名(实例, 实际调用传参)```"
   ]
  },
  {
   "cell_type": "code",
   "execution_count": 13,
   "metadata": {},
   "outputs": [
    {
     "name": "stdout",
     "output_type": "stream",
     "text": [
      "B.work()被调用\n",
      "A.work()被调用\n",
      "A.work()被调用\n"
     ]
    }
   ],
   "source": [
    "# 此示例示意覆盖的用法\n",
    "class A:\n",
    "    def work(self):\n",
    "        print(\"A.work()被调用\")\n",
    "\n",
    "class B(A):\n",
    "    '''B类继承自A类'''\n",
    "    def work(self):  # 在这里覆盖了A类的work方法\n",
    "        print(\"B.work()被调用\")\n",
    "    pass\n",
    "\n",
    "b = B()\n",
    "b.work()\n",
    "\n",
    "a = A()\n",
    "a.work()\n",
    "\n",
    "b.__class__.__base__.work(b)"
   ]
  },
  {
   "cell_type": "markdown",
   "metadata": {},
   "source": [
    "## super 函数"
   ]
  },
  {
   "cell_type": "markdown",
   "metadata": {},
   "source": [
    "super(type, obj) 返回绑定超类的实例  \n",
    "super(  ) 返回绑定超类的实例，等同于```super(__class__, 实例方法的第一个参数)```（必须在方法内调用）"
   ]
  },
  {
   "cell_type": "code",
   "execution_count": 18,
   "metadata": {},
   "outputs": [
    {
     "name": "stdout",
     "output_type": "stream",
     "text": [
      "A.work()被调用\n",
      "A.work()被调用\n"
     ]
    }
   ],
   "source": [
    "# 此示例示意super函数来调用父类覆盖的用法\n",
    "class A:\n",
    "    def work(self):\n",
    "        print(\"A.work()被调用\")\n",
    "\n",
    "class B(A):\n",
    "    '''B类继承自A类'''\n",
    "    def work(self):  \n",
    "        print(\"B.work()被调用\")\n",
    "    \n",
    "    def super_work(self):\n",
    "        # self.work() # B.work()被调用\n",
    "        \n",
    "        # super(B, self).work() # A.work()被调用\n",
    "        # super(__class__, self).work() # 在类内__class__可以直接用\n",
    "        # super().work()\n",
    "b = B()\n",
    "super(B, b).work() # 调用超类\n",
    "b.super_work()\n"
   ]
  },
  {
   "cell_type": "markdown",
   "metadata": {},
   "source": [
    "## 显式调用基类的\\_\\_init\\_\\_初始化方法：\n",
    "- 当子类中实现了`__init__`方法时，基类的`__init__`方法并不会被自动调用，此时需要显式调用"
   ]
  },
  {
   "cell_type": "code",
   "execution_count": 1,
   "metadata": {},
   "outputs": [
    {
     "name": "stdout",
     "output_type": "stream",
     "text": [
      "姓名： 小赵\n",
      "年龄： 20\n",
      "姓名： 小张\n",
      "年龄： 18\n",
      "成绩： 100\n"
     ]
    }
   ],
   "source": [
    "# 此实例示意子类对象用super方法显式调用基类__init__方法\n",
    "class Human:\n",
    "    def __init__(self, n, a):\n",
    "        '''此方法为人的对象添加，姓名和年龄属性'''\n",
    "        self.name = n\n",
    "        self.age = a\n",
    "    \n",
    "    def infos(self):\n",
    "        print(\"姓名：\", self.name)\n",
    "        print(\"年龄：\", self.age)\n",
    "\n",
    "class Student(Human):\n",
    "    def __init__(self, n, a, s):\n",
    "        super().__init__(n, a)\n",
    "        self.score = s\n",
    "    \n",
    "    def infos(self):\n",
    "        super().infos()\n",
    "        print(\"成绩：\", self.score)\n",
    "        \n",
    "        \n",
    "h1 = Human(\"小赵\", 20)\n",
    "h1.infos()\n",
    "\n",
    "s1 = Student('小张', 18, 100)\n",
    "s1.infos()\n",
    "        \n"
   ]
  },
  {
   "cell_type": "markdown",
   "metadata": {},
   "source": [
    "## issubclass 判断派生子类"
   ]
  },
  {
   "cell_type": "markdown",
   "metadata": {},
   "source": [
    "- 语法：  \n",
    "    ```issubclass(cls, class_or_tuple)```  \n",
    "     判断一个类是否继承自其他类，如果此类cls是class或tuple中的一个派生子类，则返回True，否则返回False\n",
    "     \n",
    " \n",
    "- 查看内建类的属性：`help(__builtins__)`"
   ]
  },
  {
   "cell_type": "code",
   "execution_count": 6,
   "metadata": {},
   "outputs": [
    {
     "name": "stdout",
     "output_type": "stream",
     "text": [
      "True\n",
      "True\n",
      "True\n",
      "False\n",
      "True\n"
     ]
    }
   ],
   "source": [
    "class A:\n",
    "    pass\n",
    "class B(A):\n",
    "    pass\n",
    "class C(B):\n",
    "    pass\n",
    "print(issubclass(C, B))\n",
    "print(issubclass(C, A))\n",
    "print(issubclass(C, object))\n",
    "print(issubclass(C, (int, str)))\n",
    "print(issubclass(C, (int, str, A)))"
   ]
  },
  {
   "cell_type": "markdown",
   "metadata": {},
   "source": [
    "## enclosure 封装"
   ]
  },
  {
   "cell_type": "markdown",
   "metadata": {},
   "source": [
    "- 封装是指隐藏类的实现细节，让使用者不用关心这些细节，封装的目的是让使用者尽可能少的实例变量（属性）进行操作\n",
    "    - 私有属性：python类中，以双线划线'\\_\\_'开头，不以双下划线结尾的标识符为私有成员，以类的外部无法直接访问"
   ]
  },
  {
   "cell_type": "code",
   "execution_count": 17,
   "metadata": {},
   "outputs": [
    {
     "name": "stdout",
     "output_type": "stream",
     "text": [
      "100\n"
     ]
    },
    {
     "ename": "AttributeError",
     "evalue": "'A' object has no attribute '__m1'",
     "output_type": "error",
     "traceback": [
      "\u001b[0;31m---------------------------------------------------------------------------\u001b[0m",
      "\u001b[0;31mAttributeError\u001b[0m                            Traceback (most recent call last)",
      "\u001b[0;32m<ipython-input-17-a71fa418a07d>\u001b[0m in \u001b[0;36m<module>\u001b[0;34m\u001b[0m\n\u001b[1;32m     12\u001b[0m \u001b[0ma\u001b[0m \u001b[0;34m=\u001b[0m \u001b[0mA\u001b[0m\u001b[0;34m(\u001b[0m\u001b[0;34m)\u001b[0m\u001b[0;34m\u001b[0m\u001b[0;34m\u001b[0m\u001b[0m\n\u001b[1;32m     13\u001b[0m \u001b[0ma\u001b[0m\u001b[0;34m.\u001b[0m\u001b[0mtest\u001b[0m\u001b[0;34m(\u001b[0m\u001b[0;34m)\u001b[0m\u001b[0;34m\u001b[0m\u001b[0;34m\u001b[0m\u001b[0m\n\u001b[0;32m---> 14\u001b[0;31m \u001b[0ma\u001b[0m\u001b[0;34m.\u001b[0m\u001b[0m__m1\u001b[0m\u001b[0;34m(\u001b[0m\u001b[0;34m)\u001b[0m\u001b[0;34m\u001b[0m\u001b[0;34m\u001b[0m\u001b[0m\n\u001b[0m\u001b[1;32m     15\u001b[0m \u001b[0mprint\u001b[0m\u001b[0;34m(\u001b[0m\u001b[0ma\u001b[0m\u001b[0;34m.\u001b[0m\u001b[0m__p1\u001b[0m\u001b[0;34m)\u001b[0m \u001b[0;31m# 在类外看不到__p1属性，访问失败\u001b[0m\u001b[0;34m\u001b[0m\u001b[0;34m\u001b[0m\u001b[0m\n",
      "\u001b[0;31mAttributeError\u001b[0m: 'A' object has no attribute '__m1'"
     ]
    }
   ],
   "source": [
    "# 此示例示意使用私有属性和私有方法：\n",
    "class A:\n",
    "    def __init__(self):\n",
    "        self.__p1 = 100 # __p1为私有属性，在类的外部不可调用\n",
    "        \n",
    "    def test(self):\n",
    "        print(self.__p1)\n",
    "        \n",
    "    def __m1(self):\n",
    "        print(\"我是A类的__m1方法\")\n",
    "        \n",
    "a = A()\n",
    "a.test()\n",
    "a.__m1() # 在类调用不了__m1方法，访问失败\n",
    "print(a.__p1) # 在类外看不到__p1属性，访问失败"
   ]
  },
  {
   "cell_type": "markdown",
   "metadata": {},
   "source": [
    "## ploymorphic 多态"
   ]
  },
  {
   "cell_type": "markdown",
   "metadata": {},
   "source": [
    "- 字面意思：“多种状态”\n",
    "\n",
    "\n",
    "- 多态是指在继承/派生关系的类中，调用基类对象的方法，实际能调用子类的覆盖版本方法的现象叫多态\n",
    "\n",
    "\n",
    "- 说明：\n",
    "    - 多态调用的方法与对象相关，不与类型相关\n",
    "    - Python的全部对象只有“运行时状态（动态）”，没有“C++/Java”里的编译时状态（静态）"
   ]
  },
  {
   "cell_type": "code",
   "execution_count": 20,
   "metadata": {},
   "outputs": [
    {
     "name": "stdout",
     "output_type": "stream",
     "text": [
      "正在画一个圈\n",
      "正在画一个点\n"
     ]
    }
   ],
   "source": [
    "class Shape():\n",
    "    def draw(self):\n",
    "        print(\"Shape.draw被调用\")\n",
    "    \n",
    "class Point(Shape):\n",
    "    def draw(self):\n",
    "        print(\"正在画一个点\")\n",
    "\n",
    "class Circle(Point):\n",
    "    def draw(self):\n",
    "        print(\"正在画一个圈\")\n",
    "\n",
    "def my_draw(s):\n",
    "    s.draw() # 此处显示出多态的动态\n",
    "    \n",
    "# def my_draw(Circle s) # 在其他语言中，例如这样就是所谓的静态，在编译阶段规定类\n",
    "#     s.draw()\n",
    "\n",
    "s1 = Circle()\n",
    "s2 = Point()\n",
    "my_draw(s1)\n",
    "my_draw(s2)"
   ]
  },
  {
   "cell_type": "markdown",
   "metadata": {},
   "source": [
    "## 编程语言的特征：\n",
    "- 继承\n",
    "- 封装\n",
    "- 多态\n",
    "    - 如：C++ / Java / Python / Swift / C#"
   ]
  },
  {
   "cell_type": "markdown",
   "metadata": {},
   "source": [
    "## multiple inheritance 多继承"
   ]
  },
  {
   "cell_type": "markdown",
   "metadata": {},
   "source": [
    "- 多继承是指一个子类继承自两个或两个以上的基类\n",
    "\n",
    "\n",
    "- 只有C++和Python支持多继承\n",
    "\n",
    "\n",
    "- 语法：  \n",
    "`class 类名(基类名1, 基类名2, ...):\n",
    "    语句块`\n",
    "\n",
    "\n",
    "- 说明：\n",
    "    - 一个子类同时继承自多个父类，父类中的方法可以同时被继承下来\n",
    "    - 如果两个父类中有同名的方法，而在子类中由没有覆盖此方法时，调用结果难以确定"
   ]
  },
  {
   "cell_type": "code",
   "execution_count": 22,
   "metadata": {},
   "outputs": [
    {
     "name": "stdout",
     "output_type": "stream",
     "text": [
      "飞机以海拔 10000 的高度飞行\n",
      "汽车以 50 公里/小时的速度行驶\n"
     ]
    }
   ],
   "source": [
    "# 此示例示意多继承的语句和使用\n",
    "class Car:\n",
    "    def run(self, speed):\n",
    "        print(\"汽车以\", speed, \"公里/小时的速度行驶\")\n",
    "\n",
    "class Plane:\n",
    "    def fly(self, height):\n",
    "        print(\"飞机以海拔\", height, \"的高度飞行\")\n",
    "\n",
    "class PlaneCar(Car, Plane):\n",
    "    pass\n",
    "\n",
    "p1 = PlaneCar()\n",
    "p1.fly(10000)\n",
    "p1.run(50)"
   ]
  },
  {
   "cell_type": "markdown",
   "metadata": {},
   "source": [
    "- 缺陷：\n",
    "    - 标识符（名字空间冲突问题）\n",
    "        - 谨慎使用"
   ]
  },
  {
   "cell_type": "code",
   "execution_count": 23,
   "metadata": {},
   "outputs": [
    {
     "name": "stdout",
     "output_type": "stream",
     "text": [
      "A.m()被调用\n"
     ]
    }
   ],
   "source": [
    "class A:\n",
    "    def m(self):\n",
    "        print(\"A.m()被调用\")\n",
    "\n",
    "class B:\n",
    "    def m(self):\n",
    "        print(\"B.m()被调用\")\n",
    "        \n",
    "class AB(A, B):\n",
    "    pass\n",
    "\n",
    "ab = AB()\n",
    "ab.m()"
   ]
  },
  {
   "cell_type": "markdown",
   "metadata": {},
   "source": [
    "## MRO ( Method Resolution Order) 问题\n",
    "- 类内的\\_\\_mro\\_\\_属性用来记录继承方法的查找顺序"
   ]
  },
  {
   "cell_type": "code",
   "execution_count": 28,
   "metadata": {},
   "outputs": [
    {
     "name": "stdout",
     "output_type": "stream",
     "text": [
      "(<class '__main__.D'>, <class '__main__.B'>, <class '__main__.C'>, <class '__main__.A'>, <class 'object'>)\n",
      "D.m\n",
      "B.m\n",
      "C.m\n"
     ]
    }
   ],
   "source": [
    "# 此示例示意在多继承方法中的方法查找顺序问题\n",
    "class A:\n",
    "    def m(self):\n",
    "        print(\"A.m\")\n",
    "\n",
    "class B(A):\n",
    "    def m(self):\n",
    "        print(\"B.m\")\n",
    "        super().m()\n",
    "        \n",
    "class C(A):\n",
    "    def m(self):\n",
    "        print(\"C.m\")        \n",
    "        \n",
    "class D(B, C):\n",
    "    def m(self):\n",
    "        print(\"D.m\")    \n",
    "        super().m() ##\n",
    "        \n",
    "d = D()\n",
    "print(D.__mro__)\n",
    "d.m()"
   ]
  }
 ],
 "metadata": {
  "kernelspec": {
   "display_name": "Python 3",
   "language": "python",
   "name": "python3"
  },
  "language_info": {
   "codemirror_mode": {
    "name": "ipython",
    "version": 3
   },
   "file_extension": ".py",
   "mimetype": "text/x-python",
   "name": "python",
   "nbconvert_exporter": "python",
   "pygments_lexer": "ipython3",
   "version": "3.7.1"
  }
 },
 "nbformat": 4,
 "nbformat_minor": 2
}
