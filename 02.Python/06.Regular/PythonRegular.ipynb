{
 "cells": [
  {
   "cell_type": "markdown",
   "metadata": {},
   "source": [
    "# 正则表达式\n",
    "\n",
    "- 动机\n",
    "    - 文本处理已经成为计算机的常见工作之一\n",
    "    - 对文本内容的搜索，定位，提取是逻辑比较复杂的工作\n",
    "    - 为了快速解决上述问题，产生了正则表达式技术\n",
    "- 定义\n",
    "    - 即文本的高级匹配模式，提供搜索，替代等功能。其本质是一系列由特殊符号组成的字串，这个字串即正则表达式。\n",
    "- 匹配原理\n",
    "    - 由普通字符和特殊符号组成字符串，通过描述字符的重复和位置等行为，达到匹配某一类字符串的目的\n",
    "- 目标\n",
    "    1. 熟练掌握正则表达式符号\n",
    "    2. 实现基本的文本搜索，定位，提取，理解正则用法\n",
    "    3. 能够适用re模块操作正则表达式\n",
    "- 特点\n",
    "    - 方便文本处理\n",
    "    - 支持语言众多\n",
    "    - 使用灵活多样"
   ]
  },
  {
   "cell_type": "markdown",
   "metadata": {},
   "source": [
    "## re模块 \n",
    "\n",
    "- `re.findall(pattern, string)`\n",
    "    - 功能：使用正则表达式匹配目标字符串内容\n",
    "    - 参数：\n",
    "        - pattern  正则表达式\n",
    "        - string   目标字符串\n",
    "    - 返回值：列表，列表中为匹配到的内容"
   ]
  },
  {
   "cell_type": "markdown",
   "metadata": {},
   "source": [
    "## 元字符的使用\n",
    "\n",
    "### 1. 普通字符\n",
    "- 元字符：a b c...\n",
    "- 匹配规则：每个字符匹配对应的字符"
   ]
  },
  {
   "cell_type": "code",
   "execution_count": 2,
   "metadata": {},
   "outputs": [
    {
     "data": {
      "text/plain": [
       "['hello']"
      ]
     },
     "execution_count": 2,
     "metadata": {},
     "output_type": "execute_result"
    }
   ],
   "source": [
    "import re\n",
    "re.findall(\"hello\", \"hello world\")"
   ]
  },
  {
   "cell_type": "code",
   "execution_count": 3,
   "metadata": {},
   "outputs": [
    {
     "data": {
      "text/plain": [
       "['您好']"
      ]
     },
     "execution_count": 3,
     "metadata": {},
     "output_type": "execute_result"
    }
   ],
   "source": [
    "re.findall(\"您好\", \"您好北京\")"
   ]
  },
  {
   "cell_type": "markdown",
   "metadata": {},
   "source": [
    "### 2. 或\n",
    "- 元字符：|\n",
    "- 匹配规则：匹配 | 两边任意一个正则表达式"
   ]
  },
  {
   "cell_type": "code",
   "execution_count": 8,
   "metadata": {},
   "outputs": [
    {
     "name": "stdout",
     "output_type": "stream",
     "text": [
      "['ab', 'cd']\n",
      "['abc']\n"
     ]
    }
   ],
   "source": [
    "print(re.findall(\"ab|cd\", \"abcdefghijk\"))\n",
    "print(re.findall(\"abc|cde\", \"abcdefghijk\")) # 不匹配已经匹配过的"
   ]
  },
  {
   "cell_type": "markdown",
   "metadata": {},
   "source": [
    "### 3. 匹配单个字符\n",
    "- 元字符：  . \n",
    "- 匹配规则：匹配除换行外的任意字符  \n",
    "f.o --> foo  fao  f@o  f o"
   ]
  },
  {
   "cell_type": "code",
   "execution_count": 6,
   "metadata": {},
   "outputs": [
    {
     "data": {
      "text/plain": [
       "['foo', 'fao', 'f o', 'f@o']"
      ]
     },
     "execution_count": 6,
     "metadata": {},
     "output_type": "execute_result"
    }
   ],
   "source": [
    "re.findall(\"f.o\", \"foo is not fao f o f@o\")"
   ]
  },
  {
   "cell_type": "markdown",
   "metadata": {},
   "source": [
    "### 4. 匹配开始位置\n",
    "- 元字符 ： ^ \n",
    "- 匹配规则：匹配目标字符串的开头位置"
   ]
  },
  {
   "cell_type": "code",
   "execution_count": 11,
   "metadata": {},
   "outputs": [
    {
     "data": {
      "text/plain": [
       "['Tom ']"
      ]
     },
     "execution_count": 11,
     "metadata": {},
     "output_type": "execute_result"
    }
   ],
   "source": [
    "re.findall(\"^Tom\", \"Tom is a boy\")"
   ]
  },
  {
   "cell_type": "markdown",
   "metadata": {},
   "source": [
    "### 5. 匹配结束位置\n",
    "- 元字符 ： $\n",
    "- 匹配规则：匹配字符串的结束位置"
   ]
  },
  {
   "cell_type": "code",
   "execution_count": 13,
   "metadata": {},
   "outputs": [
    {
     "data": {
      "text/plain": [
       "['boy']"
      ]
     },
     "execution_count": 13,
     "metadata": {},
     "output_type": "execute_result"
    }
   ],
   "source": [
    "re.findall(\"boy$\", \"Tom is a boy\")"
   ]
  },
  {
   "cell_type": "markdown",
   "metadata": {},
   "source": [
    "### 6. 匹配重复\n",
    "- 元字符 ： * \n",
    "- 匹配规则：匹配前面的字符出现**0次或多次**  \n",
    "fo*  --> fooooooooo  f  fo"
   ]
  },
  {
   "cell_type": "code",
   "execution_count": 14,
   "metadata": {},
   "outputs": [
    {
     "data": {
      "text/plain": [
       "['f', 'f', 'foooo', 'fo']"
      ]
     },
     "execution_count": 14,
     "metadata": {},
     "output_type": "execute_result"
    }
   ],
   "source": [
    "re.findall(\"fo*\", \"fadsfafooooafo\") # 匹配o出现0次或多次"
   ]
  },
  {
   "cell_type": "markdown",
   "metadata": {},
   "source": [
    "### 7. 匹配重复\n",
    "- 元字符： +\n",
    "- 匹配规则：匹配前面的字符出现**1次或多次**  \n",
    "fo+  --> fo   fooooo"
   ]
  },
  {
   "cell_type": "code",
   "execution_count": 15,
   "metadata": {},
   "outputs": [
    {
     "data": {
      "text/plain": [
       "['foooo', 'fo']"
      ]
     },
     "execution_count": 15,
     "metadata": {},
     "output_type": "execute_result"
    }
   ],
   "source": [
    "re.findall(\"fo+\", \"fadsfafooooafo\")"
   ]
  },
  {
   "cell_type": "markdown",
   "metadata": {},
   "source": [
    "### 8. 匹配重复\n",
    "- 元字符：？\n",
    "- 匹配规则：匹配前面的字符出现**0次或1次**  \n",
    "fo? -->  f   fo"
   ]
  },
  {
   "cell_type": "code",
   "execution_count": 17,
   "metadata": {},
   "outputs": [
    {
     "data": {
      "text/plain": [
       "['f', 'f', 'fo', 'fo']"
      ]
     },
     "execution_count": 17,
     "metadata": {},
     "output_type": "execute_result"
    }
   ],
   "source": [
    "re.findall(\"fo?\", \"fadsfafooooafo\")"
   ]
  },
  {
   "cell_type": "markdown",
   "metadata": {},
   "source": [
    "### 9. 匹配重复{n}\n",
    "- 元字符 ： {n}\n",
    "- 匹配规则： 匹配指定的重复次数  \n",
    "fo{3}  --> fooo"
   ]
  },
  {
   "cell_type": "code",
   "execution_count": 18,
   "metadata": {},
   "outputs": [
    {
     "data": {
      "text/plain": [
       "['foo']"
      ]
     },
     "execution_count": 18,
     "metadata": {},
     "output_type": "execute_result"
    }
   ],
   "source": [
    "re.findall(\"fo{2}\", \"fadsfafooooafo\")"
   ]
  },
  {
   "cell_type": "markdown",
   "metadata": {},
   "source": [
    "### 10. 匹配重复{m,n}\n",
    "- 元字符： {m,n}\n",
    "- 匹配规则：匹配前面的正则表达式 m--n次  \n",
    "fo{2,4} --> foo  fooo  foooo"
   ]
  },
  {
   "cell_type": "code",
   "execution_count": 19,
   "metadata": {
    "scrolled": true
   },
   "outputs": [
    {
     "data": {
      "text/plain": [
       "['foooo', 'foo']"
      ]
     },
     "execution_count": 19,
     "metadata": {},
     "output_type": "execute_result"
    }
   ],
   "source": [
    "re.findall(\"fo{2,4}\", \"fadsfafooooafoo\")"
   ]
  },
  {
   "cell_type": "markdown",
   "metadata": {},
   "source": [
    ">匹配所用字符表达为：.+或.*"
   ]
  },
  {
   "cell_type": "markdown",
   "metadata": {},
   "source": [
    "### 11. 匹配字符集合\n",
    "- 元字符： [字符集]\n",
    "- 匹配规则： 匹配任意一个字符集中的字符\n",
    "        [abc123]   a  b  c  1  2  3 \n",
    "        [a-z]  \n",
    "        [A-Z]\n",
    "        [0-9]\n",
    "        [_123a-z]"
   ]
  },
  {
   "cell_type": "code",
   "execution_count": 21,
   "metadata": {},
   "outputs": [
    {
     "data": {
      "text/plain": [
       "['Boy']"
      ]
     },
     "execution_count": 21,
     "metadata": {},
     "output_type": "execute_result"
    }
   ],
   "source": [
    "re.findall(\"[A-Z][a-z]*\", \"Boy\")"
   ]
  },
  {
   "cell_type": "markdown",
   "metadata": {},
   "source": [
    "### 12. 匹配字符集（非）\n",
    "- 元字符 ： [^...]\n",
    "- 匹配规则 ：字符集取非，除列出的字符之外任意一个字符\n",
    "        [^abc] --> 除a b  c之外任意字符"
   ]
  },
  {
   "cell_type": "code",
   "execution_count": 22,
   "metadata": {},
   "outputs": [
    {
     "data": {
      "text/plain": [
       "['a', 'little', 'boy']"
      ]
     },
     "execution_count": 22,
     "metadata": {},
     "output_type": "execute_result"
    }
   ],
   "source": [
    "re.findall(\"[^ ]+\", \"a little boy\")"
   ]
  },
  {
   "cell_type": "markdown",
   "metadata": {},
   "source": [
    "### 13.  匹配任意数字字符\n",
    "- 元字符 ： \\d   \\D\n",
    "- 匹配规则： \n",
    "        \\d 匹配任意数字字符     [0-9]\n",
    "        \\D 匹配任意非数字字符   [^0-9]"
   ]
  },
  {
   "cell_type": "code",
   "execution_count": 23,
   "metadata": {},
   "outputs": [
    {
     "data": {
      "text/plain": [
       "['17857024541']"
      ]
     },
     "execution_count": 23,
     "metadata": {},
     "output_type": "execute_result"
    }
   ],
   "source": [
    "re.findall(\"1\\d{10}\", \"17857024541\")"
   ]
  },
  {
   "cell_type": "markdown",
   "metadata": {},
   "source": [
    "### 14. 匹配任意（非）普通字符\n",
    "- 元字符 ： \\w   \\W\n",
    "- 匹配规则：\n",
    "        \\w 普通字符  [_0-9a-zA-Z] 也能匹配普通汉字\n",
    "        \\W 非普通字符"
   ]
  },
  {
   "cell_type": "code",
   "execution_count": 24,
   "metadata": {},
   "outputs": [
    {
     "data": {
      "text/plain": [
       "['hello', 'nihao', 'adsd', 'afsd', 'df']"
      ]
     },
     "execution_count": 24,
     "metadata": {},
     "output_type": "execute_result"
    }
   ],
   "source": [
    "re.findall(\"\\w+\", \"hello#nihao%adsd@afsd!df&\")"
   ]
  },
  {
   "cell_type": "code",
   "execution_count": 26,
   "metadata": {},
   "outputs": [
    {
     "data": {
      "text/plain": [
       "['#', '%', '@', '!', '&']"
      ]
     },
     "execution_count": 26,
     "metadata": {},
     "output_type": "execute_result"
    }
   ],
   "source": [
    "re.findall(\"\\W+\",\"hello#nihao%asdf@adsgdfg!df&\")"
   ]
  },
  {
   "cell_type": "markdown",
   "metadata": {},
   "source": [
    "### 15. 匹配任意（非）空字符\n",
    "- 元字符： \n",
    "        \\s  匹配任意空字符  [空格 \\r\\t\\n\\v\\f]\n",
    "        \\S  匹配任意非空字符"
   ]
  },
  {
   "cell_type": "code",
   "execution_count": 27,
   "metadata": {},
   "outputs": [
    {
     "data": {
      "text/plain": [
       "['hello    world']"
      ]
     },
     "execution_count": 27,
     "metadata": {},
     "output_type": "execute_result"
    }
   ],
   "source": [
    "re.findall(\"\\w+\\s+\\w+\", \"hello    world\")"
   ]
  },
  {
   "cell_type": "code",
   "execution_count": 28,
   "metadata": {},
   "outputs": [
    {
     "data": {
      "text/plain": [
       "['hello', 'this', 'is', 'tom']"
      ]
     },
     "execution_count": 28,
     "metadata": {},
     "output_type": "execute_result"
    }
   ],
   "source": [
    "re.findall(\"\\S+\", \"hello this is tom\")"
   ]
  },
  {
   "cell_type": "markdown",
   "metadata": {},
   "source": [
    "### 16.  匹配字符串位置\n",
    "- 元字符 ： \\A   \\Z\n",
    "- 匹配规则： \n",
    "        \\A 匹配字符串开头位置  ^\n",
    "        \\Z 匹配字符串结尾位置  $ \n",
    "        \n",
    ">绝对匹配：正则表达式要完全匹配目标字符串内容\n",
    "    - 在正则表达式开始和结束位置加上^ $ (或者\\A \\Z)。这样正则表达式必须匹配整个目标字符串才会有结果\n"
   ]
  },
  {
   "cell_type": "code",
   "execution_count": 6,
   "metadata": {},
   "outputs": [
    {
     "data": {
      "text/plain": [
       "['123445']"
      ]
     },
     "execution_count": 6,
     "metadata": {},
     "output_type": "execute_result"
    }
   ],
   "source": [
    "re.findall(\"\\A\\d+\\Z\",\"123445\")"
   ]
  },
  {
   "cell_type": "markdown",
   "metadata": {},
   "source": [
    "### 17. 匹配（非）单词边界\n",
    "- 元字符： \\b   \\B\n",
    "- 匹配规则：\n",
    "        \\b 匹配单词边界位置  \n",
    "        普通字符和非普通字符交界认为是单词边界\n",
    "        \\B 匹配非单词边界位置"
   ]
  },
  {
   "cell_type": "code",
   "execution_count": 30,
   "metadata": {},
   "outputs": [
    {
     "data": {
      "text/plain": [
       "['num']"
      ]
     },
     "execution_count": 30,
     "metadata": {},
     "output_type": "execute_result"
    }
   ],
   "source": [
    "re.findall(r\"num\\b\", \"num#asdf#\")"
   ]
  },
  {
   "cell_type": "code",
   "execution_count": 32,
   "metadata": {},
   "outputs": [
    {
     "data": {
      "text/plain": [
       "[]"
      ]
     },
     "execution_count": 32,
     "metadata": {},
     "output_type": "execute_result"
    }
   ],
   "source": [
    "re.findall(r\"num\\b\", \"numasdf#\")"
   ]
  },
  {
   "cell_type": "markdown",
   "metadata": {},
   "source": [
    "    元字符总结  \n",
    "    匹配单个字符 ： a   .   \\d  \\D  \\w  \\W  \\s  \\S\n",
    "                    [...]  [^...]\n",
    "    匹配重复 ： *   +  ?  {n}  {m,n}\n",
    "\n",
    "    匹配位置 ： ^  $  \\A  \\Z   \\b  \\B \n",
    "\n",
    "    其他 ： |  ()  \\"
   ]
  },
  {
   "cell_type": "markdown",
   "metadata": {},
   "source": [
    "## 正则表达式转义\n",
    "\n",
    "- 正则中的特殊符号：\n",
    "        .  *  +  ?  ^  $  []  {}   ()  |  \\\n",
    "\n",
    "- 正则表达式如果匹配特殊字符需要加 \\ 表达转义\n",
    "\n",
    "             正则          目标字符串\n",
    "        e.g.    \\$\\d+  ---->    $10\n",
    "\n",
    "                 pattern        string\n",
    "        python  \"\\\\$\\\\d+\"       \"$10\" \n",
    "\n",
    "        raw     r\"\\$\\d+\"       \"$10\" \n",
    "\n",
    "        raw字串 ： 原始字符串对内容不解释转义，就表达内容原本意义"
   ]
  },
  {
   "cell_type": "markdown",
   "metadata": {},
   "source": [
    "## 贪婪与非贪婪\n",
    "\n",
    "- 贪婪模式 ： 正则表达式的重复匹配总是尽可能多的向后匹配更多内容\n",
    "\n",
    "        *   +   ？  {m,n}\n",
    "\n",
    "- 非贪婪（懒惰模式） ： 尽可能少的匹配内容\n",
    "\n",
    "贪婪 ---> 非贪婪  *？  +？  ??  {m,n}?"
   ]
  },
  {
   "cell_type": "code",
   "execution_count": 33,
   "metadata": {},
   "outputs": [
    {
     "data": {
      "text/plain": [
       "['ab']"
      ]
     },
     "execution_count": 33,
     "metadata": {},
     "output_type": "execute_result"
    }
   ],
   "source": [
    "re.findall(r\"ab+?\", \"abbbbbbbb\")"
   ]
  },
  {
   "cell_type": "code",
   "execution_count": 34,
   "metadata": {},
   "outputs": [
    {
     "data": {
      "text/plain": [
       "['a']"
      ]
     },
     "execution_count": 34,
     "metadata": {},
     "output_type": "execute_result"
    }
   ],
   "source": [
    "re.findall(r\"ab??\", \"abbbbbbbb\")"
   ]
  },
  {
   "cell_type": "markdown",
   "metadata": {},
   "source": [
    "## 正则表达式的子组\n",
    "- 可以使用()为正则表达式建立子组，子组可以看做是正则表达式内部操作的一个整体\n",
    "* 子组是在正则表达式**整体匹配到内容的前提下**才会发挥作用，它不影响正则表达式整体去匹配目标内容这一原则\n",
    "\n",
    "\n",
    "### 子组所用\n",
    "\n",
    "1. 作为内部整体可以改变某些元字符的行为\n",
    "       re.search(r\"(ab)+\\d+\",\"ababab1234\").group()\n",
    "       'ababab1234'\n",
    "\n",
    "        re.search(r\"\\w+@\\w+\\.(com|cn)\",\"abc@123.com\").group()\n",
    "        'abc@123.com'\n",
    "\n",
    "2. 子组在某些操作中可以单独提取出匹配内容\n",
    "        re.search(r\"(https|http|ftp)://\\S+\",\"https://www.baidu.com\").group(1)\n",
    "        Out[121]: 'https'\n",
    "\n",
    "### 子组使用注意事项\n",
    "\n",
    "* 一个正则表达式中可以有多个子组\n",
    "* 子组一般由外到内，由左到右称之为第一，第二 第三。。。。子组\n",
    "* 子组不能重叠，嵌套也不宜很多\n",
    "\n",
    "### 捕获组 和 非捕获组\n",
    "\n",
    "- 格式：`（?P<name>pattern）`\n",
    "        e.g.\n",
    "         re.search(r\"(?P<dog>ab)cdef\",'abcdefghti').group('dog')\n",
    "        Out[130]: 'ab'\n",
    "- 作用 ： 可以通过组名更方便获取某组内容"
   ]
  },
  {
   "cell_type": "markdown",
   "metadata": {},
   "source": [
    "# 正则表达式设计原则\n",
    "\n",
    "1. 正确性 ，能正确匹配到目标内容\n",
    "2. 排他性 ，除了要匹配的内容，尽可能不会匹配与到其他内容\n",
    "3. 全面性 ，需要对目标的各种情况进行考虑，做到不遗漏"
   ]
  },
  {
   "cell_type": "markdown",
   "metadata": {},
   "source": [
    "    regex = compile(pattern,flags = 0)\n",
    "    功能 ： 生成正则表达式对象\n",
    "    参数 ： pattern  正则表达式\n",
    "            flags  功能标志位，丰富正则表达式的匹配功能\n",
    "    返回值 : 返回正则表达式对象\n",
    "\n",
    "    re.findall(pattern,string,flags)\n",
    "    功能 ：从目标字符串查找正则匹配内容\n",
    "    参数 ： pattern  正则表达式\n",
    "            string  目标字符串\n",
    "        flags  标志位\n",
    "    返回值 ： 返回匹配到的内容\n",
    "              如果正则有子组则只返回子组对应内容\n",
    "\n",
    "    regex.findall(string,pos,endpos)\n",
    "    功能 ：从目标字符串查找正则匹配内容\n",
    "    参数 ： string  目标字符串\n",
    "            pos  匹配目标的起始位置\n",
    "            endpos  匹配目标的终止位置\n",
    "    返回值 ： 返回匹配到的内容\n",
    "              如果正则有子组则只返回子组对应内容\n",
    "\n",
    "    re.split(pattern,string,flags = 0)\n",
    "    功能：根据正则匹配内容切割字符串\n",
    "    参数： pattern  string  flags\n",
    "    返回值： 返回列表，列表中为切割的内容\n",
    "\n",
    "    re.sub(pattern,replaceStr,string,max,flags)\n",
    "    功能： 替换正则匹配到的目标子串部分\n",
    "    参数： pattern\n",
    "           replaceStr ： 要替换的内容\n",
    "           string \n",
    "           max   最多替换几处 默认全部替换\n",
    "           flags\n",
    "    返回值 ： 返回替换后的字符串\n",
    "\n",
    "    re.subn(pattern,replaceStr,string,max,flags)\n",
    "    功能： 替换正则匹配到的目标子串部分\n",
    "    参数： pattern\n",
    "           replaceStr ： 要替换的内容\n",
    "           string \n",
    "           max   最多替换几处 默认全部替换\n",
    "           flags\n",
    "    返回值 ： 返回一个元组，为实际替换了几处和替换后的字符串\n",
    "\n",
    "\n",
    "    re.finditer(pattern,string,flags)\n",
    "    功能： 使用正则表达式匹配目标字符串\n",
    "    参数： pattern  string flags\n",
    "    返回值： 返回一个迭代对象，迭代到的内容是一个match对象\n",
    "\n",
    "    fullmatch(pattern,string,flags)\n",
    "    功能： 完全匹配目标字符串\n",
    "    参数： pattern,string,flags\n",
    "    返回值：返回匹配到的match对象\n",
    "            如果没匹配成功返回None\n",
    "\n",
    "    match(pattern,string,flags)\n",
    "    功能： 从开头位置匹配目标字符串\n",
    "    参数： pattern,string,flags\n",
    "    返回值：返回匹配到的match对象\n",
    "            如果没匹配成功返回None\n",
    "\n",
    "\n",
    "    search(pattern,string,flags)\n",
    "    功能： 正则表达式匹配目标字符串，只匹配第一处\n",
    "    参数： pattern,string,flags\n",
    "    返回值：返回匹配到的match对象\n",
    "            如果没匹配成功返回None\n",
    "\n",
    "    compile对象属性：\n",
    "\n",
    "    flags  ： 标志位\n",
    "    pattern ： 正则表达式\n",
    "    groups： 有多少子组\n",
    "    groupindex ： 捕获组形成组名和序列号的字典\n",
    "                  组名为键，第几组为值"
   ]
  },
  {
   "cell_type": "code",
   "execution_count": 37,
   "metadata": {},
   "outputs": [
    {
     "name": "stdout",
     "output_type": "stream",
     "text": [
      "[('ab', 'ef'), ('ab', 'ef')]\n",
      "[('ab', 'ef'), ('ab', 'ef')]\n",
      "==================================\n",
      "split(): ['Hello', 'world', 'nihao', 'China']\n",
      "sub(): Hello#world#nihao China\n",
      "subn(): ('Hello#world#nihao#China', 3)\n"
     ]
    }
   ],
   "source": [
    "pattern = r\"(ab)cd(ef)\"\n",
    "s = \"abcdefghigkabcdef\"\n",
    "\n",
    "#re模块直接调用\n",
    "l = re.findall(pattern,s)\n",
    "print(l)\n",
    "\n",
    "#compile对象调用\n",
    "regex = re.compile(pattern)\n",
    "l = regex.findall(s)\n",
    "print(l)\n",
    "print(\"==================================\")\n",
    "\n",
    "l = re.split(r\"\\s+\",\"Hello  world nihao China\")\n",
    "print(\"split():\",l)\n",
    "\n",
    "s = re.sub(r\"\\s+\",\"#\",'Hello  world     nihao China',2)\n",
    "print(\"sub():\",s)\n",
    "\n",
    "s = re.subn(r\"\\s+\",\"#\",'Hello  world     nihao China')\n",
    "print(\"subn():\",s)"
   ]
  },
  {
   "cell_type": "code",
   "execution_count": 38,
   "metadata": {},
   "outputs": [
    {
     "name": "stdout",
     "output_type": "stream",
     "text": [
      "2008\n",
      "2018\n",
      "10\n",
      "abcdef123\n",
      "foo\n",
      "foo\n"
     ]
    }
   ],
   "source": [
    "import re \n",
    "\n",
    "it = re.finditer(r'\\d+',\"2008-2018 10年，\\\n",
    "    中国发生了翻天覆地的变化\")\n",
    "\n",
    "for i in it:\n",
    "    print(i.group())\n",
    "\n",
    "\n",
    "#fullmatch\n",
    "try:\n",
    "    obj = re.fullmatch(r\"\\w+\",'abcdef123')\n",
    "    print(obj.group())\n",
    "except AttributeError as e:\n",
    "    print(e)\n",
    "\n",
    "#match\n",
    "obj = re.match(r'foo',\"foo,food on the table\")\n",
    "print(obj.group())\n",
    "\n",
    "#search\n",
    "obj = re.search(r'foo',\"Foo,food on the table\")\n",
    "print(obj.group())"
   ]
  },
  {
   "cell_type": "markdown",
   "metadata": {},
   "source": [
    "## match对象属性\n",
    "\n",
    "- 属性变量\n",
    "    - pos     匹配目标字符串的开始位置\n",
    "    - endpos  匹配目标字符串的结束位置\n",
    "    - re      正则表达式\n",
    "    - string  目标字符串\n",
    "    - lastgroup  最后一组的组名\n",
    "    - lastindex  最后一组是第几组\n",
    "- 属性方法\n",
    "    - span()  匹配内容的开始位置\n",
    "    - start() 匹配内容的结束位置\n",
    "    - end()   匹配内容的起止位置\n",
    "\n",
    "### group()\n",
    "- 功能 ： 获取match对象对应的内容\n",
    "- 参数 ： 默认为0 表示获取整个正则匹配的内容\n",
    "        如果为序列号或者子组名则为获取某个子组匹配的对应内容\n",
    "- 返回值：返回得到的子串\n",
    "\n",
    "### groupdict()  获取捕获组名作为键，对应内容作为值的字典\n",
    "### groups()   获取每个子组匹配内容"
   ]
  },
  {
   "cell_type": "code",
   "execution_count": 40,
   "metadata": {},
   "outputs": [
    {
     "name": "stdout",
     "output_type": "stream",
     "text": [
      "0\n",
      "6\n",
      "re.compile('(?P<dog>ab)cd(?P<pig>ef)')\n",
      "abcdefghij\n",
      "pig\n",
      "2\n",
      "=============================\n",
      "0\n",
      "6\n",
      "(0, 6)\n",
      "abcdef\n",
      "ef\n",
      "ab\n",
      "{'dog': 'ab', 'pig': 'ef'}\n",
      "('ab', 'ef')\n"
     ]
    }
   ],
   "source": [
    "import re \n",
    "\n",
    "pattern = r\"(?P<dog>ab)cd(?P<pig>ef)\"\n",
    "regex = re.compile(pattern)\n",
    "\n",
    "#获取match对象\n",
    "match_obj = regex.search(\"abcdefghij\",pos = 0,endpos = 6)\n",
    "\n",
    "print(match_obj.pos)  #匹配目标字符串的开始位置\n",
    "print(match_obj.endpos) #匹配目标字符串的结束位置\n",
    "print(match_obj.re)     #正则表达式\n",
    "print(match_obj.string) #目标字符串\n",
    "print(match_obj.lastgroup) #最后一组的组名\n",
    "print(match_obj.lastindex) #最后一组是第几组\n",
    "print(\"=============================\")\n",
    "\n",
    "print(match_obj.start())  #匹配内容的开始位置\n",
    "print(match_obj.end())    #匹配内容的结束位置\n",
    "print(match_obj.span())   #匹配内容的起止位置\n",
    "\n",
    "print(match_obj.group(0)) #获取整个match对象内容\n",
    "print(match_obj.group(2)) #获取第二个子组匹配内容\n",
    "print(match_obj.group('dog')) #获取dog子组匹配内容\n",
    "\n",
    "print(match_obj.groupdict()) #获取捕获组字典\n",
    "print(match_obj.groups())  #获取每个子组匹配内容"
   ]
  },
  {
   "cell_type": "markdown",
   "metadata": {},
   "source": [
    "## flags  参数的使用\n",
    "    re.compile  re.findall  re.search  re.match\n",
    "    re.finditer  re.fullmatch  re.sub  re.subn  re.split\n",
    "\n",
    "- 作用 ： 辅助正则表达式，丰富匹配结果\n",
    "        I ==  IGNORECASE  匹配时忽略字母的大小写\n",
    "        S ==  DOTALL     作用于元字符 . 使其可以匹配换行 \n",
    "        M ==  MULTILINE  作用于^  $  使其可以匹配每一行开头结尾位置\n",
    "        X ==  VERBOSE    可以给正则添加注释\n",
    "        使用多个标志位使用按位或连接\n",
    "        e.g.\n",
    "        flags = re.X | re.I"
   ]
  },
  {
   "cell_type": "code",
   "execution_count": 41,
   "metadata": {},
   "outputs": [
    {
     "name": "stdout",
     "output_type": "stream",
     "text": [
      "hello world\n"
     ]
    }
   ],
   "source": [
    "import re \n",
    "\n",
    "s = '''hello world\n",
    "hello kitty\n",
    "你好,北京'''\n",
    "\n",
    "pattern = r'''H\\w+  #匹配第一个单词\n",
    "\\s+    #匹配多个空格\n",
    "[a-z]+ #匹配其他\n",
    "'''\n",
    "\n",
    "regex = re.compile(pattern,flags = re.X | re.I)\n",
    "\n",
    "try:\n",
    "    s = regex.search(s).group()\n",
    "except:\n",
    "    print(\"没有匹配到内容\")\n",
    "else:\n",
    "    print(s)"
   ]
  }
 ],
 "metadata": {
  "kernelspec": {
   "display_name": "Python 3",
   "language": "python",
   "name": "python3"
  },
  "language_info": {
   "codemirror_mode": {
    "name": "ipython",
    "version": 3
   },
   "file_extension": ".py",
   "mimetype": "text/x-python",
   "name": "python",
   "nbconvert_exporter": "python",
   "pygments_lexer": "ipython3",
   "version": "3.7.1"
  }
 },
 "nbformat": 4,
 "nbformat_minor": 2
}
