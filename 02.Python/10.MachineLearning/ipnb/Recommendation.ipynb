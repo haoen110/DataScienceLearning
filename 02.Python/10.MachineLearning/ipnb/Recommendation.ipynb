{
 "cells": [
  {
   "cell_type": "markdown",
   "metadata": {},
   "source": [
    "# 推荐引擎\n",
    "\n",
    "### 1.欧氏距离分数\n",
    "\n",
    "$$欧氏距离分数 = \\frac{1}{1+欧氏距离}$$\n",
    "\n",
    "$$构建距离矩阵$$\n",
    "\n",
    "```json\n",
    "/ 不同人看过的电影以及评分\n",
    "{\n",
    "    \"John Carson\": \n",
    "    {\n",
    "        \"Inception\": 2.5,\n",
    "        \"Pulp Fiction\": 3.5,\n",
    "        \"Anger Management\": 3.0,\n",
    "        \"Fracture\": 3.5,\n",
    "        \"Serendipity\": 2.5,\n",
    "        \"Jerry Maguire\": 3.0\n",
    "    },\n",
    "    \"Michelle Peterson\": \n",
    "    {\n",
    "        \"Inception\": 3.0,\n",
    "        \"Pulp Fiction\": 3.5,\n",
    "        \"Anger Management\": 1.5,\n",
    "        \"Fracture\": 5.0,\n",
    "        \"Jerry Maguire\": 3.0,\n",
    "        \"Serendipity\": 3.5 \n",
    "    },\n",
    "    \"William Reynolds\": \n",
    "    {\n",
    "        \"Inception\": 2.5,\n",
    "        \"Pulp Fiction\": 3.0,\n",
    "        \"Fracture\": 3.5,\n",
    "        \"Jerry Maguire\": 4.0\n",
    "    },\n",
    "    \"Jillian Hobart\": \n",
    "    {\n",
    "        \"Pulp Fiction\": 3.5,\n",
    "        \"Anger Management\": 3.0,\n",
    "        \"Jerry Maguire\": 4.5,\n",
    "        \"Fracture\": 4.0,\n",
    "        \"Serendipity\": 2.5 \n",
    "    },\n",
    "    \"Melissa Jones\": \n",
    "    {\n",
    "        \"Inception\": 3.0,\n",
    "        \"Pulp Fiction\": 4.0,\n",
    "        \"Anger Management\": 2.0,\n",
    "        \"Fracture\": 3.0,\n",
    "        \"Jerry Maguire\": 3.0,\n",
    "        \"Serendipity\": 2.0\n",
    "    },\n",
    "    \"Alex Roberts\": \n",
    "    {\n",
    "       \"Inception\": 3.0,\n",
    "       \"Pulp Fiction\": 4.0,\n",
    "       \"Jerry Maguire\": 3.0,\n",
    "       \"Fracture\": 5.0,\n",
    "       \"Serendipity\": 3.5\n",
    "    },\n",
    "    \"Michael Henry\": \n",
    "    {\n",
    "       \"Pulp Fiction\": 4.5,\n",
    "       \"Serendipity\": 1.0,\n",
    "       \"Fracture\": 4.0\n",
    "    }\n",
    "}\n",
    "```"
   ]
  },
  {
   "cell_type": "code",
   "execution_count": 3,
   "metadata": {},
   "outputs": [
    {
     "name": "stdout",
     "output_type": "stream",
     "text": [
      "{'John Carson': {'Inception': 2.5, 'Pulp Fiction': 3.5, 'Anger Management': 3.0, 'Fracture': 3.5, 'Serendipity': 2.5, 'Jerry Maguire': 3.0}, 'Michelle Peterson': {'Inception': 3.0, 'Pulp Fiction': 3.5, 'Anger Management': 1.5, 'Fracture': 5.0, 'Jerry Maguire': 3.0, 'Serendipity': 3.5}, 'William Reynolds': {'Inception': 2.5, 'Pulp Fiction': 3.0, 'Fracture': 3.5, 'Jerry Maguire': 4.0}, 'Jillian Hobart': {'Pulp Fiction': 3.5, 'Anger Management': 3.0, 'Jerry Maguire': 4.5, 'Fracture': 4.0, 'Serendipity': 2.5}, 'Melissa Jones': {'Inception': 3.0, 'Pulp Fiction': 4.0, 'Anger Management': 2.0, 'Fracture': 3.0, 'Jerry Maguire': 3.0, 'Serendipity': 2.0}, 'Alex Roberts': {'Inception': 3.0, 'Pulp Fiction': 4.0, 'Jerry Maguire': 3.0, 'Fracture': 5.0, 'Serendipity': 3.5}, 'Michael Henry': {'Pulp Fiction': 4.5, 'Serendipity': 1.0, 'Fracture': 4.0}}\n",
      "\n",
      " dict_keys(['John Carson', 'Michelle Peterson', 'William Reynolds', 'Jillian Hobart', 'Melissa Jones', 'Alex Roberts', 'Michael Henry'])\n"
     ]
    }
   ],
   "source": [
    "import json\n",
    "import numpy as np\n",
    "\n",
    "with open('../data/ratings.json', 'r') as f:\n",
    "    ratings = json.loads(f.read())\n",
    "\n",
    "print(ratings)\n",
    "print('\\n',ratings.keys())"
   ]
  },
  {
   "cell_type": "code",
   "execution_count": 4,
   "metadata": {},
   "outputs": [
    {
     "name": "stdout",
     "output_type": "stream",
     "text": [
      " 1.00  0.29  0.47  0.39  0.41  0.34  0.35\n",
      " 0.29  1.00  0.34  0.28  0.28  0.67  0.26\n",
      " 0.47  0.34  1.00  0.54  0.39  0.32  0.39\n",
      " 0.39  0.28  0.54  1.00  0.31  0.32  0.36\n",
      " 0.41  0.28  0.39  0.31  1.00  0.29  0.40\n",
      " 0.34  0.67  0.32  0.32  0.29  1.00  0.27\n",
      " 0.35  0.26  0.39  0.36  0.40  0.27  1.00\n"
     ]
    }
   ],
   "source": [
    "users, scmat = list(ratings.keys()), []\n",
    "\n",
    "for user1 in users:\n",
    "    scrow = []\n",
    "    for user2 in users:\n",
    "        movies = set()  # 共同看过的电影的集合\n",
    "        for movie in ratings[user1]:  # 拿到user1所看过的电影\n",
    "            if movie in ratings[user2]:  # 判断user2是否看过该电影\n",
    "                movies.add(movie)  # 是的话追加到集合中\n",
    "        if len(movies) == 0:\n",
    "            score = 0  # 如果没有共同看过的电影，则为零分\n",
    "        else:  # 如果有共同看过的电影\n",
    "            x, y = [], []\n",
    "            for movie in movies:\n",
    "                x.append(ratings[user1][movie])\n",
    "                y.append(ratings[user2][movie])\n",
    "            x = np.array(x)\n",
    "            y = np.array(y)\n",
    "            score = 1 / (1 + np.sqrt(((x - y) ** 2).sum()))\n",
    "        scrow.append(score)  # 得到user1的一整行\n",
    "    scmat.append(scrow)  # 将这一行追加到scmat中\n",
    "    \n",
    "users = np.array(users)\n",
    "scmat = np.array(scmat)\n",
    "\n",
    "for scrow in scmat:\n",
    "    print(' '.join('{:>5.2f}'.format(score) for score in scrow))"
   ]
  },
  {
   "cell_type": "markdown",
   "metadata": {},
   "source": [
    "### 2. 皮氏距离分数\n",
    "\n",
    "$$相关性矩阵$$\n",
    "\n",
    "$$\\\\ \\begin{pmatrix}1 & 相关系数 \\\\\n",
    "相关系数 & 1\\end{pmatrix}$$\n",
    "\n",
    "$$相关性系数 = \\frac{协方差}{标准差之积}$$\n",
    "\n",
    "$$-1 <------- 0 -------> 1 $$"
   ]
  },
  {
   "cell_type": "code",
   "execution_count": 6,
   "metadata": {},
   "outputs": [
    {
     "name": "stdout",
     "output_type": "stream",
     "text": [
      " 1.00  0.40  0.40  0.57  0.59  0.75  0.99\n",
      " 0.40  1.00  0.20  0.31  0.41  0.96  0.38\n",
      " 0.40  0.20  1.00  1.00 -0.26  0.13 -1.00\n",
      " 0.57  0.31  1.00  1.00  0.57  0.03  0.89\n",
      " 0.59  0.41 -0.26  0.57  1.00  0.21  0.92\n",
      " 0.75  0.96  0.13  0.03  0.21  1.00  0.66\n",
      " 0.99  0.38 -1.00  0.89  0.92  0.66  1.00\n"
     ]
    }
   ],
   "source": [
    "users, scmat = list(ratings.keys()), []\n",
    "\n",
    "for user1 in users:\n",
    "    scrow = []\n",
    "    for user2 in users:\n",
    "        movies = set()  # 共同看过的电影的集合\n",
    "        for movie in ratings[user1]:  # 拿到user1所看过的电影\n",
    "            if movie in ratings[user2]:  # 判断user2是否看过该电影\n",
    "                movies.add(movie)  # 是的话追加到集合中\n",
    "        if len(movies) == 0:\n",
    "            score = 0  # 如果没有共同看过的电影，则为零分\n",
    "        else:  # 如果有共同看过的电影\n",
    "            x, y = [], []\n",
    "            for movie in movies:\n",
    "                x.append(ratings[user1][movie])\n",
    "                y.append(ratings[user2][movie])\n",
    "            x = np.array(x)\n",
    "            y = np.array(y)\n",
    "            score = np.corrcoef(x, y)[0, 1]  # 皮尔逊相关系数\n",
    "        scrow.append(score)  # 得到user1的一整行\n",
    "    scmat.append(scrow)  # 将这一行追加到scmat中\n",
    "    \n",
    "users = np.array(users)\n",
    "scmat = np.array(scmat)\n",
    "\n",
    "for scrow in scmat:\n",
    "    print(' '.join('{:>5.2f}'.format(score) for score in scrow))"
   ]
  },
  {
   "cell_type": "markdown",
   "metadata": {},
   "source": [
    "### 3. 按照相似度从高到低排列每个用户的相似用户"
   ]
  },
  {
   "cell_type": "code",
   "execution_count": 7,
   "metadata": {},
   "outputs": [
    {
     "name": "stdout",
     "output_type": "stream",
     "text": [
      "John Carson\n",
      "['Michael Henry' 'Alex Roberts' 'Melissa Jones' 'Jillian Hobart'\n",
      " 'William Reynolds' 'Michelle Peterson']\n",
      "[0.99124071 0.74701788 0.59408853 0.56694671 0.40451992 0.39605902]\n",
      "Michelle Peterson\n",
      "['Alex Roberts' 'Melissa Jones' 'John Carson' 'Michael Henry'\n",
      " 'Jillian Hobart' 'William Reynolds']\n",
      "[0.96379568 0.41176471 0.39605902 0.38124643 0.31497039 0.2045983 ]\n",
      "William Reynolds\n",
      "['Jillian Hobart' 'John Carson' 'Michelle Peterson' 'Alex Roberts'\n",
      " 'Melissa Jones' 'Michael Henry']\n",
      "[ 1.          0.40451992  0.2045983   0.13483997 -0.25819889 -1.        ]\n",
      "Jillian Hobart\n",
      "['William Reynolds' 'Michael Henry' 'Melissa Jones' 'John Carson'\n",
      " 'Michelle Peterson' 'Alex Roberts']\n",
      "[1.         0.89340515 0.56694671 0.56694671 0.31497039 0.02857143]\n",
      "Melissa Jones\n",
      "['Michael Henry' 'John Carson' 'Jillian Hobart' 'Michelle Peterson'\n",
      " 'Alex Roberts' 'William Reynolds']\n",
      "[ 0.92447345  0.59408853  0.56694671  0.41176471  0.21128856 -0.25819889]\n",
      "Alex Roberts\n",
      "['Michelle Peterson' 'John Carson' 'Michael Henry' 'Melissa Jones'\n",
      " 'William Reynolds' 'Jillian Hobart']\n",
      "[0.96379568 0.74701788 0.66284898 0.21128856 0.13483997 0.02857143]\n",
      "Michael Henry\n",
      "['John Carson' 'Melissa Jones' 'Jillian Hobart' 'Alex Roberts'\n",
      " 'Michelle Peterson' 'William Reynolds']\n",
      "[ 0.99124071  0.92447345  0.89340515  0.66284898  0.38124643 -1.        ]\n"
     ]
    }
   ],
   "source": [
    "for i, user in enumerate(users):\n",
    "    sorted_indices = scmat[i].argsort()[::-1]\n",
    "    sorted_indices = sorted_indices[sorted_indices != i]\n",
    "    similar_users = users[sorted_indices]\n",
    "    similar_scores = scmat[i, sorted_indices]\n",
    "    print(user, similar_users, similar_scores, sep='\\n')"
   ]
  },
  {
   "cell_type": "markdown",
   "metadata": {},
   "source": [
    "### 4. 生成推荐清单\n",
    "\n",
    "- 考虑因素\n",
    "\n",
    "    - 推荐度\n",
    "\n",
    "    - 皮氏距离分数>0的用户\n",
    "\n",
    "    - 打分高低\n",
    "\n",
    "    - 相似度权重"
   ]
  },
  {
   "cell_type": "code",
   "execution_count": 8,
   "metadata": {},
   "outputs": [
    {
     "name": "stdout",
     "output_type": "stream",
     "text": [
      "John Carson\n",
      "[]\n",
      "Michelle Peterson\n",
      "[]\n",
      "William Reynolds\n",
      "['Anger Management' 'Serendipity']\n",
      "Jillian Hobart\n",
      "['Inception']\n",
      "Melissa Jones\n",
      "[]\n",
      "Alex Roberts\n",
      "['Anger Management']\n",
      "Michael Henry\n",
      "['Jerry Maguire' 'Inception' 'Anger Management']\n"
     ]
    }
   ],
   "source": [
    "for i, user in enumerate(users):\n",
    "    sorted_indices = scmat[i].argsort()[::-1]\n",
    "    sorted_indices = sorted_indices[sorted_indices != i]\n",
    "    similar_users = users[sorted_indices]\n",
    "    similar_scores = scmat[i, sorted_indices]\n",
    "    positive_mask = similar_scores > 0\n",
    "    similar_users = similar_users[positive_mask]\n",
    "    similar_scores = similar_scores[positive_mask]\n",
    "    score_sums, weight_sums = {}, {}\n",
    "    for similar_user, similar_score in zip(similar_users, similar_scores):\n",
    "        for movie, score in ratings[similar_user].items():\n",
    "            if movie not in ratings[user].keys():\n",
    "                if movie not in score_sums.keys():\n",
    "                    score_sums[movie] = 0\n",
    "                score_sums[movie] += score * similar_score\n",
    "                if movie not in weight_sums.keys():\n",
    "                    weight_sums[movie] = 0\n",
    "                weight_sums[movie] += similar_score\n",
    "    movie_ranks = {}\n",
    "    \n",
    "    for movie, score_sum in score_sums.items():\n",
    "        movie_ranks[movie] = score_sum / weight_sums[movie]\n",
    "    sorted_indices = np.array(list(movie_ranks.values())).argsort()[::-1]\n",
    "    recomms = np.array(list(movie_ranks.keys()))[sorted_indices]\n",
    "    print(user, recomms, sep='\\n')"
   ]
  }
 ],
 "metadata": {
  "kernelspec": {
   "display_name": "Python 3",
   "language": "python",
   "name": "python3"
  },
  "language_info": {
   "codemirror_mode": {
    "name": "ipython",
    "version": 3
   },
   "file_extension": ".py",
   "mimetype": "text/x-python",
   "name": "python",
   "nbconvert_exporter": "python",
   "pygments_lexer": "ipython3",
   "version": "3.7.1"
  }
 },
 "nbformat": 4,
 "nbformat_minor": 2
}
