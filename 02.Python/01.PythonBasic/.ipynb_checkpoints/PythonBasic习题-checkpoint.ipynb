{
 "cells": [
  {
   "cell_type": "markdown",
   "metadata": {},
   "source": [
    "# PythonBasic习题"
   ]
  },
  {
   "cell_type": "markdown",
   "metadata": {},
   "source": [
    "## 进制练习\n",
    "- 计算 0xFFFF 表示多少？\n",
    "- 计算 0b1001 表示多少？\n",
    "- 计算 0o71  表示多少？\n",
    "- 把 13 转为2进制。\n",
    "- 把 18 转为16进制。"
   ]
  },
  {
   "cell_type": "code",
   "execution_count": 10,
   "metadata": {},
   "outputs": [
    {
     "name": "stdout",
     "output_type": "stream",
     "text": [
      "0xFFFF表示：15*16**3+15*16**2+15*16+15 = 65535\n",
      "0b1001表示：1*2**3 + 0 + 0 + 1*2**0 = 65535\n",
      "0o71表示：7*8**2 + 1 = 57\n",
      "13的二进制：13/2 = 6...1 -> 6/2 = 3...0 -> 3/2 = 1...1 -> 1 -> 0b1101\n",
      "18的十六进制：18/16 = 1...2 -> 0x12\n"
     ]
    }
   ],
   "source": [
    "print(\"0xFFFF表示：15*16**3+15*16**2+15*16+15 =\", 15*16**3+15*16**2+15*16+15)\n",
    "print(\"0b1001表示：1*2**3 + 0 + 0 + 1*2**0 =\", 15*16**3+15*16**2+15*16+15)\n",
    "print(\"0o71表示：7*8**2 + 1 =\", 7*8**1 + 1)\n",
    "print(\"13的二进制：13/2 = 6...1 -> 6/2 = 3...0 -> 3/2 = 1...1 -> 1 ->\", bin(13))\n",
    "print(\"18的十六进制：18/16 = 1...2 ->\", hex(18))"
   ]
  },
  {
   "cell_type": "markdown",
   "metadata": {},
   "source": [
    "## 简单计算\n",
    "- 一个商店卖西瓜7元一个，你带20元能买几个西瓜，找零多少钱？\n",
    "- 一个学生毕业薪资10000元，每年涨20%，十年后他的薪资是多少？\n",
    "- 已知矩形的长边长6cm，短边长4cm，写出程序求出矩形的周长和面积？\n",
    "- 中国古代的称是16两一斤，请问216两是古代的几斤几两？\n",
    "- 从凌晨0:0:0计时，现在已经过了63320秒，请问现在是几时几分几秒（可以用地板除和求余实现）？"
   ]
  },
  {
   "cell_type": "code",
   "execution_count": 30,
   "metadata": {},
   "outputs": [
    {
     "name": "stdout",
     "output_type": "stream",
     "text": [
      "找零 6 元\n",
      "十年后他的薪资为 61917.364223999975 元\n",
      "矩形的周长为20厘米，面积为24平方厘米\n",
      "216两相当于古代的13斤8两\n",
      "现在是17时35分20秒\n"
     ]
    }
   ],
   "source": [
    "print(\"找零\", 20 % 7, \"元\")\n",
    "print(\"十年后他的薪资为\", 10000 * (1 + 0.2) ** 10, \"元\")\n",
    "print(\"矩形的周长为{}厘米，面积为{}平方厘米\".format((6 + 4) * 2, 6 * 4))\n",
    "print(\"216两相当于古代的{}斤{}两\".format(216 // 16,216 % 16))\n",
    "shi = 63320//(60*60)\n",
    "fen = 63320%(60*60)//60\n",
    "miao = 63320%(60*60)%60\n",
    "print(\"现在是{}时{}分{}秒\".format(shi, fen, miao))"
   ]
  },
  {
   "cell_type": "markdown",
   "metadata": {},
   "source": [
    "## statement 练习\n",
    "指定一个圆的半径r为3cm\n",
    "- 计算出圆的周长\n",
    "- 计算出圆的面积\n",
    "    - 要求用变量代替3cm和圆周率3.1415926"
   ]
  },
  {
   "cell_type": "code",
   "execution_count": 23,
   "metadata": {},
   "outputs": [
    {
     "name": "stdout",
     "output_type": "stream",
     "text": [
      "圆的周长为18.849555600000002厘米，圆的面积为28.2743334平方厘米\n"
     ]
    }
   ],
   "source": [
    "r = 3\n",
    "pi = 3.1415926\n",
    "c = 2 * pi * r\n",
    "s = pi * r ** 2\n",
    "print(\"圆的周长为{}厘米，圆的面积为{}平方厘米\".format(c, s))"
   ]
  },
  {
   "cell_type": "markdown",
   "metadata": {},
   "source": [
    "## 精度练习\n",
    "- 将数字3.14用变量pi绑定\n",
    "- 将pi变量转为整数，用变量i绑定\n",
    "- 将pi变量与i变量相减，结果用f绑定\n",
    "- 判断f是否等于0.14？为什么？\n",
    "- 删除所有的变"
   ]
  },
  {
   "cell_type": "code",
   "execution_count": 32,
   "metadata": {},
   "outputs": [
    {
     "name": "stdout",
     "output_type": "stream",
     "text": [
      "0.14000000000000012 这是因为损失了精度\n"
     ]
    }
   ],
   "source": [
    "pi = 3.14\n",
    "i = int(pi)\n",
    "f = pi - i\n",
    "print(f, \"这是因为损失了精度\")\n",
    "del f, i, pi"
   ]
  },
  {
   "cell_type": "markdown",
   "metadata": {},
   "source": [
    "## input 练习\n",
    "- 分三次输入如当前的小时，分钟，秒钟，在终端打印已距离凌晨0:0:0过了多少秒？"
   ]
  },
  {
   "cell_type": "code",
   "execution_count": 33,
   "metadata": {},
   "outputs": [
    {
     "name": "stdout",
     "output_type": "stream",
     "text": [
      "请输入小时：15\n",
      "请输入分钟：28\n",
      "请输入秒钟：45\n",
      "距离凌晨过了55725秒\n"
     ]
    }
   ],
   "source": [
    "shi = int(input(\"请输入小时：\"))\n",
    "fen = int(input(\"请输入分钟：\"))\n",
    "miao = int(input(\"请输入秒钟：\"))\n",
    "print(\"距离凌晨过了{}秒\".format(shi*3600 + fen*60 + miao))"
   ]
  },
  {
   "cell_type": "markdown",
   "metadata": {},
   "source": [
    "## if 练习1"
   ]
  },
  {
   "cell_type": "markdown",
   "metadata": {},
   "source": [
    "- 请输入一个数字，判断这个数是0、正数、还是负数"
   ]
  },
  {
   "cell_type": "code",
   "execution_count": 7,
   "metadata": {},
   "outputs": [
    {
     "name": "stdout",
     "output_type": "stream",
     "text": [
      "请输入一个数字，判断这个数是0、正数、负数：16\n",
      "正数\n"
     ]
    }
   ],
   "source": [
    "n = int(input(\"请输入一个数字，判断这个数是0、正数、负数：\"))\n",
    "if n > 0:\n",
    "    print(\"正数\")\n",
    "elif n < 0:\n",
    "    print(\"负数\")\n",
    "else:\n",
    "    print(\"等于零\")"
   ]
  },
  {
   "cell_type": "markdown",
   "metadata": {},
   "source": [
    "## if 练习2"
   ]
  },
  {
   "cell_type": "markdown",
   "metadata": {},
   "source": [
    "- 输入一个季度1~4输出这个季度有那几个月、如果输入不是1~4的数，提示用户您的输入有误！\n",
    "- 输入一年中的月份（1~12），输出这个月在哪几个季度，如果输入的是其他数，提示您输入的有误！"
   ]
  },
  {
   "cell_type": "code",
   "execution_count": 8,
   "metadata": {},
   "outputs": [
    {
     "name": "stdout",
     "output_type": "stream",
     "text": [
      "请输入1~4个季度3\n",
      "第三季度有7、8、9个月\n",
      "请输入1~12月份7\n",
      "第三季度\n"
     ]
    }
   ],
   "source": [
    "s = int(input(\"请输入1~4个季度\"))\n",
    "if s == 1:\n",
    "\tprint(\"第一季度有1、2、3个月\")\n",
    "elif s == 2:\n",
    "\tprint(\"第二季度有4、5、6个月\")\n",
    "elif s == 3:\n",
    "\tprint(\"第三季度有7、8、9个月\")\n",
    "elif s == 4:\n",
    "\tprint(\"第四季度有10、11、12个月\")\n",
    "else:\n",
    "\tprint(\"您输入的季度不合法\")\n",
    "\n",
    "m = int(input(\"请输入1~12月份\"))\n",
    "if 1 <= m <= 3:\n",
    "\tprint(\"第一季度\")\n",
    "elif 4 <= m <= 6:\n",
    "\tprint(\"第二季度\")\n",
    "elif 7 <= m <= 9:\n",
    "\tprint(\"第三季度\")\n",
    "elif 10 <= n <= 12:\n",
    "\tprint(\"第四季度\")\n",
    "else:\n",
    "\tprint(\"您输入的月份不合法\")"
   ]
  },
  {
   "cell_type": "markdown",
   "metadata": {},
   "source": [
    "## if 嵌套练习"
   ]
  },
  {
   "cell_type": "markdown",
   "metadata": {},
   "source": [
    "- 输入一个学生的成绩（0-100）\n",
    "- 判断这个学生的成绩是优（90-100）、良（80-89）、及格（60-79）、不及格、不合法"
   ]
  },
  {
   "cell_type": "code",
   "execution_count": 9,
   "metadata": {},
   "outputs": [
    {
     "name": "stdout",
     "output_type": "stream",
     "text": [
      "请输入学生成绩75\n",
      "及格\n"
     ]
    }
   ],
   "source": [
    "n = int(input(\"请输入学生成绩\"))\n",
    "if 0 <= n <= 100:\n",
    "    if 90 <= n <= 100:\n",
    "        print(\"优秀\")\n",
    "    elif 80 <= n < 90:\n",
    "        print(\"良好\")\n",
    "    elif 60 <= n < 80:\n",
    "        print(\"及格\")\n",
    "    else:\n",
    "        print(\"不及格\")\n",
    "else:\n",
    "    print(\"您输入的成绩不合法！\")"
   ]
  },
  {
   "cell_type": "markdown",
   "metadata": {},
   "source": [
    "## 条件表达式练习\n",
    "- 用if语句计算出这个数的绝对值并打印出来\n",
    "- 用条件表达式计算出这个数的绝对值并打印出来"
   ]
  },
  {
   "cell_type": "code",
   "execution_count": 12,
   "metadata": {},
   "outputs": [
    {
     "name": "stdout",
     "output_type": "stream",
     "text": [
      "请输入整数：-5\n",
      "5\n"
     ]
    }
   ],
   "source": [
    "n = int(input(\"请输入整数：\"))\n",
    "n = -n if n < 0 else n\n",
    "print(n)"
   ]
  },
  {
   "cell_type": "markdown",
   "metadata": {},
   "source": [
    "## 闰年"
   ]
  },
  {
   "cell_type": "code",
   "execution_count": 13,
   "metadata": {},
   "outputs": [
    {
     "name": "stdout",
     "output_type": "stream",
     "text": [
      "请输入年份：2004\n",
      "为闰年\n"
     ]
    }
   ],
   "source": [
    "y = int(input(\"请输入年份：\"))\n",
    "if y % 400 == 0 or (y % 4 == 0 and y % 100 != 0):\n",
    "\tprint(\"为闰年\")\n",
    "else: print(\"不是闰年\")"
   ]
  },
  {
   "cell_type": "markdown",
   "metadata": {},
   "source": [
    "## BMI"
   ]
  },
  {
   "cell_type": "code",
   "execution_count": 18,
   "metadata": {},
   "outputs": [
    {
     "name": "stdout",
     "output_type": "stream",
     "text": [
      "请输入您的身高178\n",
      "请输入您的体重75\n",
      "您的BMI为 23.671253629592222\n",
      "正常\n"
     ]
    }
   ],
   "source": [
    "h = int(input(\"请输入您的身高\"))\n",
    "w = int(input(\"请输入您的体重\"))\n",
    "BMI = w/(h/100)**2\n",
    "print(\"您的BMI为\", BMI)\n",
    "if BMI < 18.5:\n",
    "\tprint(\"过轻\")\n",
    "elif 18.5 <= BMI <= 24:\n",
    "\tprint(\"正常\")\n",
    "else:\n",
    "\tprint(\"超重\")"
   ]
  },
  {
   "cell_type": "markdown",
   "metadata": {},
   "source": [
    "## 字符串练习\n",
    "- 写一个程序，打印高度为4的矩形方框，要求输入一个整数，代表矩形的宽度，输出矩形"
   ]
  },
  {
   "cell_type": "code",
   "execution_count": 19,
   "metadata": {},
   "outputs": [
    {
     "name": "stdout",
     "output_type": "stream",
     "text": [
      "请输入宽度：10\n",
      "**********\n",
      "*        *\n",
      "*        *\n",
      "**********\n"
     ]
    }
   ],
   "source": [
    "n = int(input(\"请输入宽度：\"))\n",
    "print(\"*\"*n)\n",
    "print('*'+' '*(n-2)+'*')\n",
    "print('*'+' '*(n-2)+'*')\n",
    "print(\"*\"*n)"
   ]
  },
  {
   "cell_type": "markdown",
   "metadata": {},
   "source": [
    "## 切片练习\n",
    "1. 写一个程序，输入一个字符串，把字符串的第一个和最后一个字符去掉，打印出处理后的字符串。\n",
    "2. 输入任意一个字符串，判断这个字符串是否是回文，回文是指中心对称的文字。"
   ]
  },
  {
   "cell_type": "code",
   "execution_count": 21,
   "metadata": {},
   "outputs": [
    {
     "name": "stdout",
     "output_type": "stream",
     "text": [
      "请输入一串字符串haoenwei\n",
      "aoenwe\n",
      "请输入一串字符串，判断是否为回文abcba\n",
      "是回文\n"
     ]
    }
   ],
   "source": [
    "s = input(\"请输入一串字符串\")\n",
    "print(s[1:-1])\n",
    "s = input(\"请输入一串字符串，判断是否为回文\")\n",
    "if s == s[::-1]:\n",
    "    print(\"是回文\")\n",
    "else:\n",
    "    print(\"不是回文\")"
   ]
  },
  {
   "cell_type": "markdown",
   "metadata": {},
   "source": [
    "## 字符练习1\n",
    "1. 写一个程序，输入一段字符串，如果字符串不为空，则把第一个字符串的编码打印出来\n",
    "2. 写一个程序，输入一个整数值（0～65535），打印这个数值对应的字符。"
   ]
  },
  {
   "cell_type": "code",
   "execution_count": 5,
   "metadata": {},
   "outputs": [
    {
     "name": "stdout",
     "output_type": "stream",
     "text": [
      "请输入一串字符串，打印出第一个字符的编码hello\n",
      "104\n",
      "请输入一个整数值(0~65536)打印出这个数值对应的字符20013\n",
      "中\n"
     ]
    }
   ],
   "source": [
    "s = input(\"请输入一串字符串，打印出第一个字符的编码\")\n",
    "print(ord(s[0]))\n",
    "c = int(input(\"请输入一个整数值(0~65536)打印出这个数值对应的字符\"))\n",
    "print(chr(c))"
   ]
  },
  {
   "cell_type": "markdown",
   "metadata": {},
   "source": [
    "## 字符练习\n",
    "1. 用字符串*运算符打印三角形，要求输入一个整数，此整数代表三角形离左侧的字节数。\n",
    "2. 输入三行文字，让这三行文字在一个方框中显示，如输入（不要输入中文）："
   ]
  },
  {
   "cell_type": "code",
   "execution_count": 10,
   "metadata": {},
   "outputs": [
    {
     "name": "stdout",
     "output_type": "stream",
     "text": [
      "请输入三角形离左侧的字节数：5\n",
      "       *  \n",
      "      *** \n",
      "     *****\n",
      "请输入第一行文字asdfsdf\n",
      "请输入第二行文字sadf\n",
      "请输入第三行文字gdfgsdfgdfg\n",
      "+-----------+\n",
      "|  asdfsdf  |\n",
      "|    sadf    |\n",
      "|gdfgsdfgdfg|\n",
      "+-----------+\n"
     ]
    }
   ],
   "source": [
    "n = int(input(\"请输入三角形离左侧的字节数：\"))\n",
    "print(' '*n + '  *  ')\n",
    "print(' '*n + ' *** ')\n",
    "print(' '*n + '*****')\n",
    "\n",
    "s1 = input(\"请输入第一行文字\")\n",
    "s2 = input(\"请输入第二行文字\")\n",
    "s3 = input(\"请输入第三行文字\")\n",
    "\n",
    "m = len(s1)\n",
    "if len(s2) > m:\n",
    "\tm = len(s2)\n",
    "if len(s3) > m:\n",
    "\tm = len(s3)\n",
    "\n",
    "line1 = \"+\" + m * '-' + \"+\"\n",
    "line2 = \"|\" + round((m-len(s1))/2) * \" \" + s1 + round((m-len(s1))/2) * \" \"+\"|\"\n",
    "line3 = \"|\" + round((m-len(s2))/2) * \" \" + s2 + round((m-len(s2))/2) * \" \"+\"|\"\n",
    "line4 = \"|\" + round((m-len(s3))/2) * \" \" + s3 + round((m-len(s3))/2) * \" \"+\"|\"\n",
    "print(line1)\n",
    "print(line2)\n",
    "print(line3)\n",
    "print(line4)\n",
    "print(line1)"
   ]
  },
  {
   "cell_type": "markdown",
   "metadata": {},
   "source": [
    "## 字符练习\n",
    "1. 判断您输入的字符串有几个空格\n",
    "2. 将原字符串的左右空白字符去掉，打印出有效字符的长度。\n",
    "3. 判断您输入的是否为数字。"
   ]
  },
  {
   "cell_type": "code",
   "execution_count": 16,
   "metadata": {},
   "outputs": [
    {
     "name": "stdout",
     "output_type": "stream",
     "text": [
      "请输入一串字符串，判断有几个空格  hello\n",
      "有2个空格\n",
      "请输入字符串，去掉左右空白字符，打印出有效字符长度haha    \n",
      "haha 有4个有效字符\n",
      "请输入字符串，判断是否为数字6\n",
      "是数字\n"
     ]
    }
   ],
   "source": [
    "s = input(\"请输入一串字符串，判断有几个空格\")\n",
    "print(\"有%d个空格\"%s.count(' '))\n",
    "\n",
    "s = input(\"请输入字符串，去掉左右空白字符，打印出有效字符长度\")\n",
    "j = 0\n",
    "for i in s.strip():\n",
    "    j += 1\n",
    "print(s.strip(), \"有%d个有效字符\" % j)\n",
    "\n",
    "s = input(\"请输入字符串，判断是否为数字\")\n",
    "if s.isdigit():\n",
    "\tprint(\"是数字\")\n",
    "else:\n",
    "\tprint(\"不是数字\")"
   ]
  },
  {
   "cell_type": "markdown",
   "metadata": {},
   "source": [
    "## 格式字符练习\n",
    "1. 输入三行文字，让这些文字依次以20字符的宽度右对齐，输出。\n",
    "2. 能否以最长字符串的长度进行右对齐显示，左侧填充空格。"
   ]
  },
  {
   "cell_type": "code",
   "execution_count": 18,
   "metadata": {},
   "outputs": [
    {
     "name": "stdout",
     "output_type": "stream",
     "text": [
      "请输入第一行字符串hello\n",
      "请输入第二行字符串world\n",
      "请输入第三行字符串hahahaha\n",
      "               hello\n",
      "            hahahaha\n",
      "         gdfgsdfgdfg\n",
      "以最长的字符串为长度进行右对齐显示\n",
      "      hello\n",
      "   hahahaha\n",
      "gdfgsdfgdfg\n"
     ]
    }
   ],
   "source": [
    "s1 = input(\"请输入第一行字符串\")\n",
    "s2 = input(\"请输入第二行字符串\")\n",
    "s2 = input(\"请输入第三行字符串\")\n",
    "print(\"%20s\" % s1)\n",
    "print(\"%20s\" % s2)\n",
    "print(\"%20s\" % s3)\n",
    "\n",
    "print(\"以最长的字符串为长度进行右对齐显示\")\n",
    "m = len(s1)\n",
    "if len(s2) > m:\n",
    "\tm = len(s2)\n",
    "if len(s3) > m:\n",
    "\tm = len(s3)\n",
    "\n",
    "# 或 m = max(len(s1),len(s2),len(s3))\n",
    "fmt = \"%%%ds\" % m\n",
    "print(fmt % s1)\n",
    "print(fmt % s2)\n",
    "print(fmt % s3)"
   ]
  },
  {
   "cell_type": "markdown",
   "metadata": {},
   "source": [
    "## whlie 练习1\n",
    "1. 输入一个整数，用end变量绑定，打印出1～end的所有整数，包含end。\n",
    "2. 写程序，输入第二个整数，第一个用begin绑定，第二个用end绑定，打印出begin～end的所有整数。"
   ]
  },
  {
   "cell_type": "code",
   "execution_count": 30,
   "metadata": {},
   "outputs": [
    {
     "name": "stdout",
     "output_type": "stream",
     "text": [
      "请输入End：5\n",
      "1\n",
      "2\n",
      "3\n",
      "4\n",
      "5\n"
     ]
    }
   ],
   "source": [
    "n = int(input(\"请输入End：\"))\n",
    "i = 1\n",
    "while i <= n:\n",
    "    print(i)\n",
    "    i += 1"
   ]
  },
  {
   "cell_type": "code",
   "execution_count": null,
   "metadata": {},
   "outputs": [],
   "source": []
  }
 ],
 "metadata": {
  "kernelspec": {
   "display_name": "Python 3",
   "language": "python",
   "name": "python3"
  },
  "language_info": {
   "codemirror_mode": {
    "name": "ipython",
    "version": 3
   },
   "file_extension": ".py",
   "mimetype": "text/x-python",
   "name": "python",
   "nbconvert_exporter": "python",
   "pygments_lexer": "ipython3",
   "version": "3.7.1"
  }
 },
 "nbformat": 4,
 "nbformat_minor": 2
}
