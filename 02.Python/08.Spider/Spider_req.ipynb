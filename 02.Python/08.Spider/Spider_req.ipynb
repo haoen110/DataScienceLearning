{
 "cells": [
  {
   "cell_type": "markdown",
   "metadata": {},
   "source": [
    "# requests模块\n",
    "1. 安装(用管理员身份去打开Anaconda Prompt)\n",
    "    - `conda install requests`\n",
    "    - `python -m pip install requests` # 以管理员身份去执行pip安装命令\n",
    "2. 常用方法\n",
    "    1. get(url,headers=headers)：发起请求,获取响应对象\n",
    "    2. response属性\n",
    "        - `response.text`：返回字符串类型\n",
    "        - `response.content`：返回bytes类型，应用场景：爬取非结构化数据\n",
    "        - `response.encoding`：一般返回 ：ISO-8859-1\n",
    "        - `response.encoding` = \"utf-8\"：制定编码格式\n",
    "        - `response.status_code`：返回服务器响应码\n",
    "        - `response.url`：返回数据的URL地址\n",
    "    3. get()使用场景\n",
    "        - 没有查询参数：res = requests.get(url,headers=headers)\n",
    "        - 有查询参数：params={}，注：params参数必须为字典,自动进行编码\n",
    "    4. post() 参数名：data\n",
    "        - data = {}"
   ]
  },
  {
   "cell_type": "code",
   "execution_count": null,
   "metadata": {},
   "outputs": [],
   "source": []
  }
 ],
 "metadata": {
  "kernelspec": {
   "display_name": "Python 3",
   "language": "python",
   "name": "python3"
  },
  "language_info": {
   "codemirror_mode": {
    "name": "ipython",
    "version": 3
   },
   "file_extension": ".py",
   "mimetype": "text/x-python",
   "name": "python",
   "nbconvert_exporter": "python",
   "pygments_lexer": "ipython3",
   "version": "3.7.1"
  }
 },
 "nbformat": 4,
 "nbformat_minor": 2
}
