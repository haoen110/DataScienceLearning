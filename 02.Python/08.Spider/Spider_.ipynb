{
 "cells": [
  {
   "cell_type": "markdown",
   "metadata": {},
   "source": [
    "动态网站数据抓取\n",
    "  1、Ajax动态加载\n",
    "    1、特点 ：滚动鼠标混轮时加载\n",
    "    2、抓包工具 ：查询参数在 WebForms -> QueryString"
   ]
  }
 ],
 "metadata": {
  "kernelspec": {
   "display_name": "Python 3",
   "language": "python",
   "name": "python3"
  }
 },
 "nbformat": 4,
 "nbformat_minor": 2
}
