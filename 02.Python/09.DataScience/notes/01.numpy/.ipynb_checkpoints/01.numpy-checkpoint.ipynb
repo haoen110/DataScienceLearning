{
 "cells": [
  {
   "cell_type": "markdown",
   "metadata": {},
   "source": [
    "# 一、Numpy是什么\n",
    "1. Numerical Python，数值的Python，补充了Python语言所欠缺的数值计算能力。\n",
    "2. Numpy是其它数据分析及机器学习库的底层库。\n",
    "3. Numpy完全标准C语言实现，运行效率充分优化。\n",
    "4. Numpy开源免费。\n",
    "---\n",
    "# 二、Numpy的历史\n",
    "1. 1995年，Numeric，Python语言数值计算扩充。\n",
    "2. 2001年，Scipy->Numarray，多维数组运算。\n",
    "3. 2005年，Numeric+Numarray->Numpy。\n",
    "4. 2006年，Numpy脱离Scipy成为独立的项目。\n",
    "---\n",
    "# 三、Numpy的核心：多维数组\n",
    "1. 代码简洁：减少Python代码中的循环。\n",
    "2. 底层实现：厚内核(C)+薄接口(Python)，保证性能。"
   ]
  },
  {
   "cell_type": "code",
   "execution_count": 3,
   "metadata": {},
   "outputs": [
    {
     "name": "stdout",
     "output_type": "stream",
     "text": [
      "原始方法： 106456\n",
      "numpy方法： 5676\n"
     ]
    }
   ],
   "source": [
    "# vector.py\n",
    "import datetime as dt\n",
    "import numpy as np\n",
    "n = 100000\n",
    "start = dt.datetime.now()\n",
    "A, B = [], []\n",
    "for i in range(n):\n",
    "    A.append(i ** 2)\n",
    "    B.append(i ** 3)\n",
    "C = []\n",
    "for a, b in zip(A, B):\n",
    "    C.append(a + b)\n",
    "print(\"原始方法：\", (dt.datetime.now() - start).microseconds)\n",
    "\n",
    "start = dt.datetime.now()\n",
    "A, B = np.arange(n) ** 2, np.arange(n) ** 3\n",
    "C = A + B\n",
    "print(\"Numpy方法：\", (dt.datetime.now() - start).microseconds)"
   ]
  },
  {
   "cell_type": "markdown",
   "metadata": {},
   "source": [
    "---\n",
    "# 四、Numpy基础\n",
    "## 数组对象\n",
    "#### 1. 用`np.ndarray`类的对象表示n维数组\n",
    "    - 实际数据：数组中元素\n",
    "    - 元数据：描述数组中的元素\n",
    "    - 将实际数据与元数据分开存放，一方面提高了内存空间的使用效率，另一方面减少对实际数据的访问频率，提高性能\n",
    "#### 2. Numpy数组是**同质数组**，即所有元素的数据类型必须相同\n",
    "#### 3. Numpy数组的下标**从0开始**，最后一个元素的下标为数组长度减1\n",
    "#### 4. `np.ndarray.dtype/shape/size`：类型/维度/大小\n",
    "#### 5. `np.arange(起始值(0),终止值,步长(1))`->等差序列\n",
    "- np.array(任何可被解释为Numpy数组的逻辑结构)\n",
    "- 任意维度和类型的数组对象"
   ]
  },
  {
   "cell_type": "code",
   "execution_count": 10,
   "metadata": {},
   "outputs": [
    {
     "name": "stdout",
     "output_type": "stream",
     "text": [
      "[1 2] (2,)\n",
      "[[1 2 3]\n",
      " [4 5 6]] (2, 3)\n",
      "[[1 2 3]\n",
      " [4 5 6]\n",
      " [7 8 9]] (3, 3)\n"
     ]
    }
   ],
   "source": [
    "# shape.py\n",
    "import numpy as np\n",
    "a = np.arange(1, 3)\n",
    "print(a, a.shape)\n",
    "\n",
    "b = np.array([[1, 2, 3],\n",
    "              [4, 5, 6]])\n",
    "print(b, b.shape)\n",
    "\n",
    "c = np.array([np.arange(1, 4), np.arange(4, 7), np.arange(7, 10)]) # 二维\n",
    "print(c, c.shape)"
   ]
  },
  {
   "cell_type": "code",
   "execution_count": 17,
   "metadata": {},
   "outputs": [
    {
     "name": "stdout",
     "output_type": "stream",
     "text": [
      "[1 2 3 4 5 6 7 8 9] <class 'numpy.int64'> int64\n",
      "[1. 2. 3. 4. 5. 6. 7. 8. 9.] <class 'numpy.float64'> float64\n",
      "['1' '2' '3' '4' '5' '6' '7' '8' '9'] <class 'numpy.str_'> <U21\n"
     ]
    }
   ],
   "source": [
    "# type.py\n",
    "import numpy as np\n",
    "a = np.arange(1, 10)\n",
    "print(a, type(a[0]), a.dtype)\n",
    "# 转换float类型\n",
    "b = a.astype(float)\n",
    "print(b, type(b[0]), b.dtype)\n",
    "# 转换字符类型\n",
    "c = a.astype(str)\n",
    "print(c, type(c[0]), c.dtype)\n"
   ]
  },
  {
   "cell_type": "code",
   "execution_count": 24,
   "metadata": {},
   "outputs": [
    {
     "name": "stdout",
     "output_type": "stream",
     "text": [
      "[[10 20 30]\n",
      " [40 50 60]] (2, 3) 6 2\n",
      "[10 20 30 40 50 60] (6,) 6 6\n"
     ]
    }
   ],
   "source": [
    "# size.py\n",
    "import numpy as np\n",
    "a = np.array([[10, 20, 30],\n",
    "              [40, 50, 60]])\n",
    "print(a, a.shape, a.size, len(a))  # 一维的话len都可以，二维以上需要用size\n",
    "\n",
    "b = a.reshape((6,))\n",
    "print(b, b.shape, b.size, len(b))"
   ]
  },
  {
   "cell_type": "markdown",
   "metadata": {},
   "source": [
    "---\n",
    "#### 6. 元素索引(下标)\n",
    "- `数组对象[..., 页号, 行号, 列号]`\n",
    "- `数组对象.shape->(..., 页数, 行数, 列数)`\n",
    "- X号：`[0, X数-1]`"
   ]
  },
  {
   "cell_type": "code",
   "execution_count": 35,
   "metadata": {},
   "outputs": [
    {
     "name": "stdout",
     "output_type": "stream",
     "text": [
      "[[[1 2]\n",
      "  [3 4]]\n",
      "\n",
      " [[5 6]\n",
      "  [7 8]]] (2, 2, 2)\n",
      "[[1 2]\n",
      " [3 4]]\n",
      "[1 2]\n",
      "1\n",
      "遍历每一个元素：\n",
      "1 2 3 4 5 6 7 8 "
     ]
    }
   ],
   "source": [
    "# index.py\n",
    "import numpy as np\n",
    "a = np.array([[[1, 2],\n",
    "               [3, 4]],\n",
    "              [[5, 6],\n",
    "               [7, 8]]])\n",
    "print(a, a.shape)\n",
    "print(a[0])\n",
    "print(a[0][0])\n",
    "print(a[0][0][0])\n",
    "\n",
    "# 遍历每一个元素\n",
    "print(\"遍历每一个元素：\")\n",
    "for i in range(a.shape[0]):  # 遍历每一页(2)\n",
    "    for j in range(a.shape[1]):  # 遍历每一页中的每一行(2)\n",
    "        for k in range(a.shape[2]): # 遍历每一行中的每一列(2)\n",
    "            print(a[i][j][k], end=' ')"
   ]
  },
  {
   "cell_type": "markdown",
   "metadata": {},
   "source": [
    "---\n",
    "#### 7. Numpy的内部基本数据类型\n",
    "- 布尔型：bool_\n",
    "- 整数型：int8/int16/int32/int64\n",
    "- 有符号：int8(-128~127)/int16/int32/int64\n",
    "- 无符号：uint8(0~255)/uint16/uint32/uint64\n",
    "- 浮点型：float16/float32/float64\n",
    "- 复数型：complex64/complex128\n",
    "- 字串型：str_，每个字符用32位Unicode编码表示\n",
    "\n",
    "#### 8. 自定义复合类型"
   ]
  },
  {
   "cell_type": "code",
   "execution_count": 57,
   "metadata": {},
   "outputs": [
    {
     "name": "stdout",
     "output_type": "stream",
     "text": [
      "[('123', [4, 5, 6])] 123 [4 5 6]\n",
      "[('123', [4, 5, 6])] 123 [4 5 6]\n",
      "[('123', [4, 5, 6])] 123 [4 5 6] 32\n",
      "[('123', [4, 5, 6])] 123 [4 5 6] 32\n",
      "12 34\n"
     ]
    }
   ],
   "source": [
    "# dtype.py\n",
    "import numpy as np\n",
    "a = np.array([('123', [4, 5, 6])], dtype='U3, 3i4') # 3个Unicode组成的串，3个4字节整型组成的元素\n",
    "print(a, a[0]['f0'], a[0]['f1'])\n",
    "\n",
    "b = np.array([('123', [4, 5, 6])], dtype=[('fa', np.str_, 3), ('fb', np.int32, 3)])\n",
    "# 两个元组内分别代表两个元素的名称、类别、长度\n",
    "print(b, b[0]['fa'], b[0]['fb'])\n",
    "\n",
    "# 把dtype放入字典中\n",
    "c = np.array([('123', [4, 5, 6])],\n",
    "             dtype={'names': ['fa', 'fb'],\n",
    "                    'formats': ['U3', '3i4']})\n",
    "print(c, c[0]['fa'], c[0]['fb'], d.itemsize)\n",
    "\n",
    "# 指定内存占用空间\n",
    "d = np.array([('123', [4, 5, 6])],\n",
    "             dtype={'fa':('U3', 0),\n",
    "                    'fb':('3i4', 20)})\n",
    "print(d, d[0]['fa'], d[0]['fb'], d.itemsize) # 显示占用内存大小，有时候内存布局会影响效率\n",
    "\n",
    "# \n",
    "e = np.array([0x1234], dtype=('>u2', {'lo':('u1', 0),  # 用大于小于号规定大端小端字节序\n",
    "                                     'hi':('u1', 1)}))\n",
    "print('{:x} {:x}'.format(e['lo'][0], e['hi'][0]))"
   ]
  },
  {
   "cell_type": "markdown",
   "metadata": {},
   "source": [
    "#### 9. 类型字符码\n",
    "    np.bool_: ?\n",
    "    np.int8: b\n",
    "    np.uint8: B\n",
    "    np.int8/16/32/64: i1/2/4/8\n",
    "    np.uint8/16/32/64: u1/2/4/8\n",
    "    np.float/16/32/64: f2/4/8\n",
    "    np.complex64/128: c8/16\n",
    "    np.str_: U<字符数>\n",
    "    np.datetime64: M8\n",
    "- 字节序前缀，用于多字节整数和字符串：\n",
    "    - `</>/[=]`分别表示小端/大端/硬件字节序。\n",
    "- <字节序前缀><维度><类型><字节数或字符数>\n",
    "    - `>3i4`：大端字节序，3个元素的一维数组，每个元素都是整型，每个整型元素占4个字节。\n",
    "    - `<(2,3)u8`：小端字节序，6个元素2行3列的二维数组，每个元素都是无符号整型，每个无符号整型元素占8个字节。\n",
    "    - `>U7`: 包含7个字符的Unicode字符串，每个字符占4个字节，采用大端字节序。"
   ]
  },
  {
   "cell_type": "markdown",
   "metadata": {},
   "source": [
    "#### 10. 切片\n",
    "- `数组对象[起始位置:终止位置:位置步长, ...]`\n",
    "- 缺省起始位置：(位置步长+)首/(位置步长-)尾\n",
    "- 缺省终止位置：(位置步长+)尾后/(位置步长-)首前\n",
    "- 缺省位置步长：1"
   ]
  },
  {
   "cell_type": "code",
   "execution_count": 90,
   "metadata": {},
   "outputs": [
    {
     "name": "stdout",
     "output_type": "stream",
     "text": [
      "[1 2 3 4 5 6 7 8 9]\n",
      "[1 2 3]\n",
      "[4 5 6]\n",
      "[7 8 9]\n",
      "[9 8 7 6 5 4 3 2 1]\n",
      "[9 8 7]\n",
      "[6 5 4]\n",
      "[3 2 1]\n",
      "[1 2 3 4 5 6 7 8 9]\n",
      "[1 2 3 4 5 6 7 8 9]\n",
      "[1 4 7]\n",
      "========三维========\n",
      "[[[ 1  2  3  4]\n",
      "  [ 5  6  7  8]\n",
      "  [ 9 10 11 12]]\n",
      "\n",
      " [[13 14 15 16]\n",
      "  [17 18 19 20]\n",
      "  [21 22 23 24]]]\n",
      "========切片========\n",
      "[ 1 13]\n",
      "[[ 1  2  3  4]\n",
      " [ 5  6  7  8]\n",
      " [ 9 10 11 12]]\n",
      "[5 6 7 8]\n",
      "[5 7]\n",
      "[[ 2  6 10]\n",
      " [14 18 22]]\n",
      "[[ 5  6  7  8]\n",
      " [17 18 19 20]]\n",
      "[6 8]\n",
      "[ 4  8 12]\n",
      "[12  8  4]\n",
      "[ 4 12]\n",
      "[[[21 22 23 24]\n",
      "  [17 18 19 20]\n",
      "  [13 14 15 16]]\n",
      "\n",
      " [[ 9 10 11 12]\n",
      "  [ 5  6  7  8]\n",
      "  [ 1  2  3  4]]]\n",
      "[[[ 4  3  2  1]\n",
      "  [ 8  7  6  5]\n",
      "  [12 11 10  9]]\n",
      "\n",
      " [[16 15 14 13]\n",
      "  [20 19 18 17]\n",
      "  [24 23 22 21]]]\n",
      "[[19 20]\n",
      " [23 24]]\n"
     ]
    }
   ],
   "source": [
    "# slice.py\n",
    "import numpy as np\n",
    "a = np.arange(1, 10)\n",
    "print(a)\n",
    "print(a[:3])  # 切到第四个元素之前\n",
    "print(a[3:6])\n",
    "print(a[6:])  # 从第七个元素取到最后\n",
    "print(a[::-1])\n",
    "print(a[:-4:-1])\n",
    "print(a[-4:-7:-1])\n",
    "print(a[-7::-1])\n",
    "print(a[::])\n",
    "print(a[:])\n",
    "print(a[::3])\n",
    "\n",
    "print(\"========三维========\")\n",
    "b = np.arange(1, 25).reshape(2, 3, 4)\n",
    "print(b)\n",
    "print(\"========切片========\")\n",
    "print(b[:, 0, 0])\n",
    "print(b[0, :, :])\n",
    "print(b[0, 1])\n",
    "print(b[0, 1, ::2])\n",
    "print(b[..., 1])\n",
    "print(b[:, 1])\n",
    "print(b[0, 1, 1::2])\n",
    "print(b[0, :, -1])\n",
    "print(b[0, ::-1, -1])\n",
    "print(b[0, ::2, -1])\n",
    "print(b[::-1, ::-1])\n",
    "print(b[..., ::-1])\n",
    "print(b[-1, 1:, 2:])"
   ]
  },
  {
   "cell_type": "markdown",
   "metadata": {},
   "source": [
    "#### 11. 改变维度\n",
    "- 返回一个具有新维度的新数组对象\n",
    "    - 视图变维`reshape/ravel`\n",
    "        - 数据共享\n",
    "    - 复制变维`flatten`\n",
    "        - 数据独立\n",
    "- 就地变维，在原数组对象之上，改变其维度，不返回新数组\n",
    "    - `xxx.shape = ...`\n",
    "    - `xxx.resize(...)`"
   ]
  },
  {
   "cell_type": "code",
   "execution_count": 114,
   "metadata": {},
   "outputs": [
    {
     "name": "stdout",
     "output_type": "stream",
     "text": [
      "[1 2 3 4 5 6 7 8]\n",
      "[[1 2 3 4]\n",
      " [5 6 7 8]]\n",
      "[[[1 2]\n",
      "  [3 4]]\n",
      "\n",
      " [[5 6]\n",
      "  [7 8]]]\n",
      "[1 2 3 4 5 6 7 8]\n",
      "[1 2 3 4 5 6 7 8]\n",
      "[11 12 13 14 15 16 17 18]\n",
      "================\n",
      "[[11 12 13 14]\n",
      " [15 16 17 18]] [[[11 12]\n",
      "  [13 14]]\n",
      "\n",
      " [[15 16]\n",
      "  [17 18]]] [11 12 13 14 15 16 17 18] [1 2 3 4 5 6 7 8]\n",
      "[[11 12 13 14]\n",
      " [15 16 17 18]]\n",
      "[[11 15]\n",
      " [12 16]\n",
      " [13 17]\n",
      " [14 18]]\n"
     ]
    }
   ],
   "source": [
    "# reshape.py\n",
    "a = np.arange(1, 9)\n",
    "print(a)\n",
    "b = a.reshape(2, 4)\n",
    "print(b)\n",
    "c = b.reshape(2, 2, 2)\n",
    "print(c)\n",
    "d = c.ravel()\n",
    "print(d)\n",
    "e = c.flatten()\n",
    "print(e)\n",
    "\n",
    "a += 10\n",
    "print(a)\n",
    "print(\"================\")\n",
    "print(b, c, d, e) # a中的数据做出改变，abcd都会改变，由于数据共享，e使用的是flatten，数据独立\n",
    "\n",
    "a.shape = (2, 4)\n",
    "print(a)\n",
    "f = b.transpose() # 转置，同样也是视图变维\n",
    "print(f)"
   ]
  },
  {
   "cell_type": "markdown",
   "metadata": {},
   "source": [
    "#### 12. 组合与拆分\n",
    "- 垂直：\n",
    "    - `np.vstack((上, 下))`->组合数组\n",
    "    - `np.vsplit(数组, 份数)`->拆分：上, ..., 下\n",
    "    - `np.concatenate((上, 下), axis=0)`->组合数组\n",
    "    - `np.split(数组, 份数, axis=0)`->拆分\n",
    "- 水平：\n",
    "    - `np.hstack((左, 右))`->组合数组\n",
    "    - `np.hsplit(数组, 份数)`->拆分：左, ..., 右\n",
    "    - `np.concatenate((左, 右), axis=1)`->组合数组\n",
    "    - `np.split(数组, 份数, axis=1)`->拆分\n",
    "    \n",
    "> - axis表示轴向\n",
    "- 二维：0-行，垂直，1-列，水平\n",
    "- 三维：0-页，深度，1-行，垂直，2-列，水平\n",
    "\n",
    "- 深度：\n",
    "    - `np.dstack((前, 后))`->组合数组\n",
    "    - `np.dsplit(数组, 份数)`->前, ..., 后\n",
    "- 行列(可以用一维数组做参数)\n",
    "    - `np.row_stack((上, 下))`->组合数组\n",
    "    - `np.column_stack((左, 右))`->组合数组"
   ]
  },
  {
   "cell_type": "code",
   "execution_count": 141,
   "metadata": {},
   "outputs": [
    {
     "name": "stdout",
     "output_type": "stream",
     "text": [
      "[[11 12 13]\n",
      " [14 15 16]\n",
      " [17 18 19]]\n",
      "[[21 22 23]\n",
      " [24 25 26]\n",
      " [27 28 29]]\n",
      "[[11 12 13]\n",
      " [14 15 16]\n",
      " [17 18 19]\n",
      " [21 22 23]\n",
      " [24 25 26]\n",
      " [27 28 29]]\n",
      "[[11 12 13]\n",
      " [14 15 16]\n",
      " [17 18 19]\n",
      " [21 22 23]\n",
      " [24 25 26]\n",
      " [27 28 29]]\n",
      "e, f:\n",
      "[[11 12 13]\n",
      " [14 15 16]\n",
      " [17 18 19]]\n",
      "[[21 22 23]\n",
      " [24 25 26]\n",
      " [27 28 29]]\n",
      "g, h:\n",
      "[[11 12 13]\n",
      " [14 15 16]\n",
      " [17 18 19]]\n",
      "[[21 22 23]\n",
      " [24 25 26]\n",
      " [27 28 29]]\n",
      "[[11 12 13 21 22 23]\n",
      " [14 15 16 24 25 26]\n",
      " [17 18 19 27 28 29]]\n",
      "[[11 12 13 21 22 23]\n",
      " [14 15 16 24 25 26]\n",
      " [17 18 19 27 28 29]]\n",
      "k, l:\n",
      "[[11 12 13]\n",
      " [14 15 16]\n",
      " [17 18 19]]\n",
      "[[21 22 23]\n",
      " [24 25 26]\n",
      " [27 28 29]]\n",
      "m, n:\n",
      "[[11 12 13]\n",
      " [14 15 16]\n",
      " [17 18 19]]\n",
      "[[21 22 23]\n",
      " [24 25 26]\n",
      " [27 28 29]]\n",
      "[[[11 21]\n",
      "  [12 22]\n",
      "  [13 23]]\n",
      "\n",
      " [[14 24]\n",
      "  [15 25]\n",
      "  [16 26]]\n",
      "\n",
      " [[17 27]\n",
      "  [18 28]\n",
      "  [19 29]]]\n",
      "p, q:\n",
      "[[11 12 13]\n",
      " [14 15 16]\n",
      " [17 18 19]]\n",
      "[[21 22 23]\n",
      " [24 25 26]\n",
      " [27 28 29]]\n",
      "[11 12 13 14 15 16 17 18 19] [21 22 23 24 25 26 27 28 29]\n",
      "[[11 12 13 14 15 16 17 18 19]\n",
      " [21 22 23 24 25 26 27 28 29]]\n"
     ]
    }
   ],
   "source": [
    "# stack.py\n",
    "import numpy as np\n",
    "a = np.arange(11, 20).reshape(3, 3)\n",
    "print(a)\n",
    "b = a + 10\n",
    "print(b)\n",
    "\n",
    "c = np.vstack((a,b))\n",
    "print(c)\n",
    "\n",
    "d = np.concatenate((a, b), axis=0)\n",
    "print(d)\n",
    "\n",
    "e, f = np.vsplit(c, 2)\n",
    "print(\"e, f:\", e, f, sep='\\n')\n",
    "\n",
    "g, h = np.split(d, 2, axis=0)\n",
    "print(\"g, h:\", e, f, sep='\\n')\n",
    "\n",
    "i = np.hstack((a, b))\n",
    "print(i)\n",
    "j = np.concatenate((a, b), axis=1)\n",
    "print(j)\n",
    "k, l = np.hsplit(i, 2)\n",
    "print(\"k, l:\", k, l, sep='\\n')\n",
    "m, n = np.split(j, 2, axis=1)\n",
    "print(\"m, n:\", m, n, sep='\\n')\n",
    "\n",
    "o = np.dstack((a, b))\n",
    "print(o)\n",
    "p, q = np.dsplit(o, 2)\n",
    "print(\"p, q:\", p.T[0].T, q.T[0].T, sep='\\n')\n",
    "\n",
    "a, b = a.ravel(), b.ravel()\n",
    "print(a, b)\n",
    "r = np.row_stack((a, b))\n",
    "print(r)"
   ]
  },
  {
   "cell_type": "markdown",
   "metadata": {},
   "source": [
    "#### 13. ndarray类的属性\n",
    "- shape - 维度\n",
    "- dtype - 元素类型\n",
    "- size - 元素数量\n",
    "- ndim - 维数，len(shape)\n",
    "- itemsize - 元素字节数\n",
    "- nbytes - 总字节数 = size x itemsize\n",
    "- real - 复数数组的实部数组\n",
    "- imag - 复数数组的虚部数组\n",
    "- T - 数组对象的转置视图\n",
    "- flat - 扁平迭代器\n",
    "- 数组对象.tolist()->列表"
   ]
  },
  {
   "cell_type": "code",
   "execution_count": 148,
   "metadata": {},
   "outputs": [
    {
     "name": "stdout",
     "output_type": "stream",
     "text": [
      "(3, 3)\n",
      "complex128\n",
      "9\n",
      "2\n",
      "9\n",
      "16\n",
      "144\n",
      "[[1. 2. 3.]\n",
      " [4. 5. 6.]\n",
      " [7. 8. 9.]]\n",
      "[[1. 4. 7.]\n",
      " [2. 5. 8.]\n",
      " [3. 6. 9.]]\n",
      "[[1.+1.j 4.+2.j 7.+3.j]\n",
      " [2.+4.j 5.+5.j 8.+6.j]\n",
      " [3.+7.j 6.+8.j 9.+9.j]]\n",
      "[(1+1j), (2+4j), (3+7j), (4+2j), (5+5j), (6+8j), (7+3j), (8+6j), (9+9j)]\n",
      "[[(1+1j), (2+4j), (3+7j)], [(4+2j), (5+5j), (6+8j)], [(7+3j), (8+6j), (9+9j)]]\n"
     ]
    }
   ],
   "source": [
    "# attr.py\n",
    "a = np.array([[1 + 1j, 2 + 4j, 3 + 7j],\n",
    "              [4 + 2j, 5 + 5j, 6 + 8j],\n",
    "              [7 + 3j, 8 + 6j, 9 + 9j]])\n",
    "print(a.shape)\n",
    "print(a.dtype)\n",
    "print(a.size)\n",
    "print(a.ndim)\n",
    "print(a.size)\n",
    "print(a.itemsize)\n",
    "print(a.nbytes)\n",
    "print(a.real, a.imag, sep='\\n')\n",
    "print(a.T)\n",
    "print([elem for elem in a.flat])\n",
    "b = a.tolist()\n",
    "print(b)"
   ]
  }
 ],
 "metadata": {
  "kernelspec": {
   "display_name": "Python 3",
   "language": "python",
   "name": "python3"
  },
  "language_info": {
   "codemirror_mode": {
    "name": "ipython",
    "version": 3
   },
   "file_extension": ".py",
   "mimetype": "text/x-python",
   "name": "python",
   "nbconvert_exporter": "python",
   "pygments_lexer": "ipython3",
   "version": "3.7.1"
  }
 },
 "nbformat": 4,
 "nbformat_minor": 2
}
