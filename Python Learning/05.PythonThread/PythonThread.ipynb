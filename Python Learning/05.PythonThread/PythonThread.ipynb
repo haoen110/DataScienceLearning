{
 "cells": [
  {
   "cell_type": "markdown",
   "metadata": {},
   "source": [
    "# 线程\n",
    "\n",
    "- 什么是线程\n",
    "    - 线程也是一种多任务编程方法，可以利用计算机多核资源完成程序的并发执行。线程又被称为轻量级的进程。\n",
    "\n",
    "\n",
    "- 线程**特征**\n",
    "    * 线程计算机**多核分配**的最小单位\n",
    "    * 一个进程可以包含**多个线程**\n",
    "    * 线程也是一个运行的过程，消耗计算机资源，多个线程共享进程的资源和空间\n",
    "    * 线程的创建删除**消耗的资源**都要远远小于进程\n",
    "    * 多个线程之间执行互不干扰\n",
    "    * 线程也有自己的特有属性，比如**指令集ID**"
   ]
  },
  {
   "cell_type": "markdown",
   "metadata": {},
   "source": [
    "## threading 模块创建线程\n",
    "\n",
    "`threading.Thread()`\n",
    "- 功能：创建线程对象\n",
    "- 参数：\n",
    "    - name    线程名称  默认 Thread-1 \n",
    "    - target  线程函数 \n",
    "    - args    元组   给线程函数位置传参\n",
    "    - kwargs  字典   给线程函数键值传参\n",
    " \n",
    "`t.start()`  启动线程 自动运行线程函数  \n",
    "`t.join([timeout])`  回收线程"
   ]
  },
  {
   "cell_type": "code",
   "execution_count": 1,
   "metadata": {},
   "outputs": [
    {
     "name": "stdout",
     "output_type": "stream",
     "text": [
      "a =  1\n",
      "想听灌篮高手 5507\n",
      "播放葫芦娃 5507\n",
      "想听灌篮高手 5507\n",
      "播放葫芦娃 5507\n",
      "想听灌篮高手 5507\n",
      "播放葫芦娃想听灌篮高手 5507 5507\n",
      "\n",
      "想听灌篮高手 5507\n",
      "播放葫芦娃 5507\n",
      "播放葫芦娃 5507\n",
      "mian Thread a =  10000\n"
     ]
    }
   ],
   "source": [
    "import threading \n",
    "from time import sleep \n",
    "import os \n",
    "\n",
    "a = 1\n",
    "\n",
    "#线程函数\n",
    "def music():\n",
    "    global a\n",
    "    print(\"a = \",a)\n",
    "    a = 10000\n",
    "    for i in range(5):\n",
    "        sleep(2)\n",
    "        print(\"播放葫芦娃\",os.getpid())\n",
    "\n",
    "#创建线程对象\n",
    "t = threading.Thread(target = music)\n",
    "t.start()\n",
    "\n",
    "for i in range(5):\n",
    "    sleep(1.5)\n",
    "    print(\"想听灌篮高手\",os.getpid())\n",
    "\n",
    "t.join()\n",
    "\n",
    "print(\"mian Thread a = \",a)"
   ]
  },
  {
   "cell_type": "markdown",
   "metadata": {},
   "source": [
    "## 线程对象属性\n",
    "\n",
    "`t.is_alive()`：查看线程状态  \n",
    "`t.name`：线程名称  \n",
    "`t.setName()`：设置线程名称  \n",
    "`t.getName()`：获取线程名称  \n",
    "`threading.currentThread()`：获取当前线程对象  "
   ]
  },
  {
   "cell_type": "code",
   "execution_count": 2,
   "metadata": {
    "scrolled": true
   },
   "outputs": [
    {
     "name": "stdout",
     "output_type": "stream",
     "text": [
      "线程属性测试\n",
      "线程属性测试\n",
      "线程属性测试\n",
      "is alive : True\n",
      "HHH\n",
      "hhh0 线程结束hhh2 线程结束\n",
      "HHH 线程结束\n",
      "\n"
     ]
    }
   ],
   "source": [
    "from threading import Thread,currentThread \n",
    "from time import sleep \n",
    "\n",
    "#线程函数\n",
    "def fun(sec):\n",
    "    print(\"线程属性测试\")\n",
    "    sleep(sec)\n",
    "    #线程对象的getName()属性获取名称\n",
    "    print(\"%s 线程结束\"%currentThread().getName())\n",
    "\n",
    "#创建线程\n",
    "thread = []\n",
    "for i in range(3):\n",
    "    t = Thread(name = 'hhh%d'%i,\\\n",
    "        target = fun,args = (2,))\n",
    "    thread.append(t)\n",
    "    t.start()\n",
    "\n",
    "print(\"is alive :\",t.is_alive())  #查看线程状态\n",
    "thread[1].setName(\"HHH\")  #设置线程名称\n",
    "print(thread[1].name)\n",
    "\n",
    "#回收线程\n",
    "for i in thread:\n",
    "    i.join()"
   ]
  },
  {
   "cell_type": "markdown",
   "metadata": {},
   "source": [
    "`t.daemon` 属性  \n",
    "- 默认情况主线程退出不会影响分支线程执行\n",
    "- 如果设置为True 则分支线程随主线程退出\n",
    "    - 设置方法：  \n",
    "        `t.daenon = True`  \n",
    "        `t.setDaemon(True)`\n",
    "\n",
    "    - 判断属性值  \n",
    "        `t.isDaemon()`  \n",
    "\n",
    "**要在start前设置，不会和join同用**"
   ]
  },
  {
   "cell_type": "code",
   "execution_count": 3,
   "metadata": {},
   "outputs": [
    {
     "name": "stdout",
     "output_type": "stream",
     "text": [
      "True\n",
      "=====主线程结束=====\n",
      "Daemon 测试\n"
     ]
    }
   ],
   "source": [
    "#daemon属性\n",
    "from threading import Thread\n",
    "from time import sleep \n",
    "\n",
    "def fun():\n",
    "    sleep(3)\n",
    "    print(\"Daemon 测试\")\n",
    "\n",
    "t = Thread(target = fun)\n",
    "\n",
    "t.setDaemon(True) \n",
    "print(t.isDaemon())  \n",
    "\n",
    "t.start()\n",
    "\n",
    "print(\"=====主线程结束=====\")"
   ]
  },
  {
   "cell_type": "markdown",
   "metadata": {},
   "source": [
    "## 创建自定义线程类\n",
    "- 步骤：\n",
    "    1. 继承Thread\n",
    "    2. 加载Thread中的__init__\n",
    "    3. 重写run方法"
   ]
  },
  {
   "cell_type": "code",
   "execution_count": 4,
   "metadata": {},
   "outputs": [
    {
     "name": "stdout",
     "output_type": "stream",
     "text": [
      "Playing 凉凉:Thu Apr 11 11:56:17 2019\n",
      "Playing 凉凉:Thu Apr 11 11:56:19 2019\n"
     ]
    }
   ],
   "source": [
    "from threading import Thread \n",
    "from time import sleep,ctime\n",
    "\n",
    "class MyThread(Thread):\n",
    "    def __init__(self,target,name = 'hh',\\\n",
    "        args = (),kwargs = {}):\n",
    "\n",
    "        super().__init__()\n",
    "        self.name = name\n",
    "        self.target = target\n",
    "        self.args = args\n",
    "        self.kwargs = kwargs\n",
    "\n",
    "    def run(self):\n",
    "        self.target(*self.args,**self.kwargs)\n",
    "\n",
    "def player(song,sec):\n",
    "    for i in range(2):\n",
    "        print(\"Playing %s:%s\"%(song,ctime()))\n",
    "        sleep(sec)\n",
    "\n",
    "t = MyThread(target = player,args = ('凉凉',),\\\n",
    "    kwargs = {'sec':2})\n",
    "t.start()\n",
    "t.join()"
   ]
  },
  {
   "cell_type": "markdown",
   "metadata": {},
   "source": [
    "## 线程通信\n",
    "- 通信方法：多个线程共享进程的空间，所以线程间通信使用全局变量完成。\n",
    "- 注意事项：线程间使用全局变量往往要同步互斥机制，保证通信安全\n",
    "\n",
    "## 同步互斥方法\n",
    "\n",
    "### 线程的event\n",
    "`e = threading.Event()`创建事件对象  \n",
    "`e.wait([timeout])`如果e为设置状态则不阻塞否则阻塞  \n",
    "`e.set()`将e变为设置状态  \n",
    "`e.clear()`清除设置  "
   ]
  },
  {
   "cell_type": "code",
   "execution_count": 5,
   "metadata": {},
   "outputs": [
    {
     "name": "stdout",
     "output_type": "stream",
     "text": [
      "bar拜山头\n",
      "说出口令就是自己人\n",
      "我是座山雕,自己人\n",
      "呵呵..\n"
     ]
    }
   ],
   "source": [
    "import threading \n",
    "from time import sleep \n",
    "\n",
    "s = None\n",
    "e = threading.Event() \n",
    "\n",
    "def bar():\n",
    "    print(\"bar拜山头\")\n",
    "    global s \n",
    "    s = \"天王盖地虎\"\n",
    "\n",
    "def foo():\n",
    "    print(\"说出口令就是自己人\")\n",
    "    sleep(2)\n",
    "    if s == \"天王盖地虎\":\n",
    "        print(\"我是座山雕,自己人\")\n",
    "    else:\n",
    "        print(\"打死他\")\n",
    "    e.set()  #等foo验证完毕其他的再执行\n",
    "\n",
    "def fun():\n",
    "    print(\"呵呵..\")\n",
    "    sleep(1)\n",
    "    global s\n",
    "    s = \"小鸡炖蘑菇\"\n",
    "\n",
    "b = threading.Thread(target = bar)\n",
    "f = threading.Thread(target = foo)\n",
    "b.start()\n",
    "f.start()\n",
    "e.wait() #运行b f之后其他内容不许执行\n",
    "\n",
    "fun()\n",
    "b.join()\n",
    "f.join()"
   ]
  },
  {
   "cell_type": "markdown",
   "metadata": {},
   "source": [
    "### 线程锁lock\n",
    "`lock = threading.Lock()`创建锁对象  \n",
    "`lock.acquire()`上锁  \n",
    "`lock.release()`解锁  \n",
    "\n",
    "**也可以通过with上锁，上锁状态调用acquire会阻塞**"
   ]
  },
  {
   "cell_type": "code",
   "execution_count": null,
   "metadata": {},
   "outputs": [],
   "source": [
    "import threading \n",
    "\n",
    "a = b = 0\n",
    "\n",
    "lock = threading.Lock()\n",
    "\n",
    "def value():\n",
    "    while True:\n",
    "        lock.acquire()\n",
    "        if a != b:\n",
    "            print(\"a = %d,b = %d\"%(a,b))\n",
    "        lock.release()\n",
    "\n",
    "t = threading.Thread(target = value)\n",
    "t.start()\n",
    "\n",
    "while True:\n",
    "    #\n",
    "    with lock:\n",
    "        a += 1\n",
    "        b += 1\n",
    "\n",
    "t.join()"
   ]
  },
  {
   "cell_type": "markdown",
   "metadata": {},
   "source": [
    "## python线程的GIL问题 （全局解释器锁）\n",
    "\n",
    "*python-->支持多线程-->同步互斥-->加锁-->超级锁，给解释器加锁-->解释器同一时刻只能解释一个线程*\n",
    "\n",
    "- 后果：\n",
    "    - 一个解释器同一时刻只能解释执行一个线程，所以导致python线程效率低下。但是当遇到IO阻塞时线程会主动让出解释器，因此**python线程更加适合高延迟的IO程序并发**。\n",
    "\n",
    "\n",
    "- 解决方法：\n",
    "    * 尽量用进程完成并发\n",
    "    * 不使用c解释器  c#  java\n",
    "    * 尽量使用多种方案组合的方式进行并发操作，线程用作高延迟IO\n",
    "\n",
    "\n",
    "- 效率测试\n",
    "        Line cpu: 9.014907121658325\n",
    "        Line IO: 4.548823118209839\n",
    "\n",
    "        thread cpu: 9.38966417312622\n",
    "        thread  IO: 4.6143529415130615\n",
    "\n",
    "        Process  cpu: 5.466824531555176\n",
    "        Process  IO: 2.9468178749084473"
   ]
  },
  {
   "cell_type": "markdown",
   "metadata": {},
   "source": [
    "# 进程线程的区别和联系\n",
    "\n",
    "1. 两者都是多任务编程方式，都能够使用计算机的多核资源\n",
    "2. 进程的创建删除消耗的计算机资源比线程要多\n",
    "3. 进程空间独立，数据相互不干扰，有专门的IPC，线程使用全局变量进行通信\n",
    "4. 一个进程可以创建多个线程分支，两者之间存在包含关系\n",
    "5. 多个线程公用进程的资源，在资源操作时往往需要同步互斥\n",
    "6. 进程线程在系统中都有自己特有的属性，ID，代码段，栈区等资源\n",
    "\n",
    "## 使用场景\n",
    "* 需要创建较多并发，同时任务关联性比较强时一般用多线   程\n",
    "* 不同的任务模块可能更多使用进程\n",
    "* 使用进程线程需要考虑数据的处理复杂度，比如进程间通   信是否方便，同步互斥是否过于复杂\n",
    "\n",
    ">### 要求： \n",
    "1. 进程线程的区别和联系\n",
    "2. 进程间通信方式都知道哪些，有什么特点\n",
    "3. 同步互斥意义是什么，什么情况下用\n",
    "4. 给一个情形，分析下用进程还是用线程，理由\n",
    "5. 一些常见概念挖掘 ： 僵尸进程，  进程状态，GIL"
   ]
  },
  {
   "cell_type": "markdown",
   "metadata": {},
   "source": [
    "司机和售票员的故事\n",
    "   * 创建父子进程分别代表司机和售票员\n",
    "   * 当售票员收到SIGINT信号，给司机发送SIGUSR1信号此   时司机打印\"老司机开车了\"\n",
    "   - 当售票员收到SIGQUIT信号，给司机发送SIGUSR2信号此时司机打印\"车速有点快，系好安全带\"\n",
    "   - 当司机捕捉到SIGTSTP信号，给售票员发送SIGUSR1，售票员打印\"到站了，请下车\"\n",
    "   * 到站后 售票员先下车，司机下车 （子进程先退出）\n",
    "\n",
    "   *说明 ： SIGINT  SIGQUIT SIGTSTP从键盘发出*"
   ]
  },
  {
   "cell_type": "code",
   "execution_count": null,
   "metadata": {},
   "outputs": [],
   "source": [
    "from multiprocessing import Process \n",
    "import os\n",
    "from signal import * \n",
    "from time import sleep \n",
    "\n",
    "def saler_handler(sig,frame):\n",
    "    if sig == SIGINT:\n",
    "        os.kill(os.getppid(),SIGUSR1)\n",
    "    elif sig == SIGQUIT:\n",
    "        os.kill(os.getppid(),SIGUSR2)\n",
    "    elif sig == SIGUSR1:\n",
    "        print(\"到站了,请下车\")\n",
    "        os._exit(0)\n",
    "\n",
    "def driver_handler(sig,frame):\n",
    "    if sig == SIGUSR1:\n",
    "        print(\"老司机,开车了\")\n",
    "    elif sig == SIGUSR2:\n",
    "        print(\"车速有点快,系好安全带\")\n",
    "    elif sig == SIGTSTP:\n",
    "        os.kill(p.pid,SIGUSR1)\n",
    "\n",
    "#子进程代表售票员\n",
    "def saler():\n",
    "    signal(SIGINT,saler_handler) \n",
    "    signal(SIGQUIT,saler_handler)\n",
    "    signal(SIGUSR1,saler_handler)\n",
    "    signal(SIGTSTP,SIG_IGN)\n",
    "    while True:\n",
    "        sleep(2)\n",
    "        print(\"Python带你去远方\")\n",
    "\n",
    "\n",
    "p = Process(target = saler)\n",
    "p.start()\n",
    "\n",
    "#父进程\n",
    "signal(SIGUSR1,driver_handler)\n",
    "signal(SIGUSR2,driver_handler)\n",
    "signal(SIGTSTP,driver_handler)\n",
    "signal(SIGINT,SIG_IGN)\n",
    "signal(SIGQUIT,SIG_IGN)\n",
    "\n",
    "p.join()"
   ]
  }
 ],
 "metadata": {
  "kernelspec": {
   "display_name": "Python 3",
   "language": "python",
   "name": "python3"
  },
  "language_info": {
   "codemirror_mode": {
    "name": "ipython",
    "version": 3
   },
   "file_extension": ".py",
   "mimetype": "text/x-python",
   "name": "python",
   "nbconvert_exporter": "python",
   "pygments_lexer": "ipython3",
   "version": "3.7.1"
  }
 },
 "nbformat": 4,
 "nbformat_minor": 2
}
