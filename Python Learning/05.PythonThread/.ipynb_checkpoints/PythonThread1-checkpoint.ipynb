{
 "cells": [
  {
   "cell_type": "markdown",
   "metadata": {},
   "source": [
    "# multiprocessing 模块创建进程\n",
    "\n",
    "1. 需要将要执行的事情封装为函数\n",
    "2. 使用multiprocessing模块中Process类创建进程对象\n",
    "3. 通过对象属性设置和Process的初始化函数对进程进行设置，绑定要执行的函数\n",
    "4. 启动进程，会自动执行进程绑定的函数\n",
    "5. 完成进程的回收\n",
    "\n",
    "\n",
    "`Process()`\n",
    "- 功能：创建进程对象\n",
    "- 参数：\n",
    "    - name  进程名称  Process-1\n",
    "    - target  绑定函数 \n",
    "\t- args  元组  给target函数按照位置传参\n",
    "    - kwargs  字典  给target函数按照键值对传参\n",
    "\n",
    "`p.start()`\n",
    "- 功能：启动进程\n",
    "    * target函数会自动执行，此时进程真正被创建\n",
    "\n",
    "`p.join([timeout])`\n",
    "- 功能：阻塞等待回收子进程\n",
    "- 参数：超时时间\n",
    "\n",
    "\n",
    "1. 使用multiprocessing创建子进程，同样子进程复制父进程的全部代码段，父子进程各自执行互不影响，父子进程有各自的运行空间\n",
    "2. 如果不使用join回收子进程则子进程退出后会成为僵尸进程\n",
    "3. 使用multiprocessing创建子进程往往父进程只是用来创建进程回收进程"
   ]
  },
  {
   "cell_type": "code",
   "execution_count": 4,
   "metadata": {},
   "outputs": [
    {
     "name": "stdout",
     "output_type": "stream",
     "text": [
      "这是父进程\n",
      "a =  1\n",
      "子进程事件\n",
      "**********\n",
      "parent a =  1\n",
      "**********\n"
     ]
    }
   ],
   "source": [
    "import multiprocessing as mp \n",
    "from time import sleep \n",
    "\n",
    "a = 1\n",
    "def fun():\n",
    "    sleep(3)\n",
    "    global a\n",
    "    print(\"a = \",a)\n",
    "    a = 10000\n",
    "    print(\"子进程事件\")\n",
    "    print(\"**********\")\n",
    "\n",
    "#创建进程对象\n",
    "p = mp.Process(target = fun) # 相当于之前pid==0的部分\n",
    "\n",
    "\n",
    "\n",
    "#启动子进程\n",
    "p.start() # 由于sleep3秒，所以父进程先执行\n",
    "\n",
    "sleep(2)\n",
    "print(\"这是父进程\")\n",
    "\n",
    "#回收进程\n",
    "p.join()\n",
    "\n",
    "print(\"parent a = \",a)\n",
    "print(\"**********\")"
   ]
  },
  {
   "cell_type": "code",
   "execution_count": 5,
   "metadata": {},
   "outputs": [
    {
     "name": "stdout",
     "output_type": "stream",
     "text": [
      "睡觉\n",
      "934 ---- 2198\n",
      "吃饭\n",
      "934 ---- 2197\n",
      "打豆豆\n",
      "934 ---- 2199\n"
     ]
    }
   ],
   "source": [
    "from  multiprocessing import Process \n",
    "from time import sleep \n",
    "import os \n",
    "\n",
    "def th1():\n",
    "    sleep(3)\n",
    "    print(\"吃饭\")\n",
    "    print(os.getppid(),'----',os.getpid()) # 获取父进程的pid和自己的pid\n",
    "def th2():\n",
    "    sleep(2)\n",
    "    print(\"睡觉\")\n",
    "    print(os.getppid(),'----',os.getpid())\n",
    "def th3():\n",
    "    sleep(4)\n",
    "    print(\"打豆豆\")\n",
    "    print(os.getppid(),'----',os.getpid())\n",
    "\n",
    "things = [th1,th2,th3] \n",
    "process = [] # 为了后面可以循环回收\n",
    "\n",
    "for th in things:\n",
    "    p = Process(target = th)\n",
    "    process.append(p)\n",
    "    p.start()\n",
    "\n",
    "#循环回收进程\n",
    "for i in process:\n",
    "    i.join()"
   ]
  },
  {
   "cell_type": "markdown",
   "metadata": {},
   "source": [
    "练习：创建父子进程，分别将一个文件的上半部分和下半部分复制到一个新的文件中。"
   ]
  }
 ],
 "metadata": {
  "kernelspec": {
   "display_name": "Python 3",
   "language": "python",
   "name": "python3"
  },
  "language_info": {
   "codemirror_mode": {
    "name": "ipython",
    "version": 3
   },
   "file_extension": ".py",
   "mimetype": "text/x-python",
   "name": "python",
   "nbconvert_exporter": "python",
   "pygments_lexer": "ipython3",
   "version": "3.7.1"
  }
 },
 "nbformat": 4,
 "nbformat_minor": 2
}
