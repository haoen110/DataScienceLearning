{
 "cells": [
  {
   "cell_type": "markdown",
   "metadata": {},
   "source": [
    "# <<Python 面向对象编程>>\n",
    "\n",
    "# OOP名词\n",
    "\tOO：面向对象\n",
    "\tOOA：面向对象分析\n",
    "\tOOD：面向对象设计\n",
    "\tOOI：xxx的实现\n",
    "\tOOP：xxx的编程\n",
    "\tOOA->OOD->OOI：面向对象的实现过程\n",
    "\n",
    "# 类和对象的概念\n",
    "\t\n",
    "\t类：抽象名词，代表一个集合，共性事物\n",
    "\t\t属性（变量）\n",
    "\t\t方法（函数）\n",
    "\n",
    "\t对象：具体的事物，单个个体\n",
    "\n",
    "\t类的命名：\n",
    "\t\t遵守变量命名的规范，大驼峰，避免和系统命名相似\n",
    "\t\t使用class，由属性和方法构成\n",
    "\t\t相见class.py\n",
    "\t\tclass PythonStudent():\n",
    "\t\t\tname = None\n",
    "\t\t\tage = 100\n",
    "\t\t\tcourse = \"Python\"\n",
    "\n",
    "\t分类： 变量 = 类名（）\n",
    "\t访问： obj.成员的属性名称、obj.成员的方法\n",
    "\t\tyueyue = PythonStudent()\n",
    "\t\tprint(yueyue.name)\n",
    "\t\tprint(yueyue.age)"
   ]
  },
  {
   "cell_type": "code",
   "execution_count": 1,
   "metadata": {},
   "outputs": [
    {
     "name": "stdout",
     "output_type": "stream",
     "text": [
      "None\n",
      "100\n",
      "I'm working\n"
     ]
    }
   ],
   "source": [
    "#class.py\n",
    "\n",
    "#定义一个空的类\n",
    "class Student():\n",
    "\tpass\n",
    "\n",
    "#定义一个对象\n",
    "howie = Student()\n",
    "\n",
    "#定义一个类，用来描述听Python的学生\n",
    "class PythonStudent():\n",
    "\t# 用None给不确定的值赋值\n",
    "\tname = None\n",
    "\tage = 100\n",
    "\tcourse = \"Python\"\n",
    "\n",
    "\t# def 缩进层级\n",
    "\t# 系统默认self参数\n",
    "\tdef doHomeword(self):\n",
    "\t\tprint(\"I'm working\")\n",
    "\t\treturn None\n",
    "\n",
    "#示例一个叫yueyue的学生\n",
    "yueyue = PythonStudent()\n",
    "print(yueyue.name)\n",
    "print(yueyue.age)\n",
    "yueyue.doHomeword()"
   ]
  },
  {
   "cell_type": "markdown",
   "metadata": {},
   "source": [
    "## self"
   ]
  },
  {
   "cell_type": "code",
   "execution_count": 6,
   "metadata": {},
   "outputs": [
    {
     "name": "stdout",
     "output_type": "stream",
     "text": [
      "My name is aaa\n",
      "My age is 200\n",
      "howie\n",
      "18\n"
     ]
    }
   ],
   "source": [
    "class Student():\n",
    "    name = 'howie'\n",
    "    age = 18\n",
    "    \n",
    "    def say(self):\n",
    "        self.name = 'aaa'\n",
    "        self.age = 200\n",
    "        print(\"My name is %s\" % self.name)\n",
    "        print(\"My age is %d\" % self.age)\n",
    "    def sayAgain():\n",
    "        print(__class__.name)\n",
    "        print(__class__.age)\n",
    "        \n",
    "\n",
    "yueyue = Student()\n",
    "yueyue.say()\n",
    "Student.sayAgain()"
   ]
  },
  {
   "cell_type": "markdown",
   "metadata": {},
   "source": [
    "# 私有\n",
    "- 私有成员是最高级的封装，只能在当前类或者对象中访问\n",
    "- 加下划线"
   ]
  },
  {
   "cell_type": "code",
   "execution_count": 7,
   "metadata": {},
   "outputs": [],
   "source": [
    "class Person():\n",
    "    # name是共有的成员\n",
    "    name = 'Howie'\n",
    "    # __age是私有成员\n",
    "    __age = 18"
   ]
  },
  {
   "cell_type": "markdown",
   "metadata": {},
   "source": [
    "## 继承"
   ]
  },
  {
   "cell_type": "code",
   "execution_count": 14,
   "metadata": {},
   "outputs": [
    {
     "name": "stdout",
     "output_type": "stream",
     "text": [
      "NoName\n",
      "NoName\n"
     ]
    }
   ],
   "source": [
    "class Person():\n",
    "    name = \"NoName\"\n",
    "    age = 18\n",
    "    __score = 0 # 考试成绩是保护的\n",
    "    __petname = \"sec\" #小名是保护的\n",
    "    def sleep(self):\n",
    "        print(\"Sleeping~~\")\n",
    "        \n",
    "class Teacher(Person): # 父类，继承除了私有以外的所有\n",
    "    pass\n",
    "\n",
    "t = Teacher()\n",
    "print(t.name)\n",
    "print(Teacher.name)"
   ]
  },
  {
   "cell_type": "code",
   "execution_count": 16,
   "metadata": {},
   "outputs": [],
   "source": [
    "# 扩充\n",
    "class Teacher(Person):\n",
    "    teacher_id = '110'\n",
    "    name = 'Lina'\n",
    "    \n",
    "    def make_test(self):\n",
    "        print(\"attention\")\n",
    "    \n",
    "    def work(self):\n",
    "        Person.work(self)"
   ]
  },
  {
   "cell_type": "markdown",
   "metadata": {},
   "source": [
    "## 构造函数"
   ]
  },
  {
   "cell_type": "code",
   "execution_count": 17,
   "metadata": {},
   "outputs": [
    {
     "name": "stdout",
     "output_type": "stream",
     "text": [
      "I am init in dog\n"
     ]
    }
   ],
   "source": [
    "class Dog():\n",
    "    # 因为主要工作是进行初始化，所以得名\n",
    "    def __init__(self):\n",
    "        print(\"I am init in dog\")\n",
    "\n",
    "kaka = Dog()"
   ]
  },
  {
   "cell_type": "code",
   "execution_count": null,
   "metadata": {},
   "outputs": [],
   "source": []
  }
 ],
 "metadata": {
  "kernelspec": {
   "display_name": "Python 3",
   "language": "python",
   "name": "python3"
  },
  "language_info": {
   "codemirror_mode": {
    "name": "ipython",
    "version": 3
   },
   "file_extension": ".py",
   "mimetype": "text/x-python",
   "name": "python",
   "nbconvert_exporter": "python",
   "pygments_lexer": "ipython3",
   "version": "3.7.1"
  }
 },
 "nbformat": 4,
 "nbformat_minor": 2
}
