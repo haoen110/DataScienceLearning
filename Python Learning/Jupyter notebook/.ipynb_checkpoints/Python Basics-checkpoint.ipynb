{
 "cells": [
  {
   "cell_type": "markdown",
   "metadata": {},
   "source": [
    "# Python基础"
   ]
  },
  {
   "cell_type": "markdown",
   "metadata": {},
   "source": [
    "# 进制\n",
    "进制示例：\n",
    "- 十进制：10，20\n",
    "- 二进制：（0b开头，后面跟0～1）0b111 0b101 0b1111\n",
    "- 八进制：（0o开头，后面跟0～7）0o177->127 0o11->9\n",
    "- 十六进制：（0x开头，后面给0～9，A～F，a～f）0x11->17 0xFF->255 ox1234ABCD\n",
    "\n",
    "进制转换：\n",
    "- 十进制（十进一）\n",
    "- 二进制（二进一）\n",
    "- 八进制（八进一）\n",
    "- 十六进制（十六进一）\n",
    "- hex(i) \t将整数转换为十六进制字符串\n",
    "- oct(i)\t将整数转换为八进制字符串\n",
    "- bin(i)\t将整数转换为二进制字符串"
   ]
  },
  {
   "cell_type": "markdown",
   "metadata": {},
   "source": [
    "# 数值类型\n",
    "- 整数int\n",
    "- 浮点数float\n",
    "- 复数complex(real、image)\n",
    "- 布尔类型bool"
   ]
  },
  {
   "cell_type": "markdown",
   "metadata": {},
   "source": [
    "# 基本输入输出函数 input() print()\n",
    "print(value,value, seq=' '（分隔符号默认空格）,end='\\n')"
   ]
  },
  {
   "cell_type": "code",
   "execution_count": 1,
   "metadata": {},
   "outputs": [
    {
     "name": "stdout",
     "output_type": "stream",
     "text": [
      "请输入字符串:Hello World!\n",
      "您输入的字符串是: Hello World!\n"
     ]
    }
   ],
   "source": [
    "s = input(\"请输入字符串:\")\n",
    "print(\"您输入的字符串是:\", s)"
   ]
  },
  {
   "cell_type": "markdown",
   "metadata": {},
   "source": [
    "# 基本运算\n",
    "    序列赋值  \n",
    "    x, y = 1, 2  \n",
    "    a, b = b, a  \n",
    "    符合运算  \n",
    "    y += x -- y = y + x  \n",
    "    id() 查找内存地址  \n",
    "    del() 删除变量  \n",
    "    小整数池：(-5~256)不会释放可以重复使用而在之外的数使用is/is not可能为False\n",
    "    round(x, ndigits) 四舍五入；ndigits正数时是向右取整的位数  \n",
    "    语句块中显式换行用\\、隐式换行在括号内换行"
   ]
  },
  {
   "cell_type": "markdown",
   "metadata": {},
   "source": [
    "# if语句\n",
    "    elif可以有多个；else只能有一个"
   ]
  },
  {
   "cell_type": "code",
   "execution_count": 2,
   "metadata": {},
   "outputs": [
    {
     "name": "stdout",
     "output_type": "stream",
     "text": [
      "请再输入字符串:18\n",
      "Between 0 and 20\n"
     ]
    }
   ],
   "source": [
    "s = int(input(\"请再输入字符串:\"))\n",
    "if s > 100:\n",
    "    print(\"Bigger than 100\")\n",
    "elif 0 < s < 20:\n",
    "    print(\"Between 0 and 20\")\n",
    "else:\n",
    "    print(\"Other\")"
   ]
  },
  {
   "cell_type": "code",
   "execution_count": 31,
   "metadata": {},
   "outputs": [
    {
     "name": "stdout",
     "output_type": "stream",
     "text": [
      "请输入学生的成绩85\n",
      "属于成绩\n",
      "良好\n"
     ]
    }
   ],
   "source": [
    "g = int(input(\"请输入学生的成绩\"))\n",
    "if 0 <= g <= 100:\n",
    "\tprint(\"属于成绩\")\n",
    "\tif 90 <= g <= 100:\n",
    "\t\tprint(\"优秀\")\n",
    "\telif 80 <= g <= 89:\n",
    "\t\tprint(\"良好\")\n",
    "\telif 60 <= g <= 79:\n",
    "\t\tprint(\"及格\")\n",
    "\telse:print(\"不及格\")\n",
    "else:print(\"不处于成绩范围\")"
   ]
  },
  {
   "cell_type": "code",
   "execution_count": 35,
   "metadata": {},
   "outputs": [
    {
     "name": "stdout",
     "output_type": "stream",
     "text": [
      "请输入年份：2004\n",
      "为闰年\n"
     ]
    }
   ],
   "source": [
    "#ryear.py\n",
    "y = int(input(\"请输入年份：\"))\n",
    "if y % 400 == 0 or (y % 4 == 0 and y % 100 != 0):\n",
    "\tprint(\"为闰年\")\n",
    "else: print(\"不是闰年\")"
   ]
  },
  {
   "cell_type": "code",
   "execution_count": 39,
   "metadata": {},
   "outputs": [
    {
     "name": "stdout",
     "output_type": "stream",
     "text": [
      "请输入行驶的公里数：35\n",
      "收费 110 元\n"
     ]
    }
   ],
   "source": [
    "#taxi.py\n",
    "# 3公里内收费13元\n",
    "# 超过3公里单价2.3元/公里\n",
    "# 超过15公里，每公里加收基本单价50%作为空驶费（3.45/公里）\n",
    "\n",
    "k = int(input(\"请输入行驶的公里数：\"))\n",
    "fee = 13\n",
    "if k > 3:\n",
    "\tfee += 2.3 * (k - 3)\n",
    "if k > 15:\n",
    "\tfee += 1.15 * (k - 15)\n",
    "print(\"收费\", round(fee), '元')"
   ]
  },
  {
   "cell_type": "markdown",
   "metadata": {},
   "source": [
    "# 条件表达式"
   ]
  },
  {
   "cell_type": "code",
   "execution_count": 21,
   "metadata": {
    "scrolled": true
   },
   "outputs": [
    {
     "name": "stdout",
     "output_type": "stream",
     "text": [
      "请输入商品总额102\n",
      "您需要支付 82 元\n"
     ]
    }
   ],
   "source": [
    "#商场促销满100减20\n",
    "money = int(input(\"请输入商品总额\"))\n",
    "pay = money - 20 if money >= 100 else money\n",
    "print(\"您需要支付\", pay, \"元\")"
   ]
  },
  {
   "cell_type": "code",
   "execution_count": 22,
   "metadata": {},
   "outputs": [
    {
     "name": "stdout",
     "output_type": "stream",
     "text": [
      "2、请输入一个数-8\n",
      "该数的绝对值为： 8\n"
     ]
    }
   ],
   "source": [
    "a = int(input(\"ABS\\请输入一个数\"))\n",
    "b = -a if a < 0 else a\n",
    "print(\"该数的绝对值为：\", b)"
   ]
  },
  {
   "cell_type": "markdown",
   "metadata": {},
   "source": [
    "# pass语句"
   ]
  },
  {
   "cell_type": "code",
   "execution_count": 4,
   "metadata": {},
   "outputs": [
    {
     "name": "stdout",
     "output_type": "stream",
     "text": [
      "请输入学生的成绩：101\n",
      "不处于成绩范围\n"
     ]
    }
   ],
   "source": [
    "#填充空白用\n",
    "g = int(input(\"请输入学生的成绩：\"))\n",
    "if 0 <= g <= 100:\n",
    "    pass\n",
    "else:print(\"不处于成绩范围\")"
   ]
  },
  {
   "cell_type": "markdown",
   "metadata": {},
   "source": [
    "# 布尔值\n",
    "## 布尔运算\n",
    "    not/and/or  \n",
    "    not True = False  \n",
    "    not 100 = False\n",
    "## 布尔操作\n",
    "    x and y\n",
    "\tTrue and True = True\n",
    "\tTrue and False = False\n",
    "\t100 or 200 = 100 （都为真优先返回左侧的）"
   ]
  },
  {
   "cell_type": "code",
   "execution_count": 5,
   "metadata": {},
   "outputs": [
    {
     "name": "stdout",
     "output_type": "stream",
     "text": [
      "请输入成绩：99\n",
      "您输入的成绩是： 99\n"
     ]
    }
   ],
   "source": [
    "score = int(input(\"请输入成绩：\") or '0')\n",
    "if score < 0 or score > 100:\n",
    "    print(\"您的成绩不合法！！！\")\n",
    "else:\n",
    "    print(\"您输入的成绩是：\", score)"
   ]
  },
  {
   "cell_type": "markdown",
   "metadata": {},
   "source": [
    "# 字符串\n",
    "- 单引号'\n",
    "- 双引号\"\n",
    "- 三单引号'''\n",
    "- 三双引号\"\"\"\n",
    "    - 三引号字符串换行会自动转换为换行符'\\n'\n",
    "    - 三引号内可以包含单引号和双引号\n",
    "    \n",
    "## 转义\n",
    "\n",
    "- \\\\' \\\\\" \\\\\\ \n",
    "- \\n \\r(返回行首并替换) \\f(换页) \\t(水平制表符) \\v(垂直制表符) \n",
    "- \\b(倒退、删除) \\0(空字符) \n",
    "- \\0oo(oo为两位八进制表示的字符) \n",
    "- \\xXX(XX为两位十六进制表示的字符)\n",
    "- \\uXXXX(Unicode16的十六进制表示的字符)\n",
    "\n",
    "## ASCII编码\n",
    "man ascii (八进制十六进制都可以表示)\n",
    "    常用ASCII：  \n",
    "\t字符  十进制  十六进制  \n",
    "\t'0'   48      0x30  \n",
    "\t'A'   65      0x41  \n",
    "\t'a'   97      0x61    \n",
    "\tord(c) 返回一个字符串的Unicode  \n",
    "\tchr(i) 返回i这个值所对应的字符  \n",
    "\tprint(ord('A')) # 65  \n",
    "\tprint(ord('中'))# 20013  "
   ]
  },
  {
   "cell_type": "code",
   "execution_count": 6,
   "metadata": {},
   "outputs": [
    {
     "name": "stdout",
     "output_type": "stream",
     "text": [
      "Welcome to Beijing\n",
      "I like Python!\n",
      "I am learning!\n",
      "\n",
      " \n",
      "Welcome to Beijing\n",
      "I like Python!\n",
      "I am learning!\n"
     ]
    }
   ],
   "source": [
    "print('Welcome to Beijing\\nI like Python!\\nI am learning!')\n",
    "s = '''\n",
    "Welcome to Beijing\n",
    "I like Python!\n",
    "I am learning!'''\n",
    "print('\\n',s)"
   ]
  },
  {
   "cell_type": "markdown",
   "metadata": {},
   "source": [
    "## raw 字符串（让转义字符\\无效）"
   ]
  },
  {
   "cell_type": "code",
   "execution_count": 7,
   "metadata": {},
   "outputs": [
    {
     "name": "stdout",
     "output_type": "stream",
     "text": [
      "C:\n",
      "ewfile\test.py\n",
      "16\n",
      "C:\\newfile\\test.py\n",
      "18\n"
     ]
    }
   ],
   "source": [
    "a = 'C:\\newfile\\test.py'\n",
    "print(a)\n",
    "print(len(a))\n",
    "a = r'C:\\newfile\\test.py'\n",
    "print(a)\n",
    "print(len(a))"
   ]
  },
  {
   "cell_type": "markdown",
   "metadata": {},
   "source": [
    "## 字符串的运算：\n",
    "    + += * *="
   ]
  },
  {
   "cell_type": "code",
   "execution_count": 8,
   "metadata": {},
   "outputs": [
    {
     "name": "stdout",
     "output_type": "stream",
     "text": [
      "abcdefg\n",
      "abcdefg123\n",
      "123123\n"
     ]
    }
   ],
   "source": [
    "x = 'abcd' + 'efg'\n",
    "print(x)\n",
    "x += '123'\n",
    "print(x)\n",
    "x = '123'\n",
    "y = x * 2\n",
    "print(y)"
   ]
  },
  {
   "cell_type": "code",
   "execution_count": 34,
   "metadata": {},
   "outputs": [
    {
     "name": "stdout",
     "output_type": "stream",
     "text": [
      "请输入矩形的宽度：5\n",
      "#####\n",
      "#   #\n",
      "#   #\n",
      "#####\n"
     ]
    }
   ],
   "source": [
    "#rectangle.py\n",
    "n = int(input(\"请输入矩形的宽度：\"))\n",
    "line1 = '#' * n\n",
    "line2 = '#' + ' ' * (n - 2) + '#'\n",
    "print(line1)\n",
    "print(line2)\n",
    "print(line2)\n",
    "print(line1)"
   ]
  },
  {
   "cell_type": "code",
   "execution_count": 38,
   "metadata": {},
   "outputs": [
    {
     "name": "stdout",
     "output_type": "stream",
     "text": [
      "请输入距离左侧的字节数：4\n",
      "\t\t\t\t    *   \n",
      "\t\t\t\t   ***  \n",
      "\t\t\t\t  ***** \n",
      "\t\t\t\t *******\n",
      "请输入第一行文字：haoenwei\n",
      "请输入第二行文字：woai\n",
      "请输入第三行文字：hahhaa\n",
      "+--------+\n",
      "|haoenwei|\n",
      "|  woai  |\n",
      "| hahhaa |\n",
      "+--------+\n"
     ]
    }
   ],
   "source": [
    "#strprint.py\n",
    "n = int(input(\"请输入距离左侧的字节数：\"))\n",
    "n = n * '\t'\n",
    "print(n,\"   *   \")\n",
    "print(n,\"  ***  \")\n",
    "print(n,\" ***** \")\n",
    "print(n,\"*******\")\n",
    "\n",
    "a = input(\"请输入第一行文字：\")\n",
    "b = input(\"请输入第二行文字：\")\n",
    "c = input(\"请输入第三行文字：\")\n",
    "m = max(len(a), len(b), len(c))\n",
    "line0 = '+' + '-' * m + '+'\n",
    "line1 = '|' + a.center(m) + '|'\n",
    "line2 = '|' + b.center(m) + '|'\n",
    "line3 = '|' + c.center(m) + '|'\n",
    "print(line0)\n",
    "print(line1)\n",
    "print(line2)\n",
    "print(line3)\n",
    "print(line0)"
   ]
  },
  {
   "cell_type": "markdown",
   "metadata": {},
   "source": [
    "## in/not in\n",
    "    用于序列、字典、集合，判断某个值是否在该容器中返回TF"
   ]
  },
  {
   "cell_type": "code",
   "execution_count": 9,
   "metadata": {},
   "outputs": [
    {
     "data": {
      "text/plain": [
       "True"
      ]
     },
     "execution_count": 9,
     "metadata": {},
     "output_type": "execute_result"
    }
   ],
   "source": [
    "s = 'Welcome to Ningbo!'\n",
    "'to' in s"
   ]
  },
  {
   "cell_type": "markdown",
   "metadata": {},
   "source": [
    "# index索引 slice 切片\n",
    "- index\n",
    "    - s[0] = s[-len(s)] # W\n",
    "    - 最后一个s[len(s) - 1] = s[-1]\n",
    "\n",
    "- slice 切片\n",
    "    - [开始：结束：步长]\n",
    "    - 默认：[0:len(s):1]\n",
    "\t- 反向：[::-1]\n",
    "\n",
    "- 常用的序列函数：\n",
    "    - len(seq) 返回序列长度\n",
    "\t- max(x)   返回序列最大值元素\n",
    "\t- min(x)    返回序列最小值元素"
   ]
  },
  {
   "cell_type": "code",
   "execution_count": 32,
   "metadata": {},
   "outputs": [
    {
     "name": "stdout",
     "output_type": "stream",
     "text": [
      "请输入一串文字判断是否为回文：abcba\n",
      "是回文\n"
     ]
    }
   ],
   "source": [
    "#huiwen.py\n",
    "s = input(\"请输入一串文字判断是否为回文：\")\n",
    "if s == s[::-1]:\n",
    "\tprint(\"是回文\")\n",
    "else:print(\"不是\")"
   ]
  },
  {
   "cell_type": "markdown",
   "metadata": {},
   "source": [
    "# 字符串方法\n",
    "对象.方法名()\n",
    "- s.isalpha()\n",
    "- s.center(30, '#') #给出宽度居中 默认为空格\n",
    "- s.count('A', 3, 5) #返回3到5的A个数\n",
    "- s.find()\n",
    "- s.strip() #去掉左右侧空白字符，lstrip，rstrip\n",
    "- s.upper() #返回大写\n",
    "- s.lower() #返回小写\n",
    "- s.replace(old, new, 个数)\n",
    "- s.startwith() #判断开头\n",
    "- s.endwith() #判断结尾\n",
    "- s.title() #将开头变成大写"
   ]
  },
  {
   "cell_type": "code",
   "execution_count": 10,
   "metadata": {},
   "outputs": [
    {
     "name": "stdout",
     "output_type": "stream",
     "text": [
      "True\n"
     ]
    }
   ],
   "source": [
    "if 'abc'.isalpha():\n",
    "    print(\"True\")"
   ]
  },
  {
   "cell_type": "code",
   "execution_count": 37,
   "metadata": {},
   "outputs": [
    {
     "name": "stdout",
     "output_type": "stream",
     "text": [
      "请输入字符串klhj asklj\n",
      "您输入的字符串有 1 个空格\n",
      "有效字符个数是： 10\n",
      "您输入的不是数字\n"
     ]
    }
   ],
   "source": [
    "#strmethod.py\n",
    "#1、判断您输入的字符串有几个空格\n",
    "s = input(\"请输入字符串\")\n",
    "print(\"您输入的字符串有\", s.count(' '), '个空格')\n",
    "#2、将原字符串的左右空白字符去掉，输出有效字符个数\n",
    "s2 = s.strip()\n",
    "print(\"有效字符个数是：\", len(s2))\n",
    "#3、判断输入的是否为数字\n",
    "if s2.isdigit():\n",
    "\tprint(\"您输入的是数字\")\n",
    "else:\n",
    "\tprint(\"您输入的不是数字\")"
   ]
  },
  {
   "cell_type": "markdown",
   "metadata": {},
   "source": [
    "# 格式化表达式\n",
    "\t% 类型码\n",
    "\t占位符\t\t  意义\n",
    "\t%s \t\t\t字符串用str转换\n",
    "\t%r \t\t\t字符串用repr转换\n",
    "\t%c \t\t\t整数转换为单个字符\n",
    "\t%d \t\t\t十进制整数\n",
    "\t%o \t\t\t八进制整数\n",
    "\t%x \t\t\t十六进制整数（a-f小写）\n",
    "\t%X \t\t\t十六进制整数（a-f大写）\n",
    "\t%e \t\t\t指数型浮点数（e小写）\n",
    "\t%E \t\t\t指数型浮点数（E大写）\n",
    "\t%f \t\t\t浮点十进制\n",
    "\t%g \t\t\t自动转换指数\n",
    "\t%% \t\t\t%\n",
    "    \n",
    "    占位符和类型码之间的各式语法\n",
    "    % [各式语法] 类型码\n",
    "\t- 左对齐\n",
    "\t+ 显示正号\n",
    "\t0 补零\n",
    "\t宽度（整数）\n",
    "\t宽度.精度(整数)\n",
    "\t例如：\n",
    "\t\t'%10d' % 123 # '          123'\n",
    "\t\t'%-+10d'% 123 # '+123          '\n",
    "\t\t'%010d'% 123 # '0000000000123'\n",
    "\t\t'%7.3f' % 3.1415926"
   ]
  },
  {
   "cell_type": "code",
   "execution_count": 11,
   "metadata": {},
   "outputs": [
    {
     "name": "stdout",
     "output_type": "stream",
     "text": [
      "请输入姓名：Howie\n",
      "请输入年龄：18\n",
      "姓名:Howie, 年龄:18\n",
      "I love WW\n",
      "I love haha and 99\n"
     ]
    }
   ],
   "source": [
    "fmt = \"姓名:%s, 年龄:%d\"\n",
    "name = input(\"请输入姓名：\")\n",
    "age = int(input(\"请输入年龄：\"))\n",
    "s = fmt % (name, age)\n",
    "print(s)\n",
    "\n",
    "s = \"I love {}\".format(\"WW\")\n",
    "print(s)\n",
    "s1 = \"I love {0} and {1}\".format(\"haha\",99)\n",
    "print(s1)"
   ]
  },
  {
   "cell_type": "code",
   "execution_count": 36,
   "metadata": {},
   "outputs": [
    {
     "name": "stdout",
     "output_type": "stream",
     "text": [
      "请输入第一行文字：ahsjdhak\n",
      "请输入第二行文字：haowijo\n",
      "请输入第三行文字：nkjasn\n",
      "            ahsjdhak \n",
      "             haowijo \n",
      "              nkjasn\n",
      "最大长度是： 8\n",
      "ahsjdhak\n",
      " haowijo\n",
      "  nkjasn\n",
      "\n",
      "fmt= %8s\n",
      "ahsjdhak\n",
      " haowijo\n",
      "  nkjasn\n"
     ]
    }
   ],
   "source": [
    "# 输入三行文字，让这些文字依次以20的宽度向右对齐输出\n",
    "#方法一\n",
    "a = input(\"请输入第一行文字：\")\n",
    "b = input(\"请输入第二行文字：\")\n",
    "c = input(\"请输入第三行文字：\")\n",
    "print('%20s'%a,'\\n%20s'%b,'\\n%20s'%c)\n",
    "#以最长字符串左对齐\n",
    "m = max(len(a), len(b), len(c))\n",
    "print(\"最大长度是：\", m)\n",
    "print(' ' * (m - len(a)) + a)\n",
    "print(' ' * (m - len(b)) + b)\n",
    "print(' ' * (m - len(c)) + c)\n",
    "#方法三\n",
    "fmt = '%%%ds' % m #生成一个含有占位符的字符串\n",
    "print('\\nfmt=', fmt)\n",
    "print(fmt % a)\n",
    "print(fmt % b)\n",
    "print(fmt % c)"
   ]
  },
  {
   "cell_type": "markdown",
   "metadata": {},
   "source": [
    "# while\n",
    "    \n",
    "    while 真表达式:\n",
    "\t\t语句\n",
    "\telse:\n",
    "\t\t语句"
   ]
  },
  {
   "cell_type": "code",
   "execution_count": 17,
   "metadata": {},
   "outputs": [
    {
     "name": "stdout",
     "output_type": "stream",
     "text": [
      "Hello World!\n",
      "Hello World!\n",
      "Hello World!\n",
      "Hello World!\n",
      "条件不足，此时变量i=5，循环结束\n"
     ]
    }
   ],
   "source": [
    "i = 1\n",
    "while i < 5:\n",
    "    print(\"Hello World!\")\n",
    "    i += 1\n",
    "else:\n",
    "    print(\"条件不足，此时变量i=%d，循环结束\"%i)"
   ]
  },
  {
   "cell_type": "code",
   "execution_count": 40,
   "metadata": {},
   "outputs": [
    {
     "name": "stdout",
     "output_type": "stream",
     "text": [
      "Hello World!\n",
      "Hello World!\n",
      "Hello World!\n",
      "Hello World!\n",
      "条件不足，此时变量i=5，循环结束\n",
      "请输入要循环的次数2\n",
      "Hello World!\n",
      "Hello World!\n",
      "条件不足，此时变量i=3，循环结束\n",
      "请输入要循环的次数2\n",
      "Hello World!\n",
      "Hello World!\n",
      "条件不足，此时变量n=0，循环结束\n"
     ]
    }
   ],
   "source": [
    "#while.py\n",
    "i = 1\n",
    "while i < 5:\n",
    "\tprint(\"Hello World!\")\n",
    "\ti += 1\n",
    "else:\n",
    "\tprint(\"条件不足，此时变量i=%d，循环结束\"%i)\n",
    "#方法一\n",
    "i = 1\n",
    "n = int(input(\"请输入要循环的次数\"))\n",
    "while i <= n:\n",
    "\tprint(\"Hello World!\")\n",
    "\ti += 1\n",
    "else:\n",
    "\tprint(\"条件不足，此时变量i=%d，循环结束\"%i)\n",
    "#方法2\n",
    "n = int(input(\"请输入要循环的次数\"))\n",
    "while 1 <= n:\n",
    "\tprint(\"Hello World!\")\n",
    "\tn -= 1\n",
    "else:\n",
    "\tprint(\"条件不足，此时变量n=%d，循环结束\"%n)"
   ]
  },
  {
   "cell_type": "code",
   "execution_count": 41,
   "metadata": {},
   "outputs": [
    {
     "name": "stdout",
     "output_type": "stream",
     "text": [
      "请输入三角形高度：4\n",
      "* \n",
      "\n",
      "** \n",
      "\n",
      "*** \n",
      "\n",
      "**** \n",
      "\n",
      "1 2 3 4 5 6 7 8 9 10 11 12 13 14 15 16 17 18 19 20 \n",
      "1 2 3 4 5 6 7 8 9 10 11 12 13 14 15 16 17 18 19 20 \n",
      "1 2 3 4 5 6 7 8 9 10 11 12 13 14 15 16 17 18 19 20 \n",
      "1 2 3 4 5 6 7 8 9 10 11 12 13 14 15 16 17 18 19 20 \n",
      "The End!\n"
     ]
    }
   ],
   "source": [
    "h = int(input(\"请输入三角形高度：\"))\n",
    "i = 1\n",
    "while i <= h:\n",
    "\tprint('*'*i,'\\n')\n",
    "\ti += 1\n",
    "\n",
    "j = 1\n",
    "while j <= 4:\n",
    "\ti = 1\n",
    "\twhile i <= 20:\n",
    "\t\tprint(i,end=' ')\n",
    "\t\ti += 1\n",
    "\tprint()\n",
    "\tj += 1\n",
    "else:print('The End!')"
   ]
  },
  {
   "cell_type": "code",
   "execution_count": 42,
   "metadata": {},
   "outputs": [
    {
     "name": "stdout",
     "output_type": "stream",
     "text": [
      "输入一个数做一个正方形5\n",
      "1 2 3 4 5 \n",
      "1 2 3 4 5 \n",
      "1 2 3 4 5 \n",
      "1 2 3 4 5 \n",
      "1 2 3 4 5 \n"
     ]
    }
   ],
   "source": [
    "#while03.py\n",
    "s = int(input(\"输入一个数做一个正方形\"))\n",
    "i = 1\n",
    "while i <= s:\n",
    "\tj = 1\n",
    "\twhile j <= s:\n",
    "\t\tprint(j, end=' ')\n",
    "\t\tj += 1\n",
    "\tprint()\n",
    "\ti += 1"
   ]
  },
  {
   "cell_type": "markdown",
   "metadata": {},
   "source": [
    "# break\n",
    "\t用于while、for语句中止当前循环的语句，常常和if连用"
   ]
  },
  {
   "cell_type": "code",
   "execution_count": 19,
   "metadata": {},
   "outputs": [
    {
     "name": "stdout",
     "output_type": "stream",
     "text": [
      "本次循环开始时： 1\n",
      "本次循环结束时： 1\n",
      "本次循环开始时： 2\n",
      "本次循环结束时： 2\n",
      "本次循环开始时： 3\n"
     ]
    }
   ],
   "source": [
    "i = 1\n",
    "while i <= 6:\n",
    "    print(\"本次循环开始时：\", i)\n",
    "    if i ==3:\n",
    "        break\n",
    "    print(\"本次循环结束时：\", i)\n",
    "    i += 1"
   ]
  },
  {
   "cell_type": "code",
   "execution_count": 23,
   "metadata": {},
   "outputs": [
    {
     "name": "stdout",
     "output_type": "stream",
     "text": [
      "本次循环开始时： 1\n",
      "本次循环结束时： 1\n",
      "本次循环开始时： 2\n",
      "本次循环结束时： 2\n",
      "本次循环开始时： 3\n"
     ]
    }
   ],
   "source": [
    "i = 1\n",
    "while i <= 6:\n",
    "\tprint(\"本次循环开始时：\", i)\n",
    "\tif i ==3:\n",
    "\t\tbreak\n",
    "\tprint(\"本次循环结束时：\", i)\n",
    "\ti += 1"
   ]
  },
  {
   "cell_type": "code",
   "execution_count": 24,
   "metadata": {},
   "outputs": [
    {
     "name": "stdout",
     "output_type": "stream",
     "text": [
      "请输入数字，当为0时结束1\n",
      "1\n",
      "请输入数字，当为0时结束2\n",
      "2\n",
      "请输入数字，当为0时结束4\n",
      "4\n",
      "请输入数字，当为0时结束0\n"
     ]
    }
   ],
   "source": [
    "while True:\n",
    "\tn = int(input(\"请输入数字，当为0时结束\"))\n",
    "\tif n == 0:\n",
    "\t\tbreak\n",
    "\tprint(n)"
   ]
  },
  {
   "cell_type": "markdown",
   "metadata": {},
   "source": [
    "# for\n",
    "    for 变量列表 in 可迭代对象：\n",
    "\t\t语句快1\n",
    "\telse: (结束循环后)\n",
    "\t\t语句快2"
   ]
  },
  {
   "cell_type": "code",
   "execution_count": 28,
   "metadata": {},
   "outputs": [
    {
     "name": "stdout",
     "output_type": "stream",
     "text": [
      "ch ->  A\n",
      "ch ->  B\n",
      "ch ->  C\n",
      "ch ->  D\n",
      "ch ->  E\n",
      "执行else\n",
      "End\n",
      "输入字符串abcd\n",
      "0\n",
      "0\n",
      "1\n",
      "2\n",
      "3\n",
      "0 1 2 3 4 5 6 7 8 9 10 11 12 13 14 15 16 17 18 19 \n",
      "5\n",
      "16\n",
      "27\n",
      "38\n",
      "49\n",
      "60\n",
      "71\n",
      "82\n",
      "93\n",
      "2500\n",
      "2500\n"
     ]
    }
   ],
   "source": [
    "#for.py 字符串迭代\n",
    "s = 'ABCDE'\n",
    "for ch in s:\n",
    "\tprint('ch -> ', ch)\n",
    "else:\n",
    "\tprint(\"执行else\")\n",
    "print(\"End\")\n",
    "\n",
    "#计算空格的个数\n",
    "a = input(\"输入字符串\")\n",
    "b = 0\n",
    "for i in a:\n",
    "\tif i == ' ':\n",
    "\t\tb += 1\n",
    "print(b)\n",
    "\n",
    "for x in range(4):\n",
    "\tprint(x)\n",
    "\n",
    "# 不换行\n",
    "for i in range(20):\n",
    "\tprint(i, end = ' ')\n",
    "else:\n",
    "\tprint()\n",
    "\n",
    "for i in range(100):\n",
    "\tif (i * (i + 1)) % 11 == 8:\n",
    "\t\tprint(i)\n",
    "\telse:pass\n",
    "else:pass\n",
    "\n",
    "s = 0\n",
    "for i in range(1,100,2):\n",
    "\ts += i\n",
    "else:print(s)\n",
    "\n",
    "i = 1\n",
    "s = 0\n",
    "while i <= 99:\n",
    "\ts += i\n",
    "\ti += 2\n",
    "else:\n",
    "\tprint(s)"
   ]
  },
  {
   "cell_type": "code",
   "execution_count": 29,
   "metadata": {},
   "outputs": [
    {
     "name": "stdout",
     "output_type": "stream",
     "text": [
      "请输入宽度：5\n",
      "1 2 3 4 5 \n",
      "1 2 3 4 5 \n",
      "1 2 3 4 5 \n",
      "1 2 3 4 5 \n",
      "1 2 3 4 5 \n",
      "请输入宽度：5\n",
      " 1  2  3  4  5 \n",
      " 2  3  4  5  6 \n",
      " 3  4  5  6  7 \n",
      " 4  5  6  7  8 \n",
      " 5  6  7  8  9 \n"
     ]
    }
   ],
   "source": [
    "w = int(input(\"请输入宽度：\"))\n",
    "for _ in range(w):\n",
    "\tfor x in range(1, w + 1):\n",
    "\t\tprint(x, end=' ')\n",
    "\tprint()\n",
    "\n",
    "w = int(input(\"请输入宽度：\"))\n",
    "for y in range(1, w + 1):\n",
    "\tfor x in range(y, y + w):\n",
    "\t\tprint(\"%2d\"%x, end=' ')\n",
    "\tprint()\n"
   ]
  },
  {
   "cell_type": "code",
   "execution_count": 33,
   "metadata": {},
   "outputs": [
    {
     "name": "stdout",
     "output_type": "stream",
     "text": [
      "请输入一个整数，判断是否为素数：5\n",
      "这个数是素数\n",
      "The End!\n",
      "请输入一个整数，判断是否为素数：11\n",
      "这个数是素数\n"
     ]
    }
   ],
   "source": [
    "#prime.py\n",
    "p = int(input(\"请输入一个整数，判断是否为素数：\"))\n",
    "for i in range(2, p):\n",
    "\tif p % i == 0:\n",
    "\t\tprint(\"这个数不是素数\")\n",
    "\t\tbreak\n",
    "else:print(\"这个数是素数\")\n",
    "\n",
    "print(\"The End!\")\n",
    "\n",
    "#2\n",
    "p = int(input(\"请输入一个整数，判断是否为素数：\"))\n",
    "flag = True\n",
    "for i in range(2, p):\n",
    "\tif p % i == 0:\n",
    "\t\t#print(\"这个数不是素数\")\n",
    "\t\tflag = False\n",
    "\t\tbreak\n",
    "if flag == True:\n",
    "\tprint(\"这个数是素数\")\n",
    "else:\n",
    "\tprint(\"这个数不是素数\")"
   ]
  },
  {
   "cell_type": "markdown",
   "metadata": {},
   "source": [
    "# range\n",
    "    range函数：\n",
    "\trange(stop) 从零开始，每次生成一个整数后加一，直到stop\n",
    "\trang(start, stop, step)\n",
    "\t整数序列生成器，可迭代对象\n",
    "\t不包括最后一项"
   ]
  },
  {
   "cell_type": "markdown",
   "metadata": {},
   "source": [
    "# continue\n",
    "\t用作循环语句while、for中，不再执行本次循环内continue语句，重新开始一次新的循环\n",
    "\t1、在while中，会跳到真值表达式重新判断\n",
    "\t2、在for中，会从迭代对象取下一个元素"
   ]
  },
  {
   "cell_type": "code",
   "execution_count": 20,
   "metadata": {},
   "outputs": [
    {
     "name": "stdout",
     "output_type": "stream",
     "text": [
      "0\n",
      "1\n",
      "3\n",
      "4\n"
     ]
    }
   ],
   "source": [
    "for x in range(5):\n",
    "    if x == 2:\n",
    "        continue\n",
    "    print(x)"
   ]
  },
  {
   "cell_type": "code",
   "execution_count": 26,
   "metadata": {},
   "outputs": [
    {
     "name": "stdout",
     "output_type": "stream",
     "text": [
      "请输入一个数6\n",
      "0\n",
      "2\n",
      "4\n"
     ]
    }
   ],
   "source": [
    "# 求在某个范围内的偶数\n",
    "n = int(input(\"请输入一个数\"))\n",
    "for i in range(n):\n",
    "\tif i % 2 == 0:\n",
    "\t\tprint(i)\n",
    "\telse:\n",
    "\t\tcontinue"
   ]
  },
  {
   "cell_type": "code",
   "execution_count": 27,
   "metadata": {},
   "outputs": [
    {
     "name": "stdout",
     "output_type": "stream",
     "text": [
      "3007\n"
     ]
    }
   ],
   "source": [
    "s = 0\n",
    "for i in range(1,101):\n",
    "\tif i % 5 != 0 and i % 7 != 0 and i % 11 != 0:\n",
    "\t\ts += i\n",
    "print(s)"
   ]
  },
  {
   "cell_type": "markdown",
   "metadata": {},
   "source": [
    "# List\n",
    "- list列表：\n",
    "        L = [] # 空列表\n",
    "        L = [1, 2, 3, 4]\n",
    "        L = [\"北京\", \"上海\", \"重庆\"]\n",
    "        L = [1, 'two', 3, '四']\n",
    "        L = [1, 2, [3.1, 3.2, 3.3], 4]\n",
    "        构造函数：list()\n",
    "        L = list(range(1, 10, 2))\n",
    "        L = list(\"ABCD\")\n",
    "\n",
    "- list运算：\n",
    "        + += * *=\n",
    "        x = [1, 2, 3]\n",
    "        y = [4, 5, 6]\n",
    "        z = x + y  (拼接)\n",
    "        x += [4,5,6] -> [1,2,3,4,5,6]\n",
    "        x += 'ABC'   -> \n",
    "        x *= 用于生成重复的列表\n",
    "        x = [1, 2]\n",
    "        x *= 3 # x = [1,2,1,2,1,2]\n",
    "\n",
    "        比较运算\n",
    "        < <= > >=  == !=\n",
    "        in / not in\n",
    "        判断一个数据元素是否怒在容器（列表内）\n",
    "\n",
    "- 索引 index / slice\n",
    "        取值、赋值\n",
    "        切片取值\n",
    "        x = list(range(9))\n",
    "        y = x[1:9:2] # y = [1, 3, 5, 7]\n",
    "        切片赋值\n",
    "        L = [2, 3, 4]\n",
    "        L[0:1] = [1.1, 2.2] -> [1.1, 2.2, 3, 4]\n",
    "        L[1:2] = [1.1, 2.2] -> \n",
    "        L[1:2] = [] \n",
    "        del 列表元素删除\n",
    "            del 列表[index/slice]\n",
    "\n",
    "- 常用的序列函数：\n",
    "        len(x) \n",
    "        max(x)\n",
    "        min(x)\n",
    "        sum(x)\n",
    "        any(x) 真值测试，如果列表中其中有一个值为真\n",
    "        all(x) 所有都为真值\n",
    "\n",
    "- List 方法\n",
    "        L.index() 查询元素的索引下标\n",
    "        L.insert(x,y) x索引 y内容\n",
    "        L.count(x) 返回列表中x的个数\n",
    "        L.remove(x)删除第一次出现的x值\n",
    "        L.copy() 复制列表\n",
    "        L.append() 在列表中追加单个元素（排在最后）\n",
    "        L.extend() 追加一个列表，依次放入，类似 L+=\n",
    "        L.clear() 清空\n",
    "        L.sort(reverse=False) 按元素进行排序，默认为从小到大升序\n",
    "        L.reverse() 反转顺序\n",
    "        L.pop([index]) 删除元素，默认最后一个，会返回值"
   ]
  },
  {
   "cell_type": "code",
   "execution_count": 43,
   "metadata": {},
   "outputs": [
    {
     "name": "stdout",
     "output_type": "stream",
     "text": [
      "请输入列表中的数，-1为结束1\n",
      "请输入列表中的数，-1为结束2\n",
      "请输入列表中的数，-1为结束3\n",
      "请输入列表中的数，-1为结束4\n",
      "请输入列表中的数，-1为结束5\n",
      "请输入列表中的数，-1为结束-1\n",
      "您输入了5个数\n",
      "您输入的最大值为5\n",
      "您输入的最小值为1\n",
      "您输入的平均值为3\n"
     ]
    }
   ],
   "source": [
    "n = []\n",
    "while True:\n",
    "\ti = int(input(\"请输入列表中的数，-1为结束\"))\n",
    "\tif i != -1:\n",
    "\t\tn += [i]\n",
    "\telse:break\n",
    "ave = sum(n)/len(n)\n",
    "print(\"您输入了%d个数\" % len(n))\n",
    "print(\"您输入的最大值为%d\" % max(n))\n",
    "print(\"您输入的最小值为%d\" % min(n))\n",
    "print(\"您输入的平均值为%d\" % ave)"
   ]
  },
  {
   "cell_type": "code",
   "execution_count": 46,
   "metadata": {},
   "outputs": [
    {
     "name": "stdout",
     "output_type": "stream",
     "text": [
      "请输入字符串123\n",
      "请输入字符串abc\n",
      "请输入字符串321\n",
      "请输入字符串\n",
      "[['321'], ['abc'], ['123']]\n"
     ]
    }
   ],
   "source": [
    "# 反向输出\n",
    "L = []\n",
    "while True:\n",
    "\ts = input(\"请输入字符串\")\n",
    "\tif s != '':\n",
    "\t\tL.append([s])\n",
    "\telse:break\n",
    "L.reverse()\n",
    "\n",
    "print(L)"
   ]
  },
  {
   "cell_type": "markdown",
   "metadata": {},
   "source": [
    "## 字符串文本解析方法split、join\n",
    "    S.split(sep=None) \t使用sep作为分隔符，返回分割后的字符串列表\n",
    "\tS.join(interable)   使用可迭代对象的字符串，返回一个中间用S进行分割的字符串\n",
    "\ts = 'Beijing is capital'\n",
    "\tL = s.split() ->['Beijing', 'is', 'captial']\n",
    "\n",
    "\ts = '\\\\'\n",
    "\tL = ['C:', 'Programe files', 'python3']\n",
    "\ts2 = s.join(L) -> s2 = 'C:\\\\Programe files\\\\python3'"
   ]
  },
  {
   "cell_type": "markdown",
   "metadata": {},
   "source": [
    "## 深拷贝deep copy；浅拷贝shallow copy\n",
    "\t浅拷贝：复制过程中一层变量\n",
    "\tL  = [3.1, 3.2]\n",
    "\tL1 = [1, 2, L]\n",
    "\tL2 = L1.copy   浅拷贝，改变L2[2][0]，L也会改变\n",
    "\timport copy\n",
    "\tL2 = copy.deepcopy(L1) 深拷贝"
   ]
  },
  {
   "cell_type": "markdown",
   "metadata": {},
   "source": [
    "## 列表推导式：lsit comprehension\n",
    "\t用迭代对象依次生成带有多个元素的列表的表达式\n",
    "\t[表达式 for 变量 in 可迭代对象]\n",
    "\t[表达式 for 变量 in 可迭代对象 if 真值表达式]\n",
    "\t例子：\n",
    "\tL = [x*x for x in range(1, 10)]\n",
    "\tL = [i for i in range(1,100,2)] #打印出1-100以内的奇数\n",
    "\tL = [i for i in range(1,100) if x % 2 ==1] #同上！！\n",
    "\t--------------\n",
    "\t嵌套\n",
    "\t[表达式1 for v1 in 迭代1 if 真表1 \n",
    "\t\t\t\tfor v2 迭代2 if 真表2 ……]\n",
    "\t例子：\n",
    "\tL1 = [2, 3, 5]\n",
    "\tL2 = [7, 11, 13]\n",
    "\t将L1中的全部元素与L2中的全部元素一次相乘后放到L3中\n",
    "\tL3 = [x * y for x in L1 for y in L2]\n",
    "\tprint(L3)"
   ]
  },
  {
   "cell_type": "code",
   "execution_count": 45,
   "metadata": {},
   "outputs": [
    {
     "name": "stdout",
     "output_type": "stream",
     "text": [
      "[1, 3, 5, 7, 9, 11, 13, 15, 17, 19, 21, 23, 25, 27, 29, 31, 33, 35, 37, 39, 41, 43, 45, 47, 49, 51, 53, 55, 57, 59, 61, 63, 65, 67, 69, 71, 73, 75, 77, 79, 81, 83, 85, 87, 89, 91, 93, 95, 97, 99]\n"
     ]
    }
   ],
   "source": [
    "#list3.py\n",
    "L = [i for i in range(1,100,2)]\n",
    "print(L)"
   ]
  },
  {
   "cell_type": "markdown",
   "metadata": {},
   "source": [
    "# 函数"
   ]
  },
  {
   "cell_type": "code",
   "execution_count": 12,
   "metadata": {},
   "outputs": [
    {
     "name": "stdout",
     "output_type": "stream",
     "text": [
      "howie,hello\n",
      "howie,Hello!\n",
      "\n"
     ]
    }
   ],
   "source": [
    "def hello(person):\n",
    "    print(\"{0},hello\".format(person))\n",
    "    print(\"%s,Hello!\" % person)\n",
    "    return\"111\"\n",
    "\n",
    "p = \"howie\"\n",
    "a = hello(p)\n",
    "print()\n"
   ]
  },
  {
   "cell_type": "code",
   "execution_count": 13,
   "metadata": {},
   "outputs": [
    {
     "name": "stdout",
     "output_type": "stream",
     "text": [
      "1 \n",
      "2 4 \n",
      "3 6 9 \n",
      "4 8 12 16 \n",
      "5 10 15 20 25 \n",
      "6 12 18 24 30 36 \n",
      "7 14 21 28 35 42 49 \n",
      "8 16 24 32 40 48 56 64 \n",
      "9 18 27 36 45 54 63 72 81 \n"
     ]
    }
   ],
   "source": [
    "#普通生成乘法表\n",
    "for row in range(1, 10):\n",
    "    for col in range(1, row + 1):\n",
    "        print(row * col, end=' ')\n",
    "    print()"
   ]
  },
  {
   "cell_type": "code",
   "execution_count": 14,
   "metadata": {},
   "outputs": [
    {
     "name": "stdout",
     "output_type": "stream",
     "text": [
      "1 \n",
      "2 4 \n",
      "3 6 9 \n",
      "4 8 12 16 \n",
      "5 10 15 20 25 \n",
      "6 12 18 24 30 36 \n",
      "7 14 21 28 35 42 49 \n",
      "8 16 24 32 40 48 56 64 \n",
      "9 18 27 36 45 54 63 72 81 \n"
     ]
    }
   ],
   "source": [
    "#函数生成乘法表\n",
    "def mult(row):\n",
    "    for col in range(1, row + 1):\n",
    "        print(row * col, end=' ')\n",
    "    print()\n",
    "\n",
    "for row in range(1,10):\n",
    "    mult(row)"
   ]
  },
  {
   "cell_type": "markdown",
   "metadata": {},
   "source": [
    "## 默认参数"
   ]
  },
  {
   "cell_type": "code",
   "execution_count": 15,
   "metadata": {},
   "outputs": [
    {
     "name": "stdout",
     "output_type": "stream",
     "text": [
      "james is 18, and he is male\n",
      "Sara is 17, and she is female\n"
     ]
    }
   ],
   "source": [
    "def reg(name, age, gender='male'):\n",
    "    if gender == \"male\":\n",
    "        print(\"%s is %d, and he is %s\" % (name, age, gender))\n",
    "    else:\n",
    "        print(\"%s is %d, and she is %s\" % (name, age, gender))\n",
    "\n",
    "reg(\"james\", 18)\n",
    "reg(\"Sara\", 17, \"female\")"
   ]
  },
  {
   "cell_type": "markdown",
   "metadata": {},
   "source": [
    "## 关键字参数\n"
   ]
  },
  {
   "cell_type": "code",
   "execution_count": 16,
   "metadata": {},
   "outputs": [
    {
     "name": "stdout",
     "output_type": "stream",
     "text": [
      "I am a student\n",
      "My name is Howie, I'm 18 years old, I live in wojia\n"
     ]
    }
   ],
   "source": [
    "def stu_key(name=\"No name\", age = 0, addr = \"No addr\"):\n",
    "    print(\"I am a student\")\n",
    "    print(\"My name is %s, I'm %d years old, I live in %s\" % (name, age, addr))\n",
    "\n",
    "n = \"Howie\"\n",
    "a = 18\n",
    "addr = \"wojia\"\n",
    "stu_key(age = a, name = n, addr = addr)\n",
    "    "
   ]
  },
  {
   "cell_type": "markdown",
   "metadata": {},
   "source": [
    "## 收集参数\n",
    "- 把没有位置，不能和定义式相对应的参数放到一个特定的数据结构中\n",
    "- 语法\n",
    "        def func(*args):\n",
    "            func_body\n",
    "            按照list使用方式访问args得到传入的参数"
   ]
  },
  {
   "cell_type": "code",
   "execution_count": 50,
   "metadata": {},
   "outputs": [
    {
     "name": "stdout",
     "output_type": "stream",
     "text": [
      "Hello everybody, let me introduce myself:\n",
      "<class 'tuple'>\n",
      "Howie\n",
      "18\n",
      "Home\n",
      "haha\n",
      "\n",
      "Hello everybody, let me introduce myself:\n",
      "<class 'tuple'>\n"
     ]
    }
   ],
   "source": [
    "# 模拟一个学生进行自我介绍\n",
    "# 将args看作一个列表\n",
    "def stu(*args):\n",
    "    print(\"Hello everybody, let me introduce myself:\")\n",
    "    #type函数是检测变量的类型\n",
    "    print(type(args))\n",
    "    for item in args:\n",
    "        print(item)\n",
    "\n",
    "stu(\"Howie\", 18, \"Home\", \"haha\")\n",
    "print()\n",
    "stu() # 可以不带任何使用参数"
   ]
  },
  {
   "cell_type": "markdown",
   "metadata": {},
   "source": [
    "### 收集参数之关键字收集参数\n",
    "- 把关键字参数按照字典格式存入收集参数\n",
    "- 语法：\n",
    "        def func(**kwargs)\n",
    "            func_body"
   ]
  },
  {
   "cell_type": "code",
   "execution_count": 56,
   "metadata": {},
   "outputs": [
    {
     "name": "stdout",
     "output_type": "stream",
     "text": [
      "Hello everybody, let me introduce myself:\n",
      "<class 'dict'>\n",
      "name : Howie\n",
      "age : 18\n",
      "addr : Home\n",
      "--------------------\n",
      "Hello everybody, let me introduce myself:\n",
      "<class 'dict'>\n"
     ]
    }
   ],
   "source": [
    "def stu(**kwargs):\n",
    "    print(\"Hello everybody, let me introduce myself:\")\n",
    "    print(type(kwargs))\n",
    "    # 对于字典的访问\n",
    "    for k, v in kwargs.items():\n",
    "        print(k, ':', v)\n",
    "        \n",
    "stu(name='Howie', age=18, addr=\"Home\")\n",
    "\n",
    "print(\"-\" * 20)\n",
    "\n",
    "a = stu()"
   ]
  },
  {
   "cell_type": "code",
   "execution_count": 58,
   "metadata": {},
   "outputs": [
    {
     "name": "stdout",
     "output_type": "stream",
     "text": [
      "None\n"
     ]
    }
   ],
   "source": [
    "print(a)"
   ]
  },
  {
   "cell_type": "markdown",
   "metadata": {},
   "source": [
    "### 收集参数混合调用\n",
    "- 收集参数、关键字参数、普通参数可以混合调用\n",
    "- 普通参数和关键字参数优先\n",
    "- 收集参数、普通参数是tuple；关键字收集参数是dict"
   ]
  },
  {
   "cell_type": "code",
   "execution_count": 69,
   "metadata": {},
   "outputs": [
    {
     "name": "stdout",
     "output_type": "stream",
     "text": [
      "Hi everyone!\n",
      "My name is Howie, and I'm 18 years old\n",
      "My hobby is ha\n",
      "--------------------\n",
      "####################\n"
     ]
    }
   ],
   "source": [
    "def stu(name, age, hobby='没有', *args, **kwargs):\n",
    "    print(\"Hi everyone!\")\n",
    "    print(\"My name is %s, and I'm %d years old\" % (name,age))\n",
    "    if hobby == '没有':\n",
    "        print(\"I have no hobby\")\n",
    "    else:\n",
    "        print(\"My hobby is %s\" % (hobby))\n",
    "    \n",
    "    print('-'*20)\n",
    "    \n",
    "    for i in args:\n",
    "        print(i)\n",
    "    \n",
    "    print('#'*20)\n",
    "    \n",
    "    for k, v in kwargs.items():\n",
    "        print(k, ':', v)\n",
    "\n",
    "stu(\"Howie\", 18, hobby='ha')"
   ]
  },
  {
   "cell_type": "markdown",
   "metadata": {},
   "source": [
    "## 返回值\n",
    "- 需要用return现实返回内容，如果没有，返回None"
   ]
  },
  {
   "cell_type": "code",
   "execution_count": 70,
   "metadata": {},
   "outputs": [
    {
     "name": "stdout",
     "output_type": "stream",
     "text": [
      "哈哈有返回值\n",
      "没有返回值\n",
      "1 None\n"
     ]
    }
   ],
   "source": [
    "def func1():\n",
    "    print(\"哈哈有返回值\")\n",
    "    return 1\n",
    "\n",
    "def func2():\n",
    "    print(\"没有返回值\")\n",
    "\n",
    "f1 = func1()\n",
    "f2 = func2()\n",
    "print(f1, f2)"
   ]
  },
  {
   "cell_type": "markdown",
   "metadata": {},
   "source": [
    "## 函数文档\n",
    "- 函数的文档的作用是对当前函数提供相关的参考信息\n",
    "    - 在函数内部开始的第一行使用三引号字符串定义符\n",
    "- 查看方法\n",
    "    - 使用help；help(stu)\n",
    "    - 使用__doc__；"
   ]
  },
  {
   "cell_type": "code",
   "execution_count": 77,
   "metadata": {},
   "outputs": [
    {
     "name": "stdout",
     "output_type": "stream",
     "text": [
      "Howie 18\n",
      "Help on function stu in module __main__:\n",
      "\n",
      "stu(name, age)\n",
      "    这是帮助文档\n",
      "\n",
      "--------------------\n",
      "\n"
     ]
    },
    {
     "data": {
      "text/plain": [
       "'这是帮助文档'"
      ]
     },
     "execution_count": 77,
     "metadata": {},
     "output_type": "execute_result"
    }
   ],
   "source": [
    "def stu(name, age):\n",
    "    '这是\n",
    "    帮助\n",
    "    文档'\n",
    "    print(\"%s %d\" % (name, age))\n",
    "    return 111\n",
    "\n",
    "stu(\"Howie\", 18)\n",
    "help(stu)\n",
    "\n",
    "print('-'*20)\n",
    "print()\n",
    "\n",
    "stu.__doc__"
   ]
  },
  {
   "cell_type": "markdown",
   "metadata": {},
   "source": [
    "# 变量作用域\n",
    "- 全局：在函数外部定义\n",
    "- 局部：在函数内部定义"
   ]
  },
  {
   "cell_type": "code",
   "execution_count": 8,
   "metadata": {},
   "outputs": [
    {
     "name": "stdout",
     "output_type": "stream",
     "text": [
      "100\n",
      "fun\n",
      "99\n"
     ]
    }
   ],
   "source": [
    "a1 = 100\n",
    "def fun():\n",
    "    print(a1)\n",
    "    print(\"fun\")\n",
    "    a2 = 99\n",
    "    print(a2)\n",
    "\n",
    "fun()"
   ]
  },
  {
   "cell_type": "markdown",
   "metadata": {},
   "source": [
    "# eval()函数\n",
    "- 把一个字符当作一个表达式来执行\n",
    "\n",
    "# exec()函数\n",
    "- 把一个字符当作一个表达式来执行，但不返回结果"
   ]
  },
  {
   "cell_type": "code",
   "execution_count": 7,
   "metadata": {},
   "outputs": [
    {
     "name": "stdout",
     "output_type": "stream",
     "text": [
      "300\n",
      "300\n"
     ]
    }
   ],
   "source": [
    "x = 100\n",
    "y = 200\n",
    "\n",
    "z1 = eval(\"x+y\")\n",
    "z2 = exec(\"print(x+y)\")\n",
    "print(z)"
   ]
  },
  {
   "cell_type": "markdown",
   "metadata": {},
   "source": [
    "# 递归函数\n",
    "- 函数直接或者间接调用自身\n",
    "- 优点：简洁\n",
    "- 缺点：对递归深度有限制\n",
    "- python对递归深度有限制\n",
    "- 注意结束条件"
   ]
  },
  {
   "cell_type": "code",
   "execution_count": null,
   "metadata": {},
   "outputs": [],
   "source": [
    "x = 0\n",
    "\n",
    "def fun():\n",
    "    global x\n",
    "    x += 1\n",
    "    print(x)\n",
    "    fun()"
   ]
  },
  {
   "cell_type": "code",
   "execution_count": 11,
   "metadata": {
    "scrolled": true
   },
   "outputs": [
    {
     "data": {
      "text/plain": [
       "3"
      ]
     },
     "execution_count": 11,
     "metadata": {},
     "output_type": "execute_result"
    }
   ],
   "source": [
    "# 斐波那契数列\n",
    "#第三个数为前两个数的和\n",
    "# f(1) = 1, f(2) = 2, f(n) = f(n-1) + f(n-2)\n",
    "# 1、1、2、3、5、8、13 ～\n",
    "\n",
    "def fib(n):\n",
    "    if n == 1:\n",
    "        return 1\n",
    "    elif n == 2:\n",
    "        return 1\n",
    "    else:\n",
    "        return fib(n-1) + fib(n-2)\n",
    "\n",
    "fib(4)"
   ]
  },
  {
   "cell_type": "markdown",
   "metadata": {},
   "source": [
    "# 汉诺塔问题\n",
    "- 规则：每次移动一个盘子，任何时候大盘子在下面，小盘子在上面\n",
    "- 方法：\n",
    "    1、n=1:直接把A上的一个盘子移动到C上，A -> C\n",
    "    2、n=2:\n",
    "        - 把小盘子A -> B\n",
    "        - 把大盘子A -> C\n",
    "        - 把小盘子B -> C\n",
    "    3、n=3:\n",
    "        - 把A上的两个盘子通过C移动到B上，调用递归\n",
    "        - 把A上剩下的一个最大的盘子移动到C，A -> C\n",
    "        - 把B上面的两个盘子，借助A，挪动到C上，调用递归\n",
    "    4、n=n:\n",
    "        - 把A上的n-1个盘子通过C移动到B上，调用递归\n",
    "        - 把A上剩下的一个最大的盘子移动到C，A -> C\n",
    "        - 把B上面的n-1个盘子，借助A，挪动到C上，调用递归"
   ]
  },
  {
   "cell_type": "code",
   "execution_count": 2,
   "metadata": {},
   "outputs": [
    {
     "name": "stdout",
     "output_type": "stream",
     "text": [
      "A --> B\n",
      "A --> C\n",
      "B --> C\n",
      "-------------\n",
      "A --> B\n",
      "A --> C\n",
      "B --> C\n",
      "A --> C\n",
      "B --> A\n",
      "B --> C\n",
      "A --> C\n"
     ]
    }
   ],
   "source": [
    "def hano(n, a, b, c):\n",
    "    '''\n",
    "    汉诺塔的递归实现\n",
    "    n:代表几个盘子\n",
    "    a:代表第一个塔\n",
    "    b:代表第二个塔\n",
    "    c:代表第三个塔\n",
    "    '''\n",
    "    if n == 1:\n",
    "        print(a, \"-->\", c)\n",
    "        return None\n",
    "    elif n==2:\n",
    "        print(a, \"-->\", b)\n",
    "        print(a, \"-->\", c)\n",
    "        print(b, \"-->\", c)\n",
    "        return None\n",
    "    # 把n-1个盘子，从a塔借助于c塔，挪到b塔上\n",
    "    hano(n-1, a, b, c)\n",
    "    print(a, \"-->\", c)\n",
    "    # 把n-1个盘子，从b塔借助于a塔，挪到c塔上\n",
    "    hano(n-1, b, a, c)\n",
    "\n",
    "a = \"A\"\n",
    "b = \"B\"\n",
    "c = \"C\"\n",
    "\n",
    "hano(2, a, b, c)\n",
    "print(\"-------------\")\n",
    "hano(3, a, b, c)\n",
    "    \n",
    "        \n",
    "        "
   ]
  },
  {
   "cell_type": "code",
   "execution_count": null,
   "metadata": {},
   "outputs": [],
   "source": []
  }
 ],
 "metadata": {
  "kernelspec": {
   "display_name": "Python 3",
   "language": "python",
   "name": "python3"
  },
  "language_info": {
   "codemirror_mode": {
    "name": "ipython",
    "version": 3
   },
   "file_extension": ".py",
   "mimetype": "text/x-python",
   "name": "python",
   "nbconvert_exporter": "python",
   "pygments_lexer": "ipython3",
   "version": "3.7.1"
  }
 },
 "nbformat": 4,
 "nbformat_minor": 2
}
