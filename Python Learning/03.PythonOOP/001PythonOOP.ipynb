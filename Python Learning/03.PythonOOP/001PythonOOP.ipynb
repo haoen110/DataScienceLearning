{
 "cells": [
  {
   "cell_type": "markdown",
   "metadata": {},
   "source": [
    "# Python面向对象编程1\n",
    "---"
   ]
  },
  {
   "cell_type": "markdown",
   "metadata": {},
   "source": [
    "**什么是对象？**\n",
    "- 对象是指现实中的物体或实体（拥有一系列变量、函数（方法）的）\n",
    "\n",
    "**什么事面向对象？**\n",
    "- 把一切看成对象（实例），让对象和对象之间建立关联关系\n",
    "\n",
    "**对象都有什么特征？**\n",
    "- 属性（名词）实例变量\n",
    "    - 姓名、年龄、性别\n",
    "- 行为（动作）实例方法\n",
    "    - 学习、吃饭、睡觉"
   ]
  },
  {
   "cell_type": "markdown",
   "metadata": {},
   "source": [
    "# class 类\n",
    "---"
   ]
  },
  {
   "cell_type": "markdown",
   "metadata": {},
   "source": [
    "**什么是类？**\n",
    "- 拥有相同属性和行为的对象分为一组，即为一个类，类是用来描述对象的工具，用类可以创建同类对象\n",
    "\n",
    "车（类） -------> BYD E6 (京A.88888） 实例  \n",
    "---------------> BMW X5 （xxxxxx) 实例\n",
    "\n",
    "狗（类） -------> 金毛犬 编号：007 实例  \n",
    "----------------> 萨摩耶 编号：008 实例\n",
    "         \n",
    "类|对象|实例|\n",
    ":-: | :-: | :-: |\n",
    "class |object|instance|"
   ]
  },
  {
   "cell_type": "markdown",
   "metadata": {},
   "source": [
    "## 类的创建"
   ]
  },
  {
   "cell_type": "markdown",
   "metadata": {},
   "source": [
    "\n",
    "- 语法：\n",
    "\n",
    "        class 类名(继承列表)\n",
    "        '''类的文档字符串'''\n",
    "        示例方法定义（类内的函数称为方法method)  \n",
    "        类变量定义  \n",
    "        类方法定义  \n",
    "        静态方法定义\n",
    "\n",
    "\n",
    "\n",
    "    \n",
    "- 作用：\n",
    "\n",
    "\n",
    "    - 创建一个类\n",
    "    - 用于描述此类对象的行为和属性\n",
    "    - 类用于创建此类的一个或多个对象（实例）\n",
    "\n",
    "\n",
    "- 构造函数\n",
    "\n",
    "\n",
    "    - 表达式：**类名**([创建传参列表])\n",
    "    - 作用：创建这个类的实例对象，并返回此实例对象的引用关系\n",
    "\n",
    "    \n",
    "- 实例（对象）说明  \n",
    "\n",
    "    - 实例有自己的作用域和名字空间，可以为该示例添加实例变量（属性）  \n",
    "    - 示例可以调用类方法和示例方法  \n",
    "    - 示例可以访问类和实例变量  \n",
    "\n",
    "\n",
    "- 命名方法：\n",
    "    - 大驼峰：（所有单词首字母大写，其余小写）\n",
    "        - MyList、MyRange\n",
    "    - 小驼峰：（第一个单词首字母小写，其他首字母大写）\n",
    "        - getStudentAge"
   ]
  },
  {
   "cell_type": "code",
   "execution_count": 3,
   "metadata": {},
   "outputs": [],
   "source": [
    "class Dog: # 定义一个类，类名为Dog\n",
    "    pass\n",
    "\n",
    "dog1 = Dog() # 创建Dog类的对象\n",
    "dog2 = Dog() # 创建Dog类的另一个对象\n",
    "\n",
    "#类似如下语句：\n",
    "int1 = int()\n",
    "int2 = int()"
   ]
  },
  {
   "cell_type": "markdown",
   "metadata": {},
   "source": [
    "### method 实例方法"
   ]
  },
  {
   "cell_type": "markdown",
   "metadata": {},
   "source": [
    "\n",
    "- 语法：  \n",
    "        class 类名(继承列表):\n",
    "            def 实例方法名(self, 参数1, 参数2, ...)\n",
    "            '''实例方法的文档字符串'''\n",
    "            语句块\n",
    "\n",
    "- 作用：\n",
    "    - 用于描述一个对象的行为，让此类型的全部对象都拥有相同的行为\n",
    "\n",
    "\n",
    "- 说明：\n",
    "    - 实例方法实质是函数，是定义在类内的函数\n",
    "    - 实例方法至少有一个形参，第一个形参代表调用这个方法的实例，一般命名为'self'\n",
    "\n",
    "\n",
    "- 实例方法的调用语法：\n",
    "        实例.实例方法名(调用传参)\n",
    "        或\n",
    "        类名.示例方法名(实例调用传参)"
   ]
  },
  {
   "cell_type": "code",
   "execution_count": 11,
   "metadata": {},
   "outputs": [
    {
     "name": "stdout",
     "output_type": "stream",
     "text": [
      "小狗正在吃： 狗粮\n",
      "小狗睡了： 1 小时\n",
      "小狗正在玩： 球\n",
      "小狗正在玩： 飞盘\n",
      "小狗正在玩： 杂技\n",
      "小狗睡了： 2 小时\n",
      "小狗正在吃： 骨头\n"
     ]
    }
   ],
   "source": [
    "class Dog:\n",
    "    def eat(self, food):\n",
    "        '''此方法用来描述小狗吃东西的行为'''\n",
    "        print(\"小狗正在吃：\", food)\n",
    "        \n",
    "    def sleep(self, hour):\n",
    "        print(\"小狗睡了：\", hour, \"小时\")\n",
    "    \n",
    "    def play(self, obj):\n",
    "        print(\"小狗正在玩：\", obj)\n",
    "    \n",
    "# 创建一个Dog的类的实例\n",
    "dog1 = Dog()\n",
    "dog1.eat(\"狗粮\")\n",
    "dog1.sleep(1)\n",
    "dog1.play(\"球\")\n",
    "\n",
    "# 创建另一个Dog对象\n",
    "dog2 = Dog()\n",
    "dog2.play(\"飞盘\")\n",
    "# 可以用以下方法代替\n",
    "Dog.play(dog2, \"杂技\")\n",
    "\n",
    "dog2.sleep(2)\n",
    "dog2.eat(\"骨头\")"
   ]
  },
  {
   "cell_type": "markdown",
   "metadata": {},
   "source": [
    "### attribute 实例属性（变量）"
   ]
  },
  {
   "cell_type": "markdown",
   "metadata": {},
   "source": [
    "- 每个实例都可以有自己的变量，此变量称为实例变量（属性）\n",
    "\n",
    "\n",
    "- 语法：\n",
    "      实例.属性名\n",
    "\n",
    "- 赋值规则：\n",
    "    - 首次为属性赋值则创建此属性\n",
    "    - 再次为属性赋值则改变属性的绑定关系\n",
    "    \n",
    "    \n",
    "- 作用：\n",
    "    - 用来记录对象自身的数据\n"
   ]
  },
  {
   "cell_type": "code",
   "execution_count": 16,
   "metadata": {},
   "outputs": [
    {
     "name": "stdout",
     "output_type": "stream",
     "text": [
      "黄色 的 金毛\n",
      "灰色 的 萨摩耶\n",
      "黄色 的 金毛 正在吃 骨头\n",
      "灰色 的 萨摩耶 正在吃 包子\n"
     ]
    }
   ],
   "source": [
    "class Dog:\n",
    "    def eat(self, food):\n",
    "        print(self.color, '的',\n",
    "              self.kinds, '正在吃', food)\n",
    "    pass\n",
    "\n",
    "# 创建第一个对象\n",
    "dog1 = Dog()\n",
    "dog1.kinds = '金毛' # 添加属性kinds\n",
    "dog1.color = '白色' # 添加属性color\n",
    "dog1.color = '黄色' # 改变属性color绑定关系\n",
    "print(dog1.color, '的', dog1.kinds)\n",
    "\n",
    "dog2 = Dog()\n",
    "dog2.kinds = '萨摩耶'\n",
    "dog2.color = '灰色'\n",
    "print(dog2.color, '的', dog2.kinds)\n",
    "\n",
    "dog1.eat(\"骨头\")\n",
    "dog2.eat(\"包子\")"
   ]
  },
  {
   "cell_type": "markdown",
   "metadata": {},
   "source": [
    "- 删除属性\n",
    "    - 用 del 语句可以删除一个对象的实例变量\n",
    "    - 语法：\n",
    "            del 对象.实例变量名"
   ]
  },
  {
   "cell_type": "code",
   "execution_count": 18,
   "metadata": {},
   "outputs": [
    {
     "name": "stdout",
     "output_type": "stream",
     "text": [
      "白色\n"
     ]
    }
   ],
   "source": [
    "class Cat:\n",
    "    pass\n",
    "\n",
    "c1 = Cat()\n",
    "c1.color = '白色'\n",
    "print(c1.color)\n",
    "del c1.color"
   ]
  },
  {
   "cell_type": "markdown",
   "metadata": {},
   "source": [
    "### 初始化方法"
   ]
  },
  {
   "cell_type": "markdown",
   "metadata": {},
   "source": [
    "- 作用：\n",
    "    - 对新创建的对象添加实例变量（属性）或相应的资源\n",
    "    \n",
    "    \n",
    "- 语法：\n",
    "        class 类名(继承列表):\n",
    "            def \\_\\_init\\_\\_(self [,形参列表]):\n",
    "                语句快\n",
    "\n",
    "- 说明：\n",
    "    1. 初始化方法名必须\\_\\_init\\_\\_不可变\n",
    "    2. 初始化方法会在构造函数创建实例后自动调用，且将实例自身通过一个参数self传入\\_\\_init\\_\\_方法\n",
    "    3. 创造函数的实参将通过\\_\\_init\\_\\_方法的形参列表传入\\_\\_init\\_\\_方法中\n",
    "    4. 初始化方法内部如果需要返回则返回None"
   ]
  },
  {
   "cell_type": "code",
   "execution_count": 28,
   "metadata": {},
   "outputs": [
    {
     "name": "stdout",
     "output_type": "stream",
     "text": [
      "__init__方法被调用\n",
      "红色\n",
      "红色 的 奥迪 A4 正在以 179 公里/小时的速度行驶！\n",
      "黑色 的 奥迪 A4 正在以 10 公里/小时的速度行驶！\n"
     ]
    }
   ],
   "source": [
    "# 此实例示意__init__方法的自助调用以及添加实例变量\n",
    "class Car:\n",
    "    def __init__(self, c, b, m):\n",
    "        print('__init__方法被调用')\n",
    "        self.color = c # 颜色\n",
    "        self.brand = b # 品牌\n",
    "        self.model = m # 型号\n",
    "    \n",
    "    def run(self, speed):\n",
    "        print(self.color, '的',\n",
    "              self.brand, self.model,\n",
    "              '正在以', speed, '公里/小时的速度行驶！')\n",
    "        \n",
    "    def set_color(self, clr):\n",
    "        '''此方法用来修改车的颜色信息'''\n",
    "        self.color = clr\n",
    "\n",
    "a4 = Car('红色', '奥迪', 'A4')\n",
    "# a4.__init__(.....) 显示调用\n",
    "print(a4.color)\n",
    "a4.run(179)\n",
    "\n",
    "a4.set_color('黑色')\n",
    "a4.run(10)"
   ]
  },
  {
   "cell_type": "markdown",
   "metadata": {},
   "source": [
    "### 析构方法"
   ]
  },
  {
   "cell_type": "markdown",
   "metadata": {},
   "source": [
    "- 语法：\n",
    "        class 类名(继承列表):\n",
    "            def __del__(self):\n",
    "                语句块\n",
    "\n",
    "- 说明：\n",
    "    - 析构方法在对象销毁时被自动调用\n",
    "    \n",
    "\n",
    "- 作用：\n",
    "    - 清理此对象占用的资源\n",
    "    \n",
    "*Python不建议在析构方法内做任何事情，因为对象销毁的时间难以确定*\n",
    "    "
   ]
  },
  {
   "cell_type": "code",
   "execution_count": 36,
   "metadata": {},
   "outputs": [
    {
     "name": "stdout",
     "output_type": "stream",
     "text": [
      "汽车 BYD E6 对象已经创建！\n",
      "BMW x5 对象已经销毁\n",
      "汽车 BMW x5 对象已经创建！\n",
      "BYD E6 对象已经销毁\n"
     ]
    }
   ],
   "source": [
    "class Car:\n",
    "    def __init__(self, name):\n",
    "        self.name = name\n",
    "        print('汽车', name, '对象已经创建！')\n",
    "    \n",
    "    def __del__(self):\n",
    "        print(self.name, \"对象已经销毁\")\n",
    "\n",
    "c1 = Car('BYD E6')\n",
    "c1 = Car('BMW x5')"
   ]
  },
  {
   "cell_type": "markdown",
   "metadata": {},
   "source": [
    "### 预置实例属性"
   ]
  },
  {
   "cell_type": "markdown",
   "metadata": {},
   "source": [
    "- \\_\\_dict\\_\\_ 属性\n",
    "    - 此属性绑定一个储存此实例自身实例变量的字典"
   ]
  },
  {
   "cell_type": "code",
   "execution_count": 39,
   "metadata": {},
   "outputs": [
    {
     "name": "stdout",
     "output_type": "stream",
     "text": [
      "{'kinds': '金毛', 'color': '黄色'}\n",
      "{'kinds': '金毛', 'color': '黄色'}\n"
     ]
    }
   ],
   "source": [
    "class Dog:\n",
    "    pass\n",
    "print(dog1.__dict__)\n",
    "dog1.kinds = '金毛'\n",
    "print(dog1.__dict__)"
   ]
  },
  {
   "cell_type": "markdown",
   "metadata": {},
   "source": [
    "- \\_\\_class\\_\\_ 属性\n",
    "    - 此属性绑定创建此实例的类\n",
    "\n",
    "\n",
    "- 作用：\n",
    "    - 可以借助此属性来访问创建此实例的类"
   ]
  },
  {
   "cell_type": "code",
   "execution_count": 46,
   "metadata": {},
   "outputs": [
    {
     "data": {
      "text/plain": [
       "True"
      ]
     },
     "execution_count": 46,
     "metadata": {},
     "output_type": "execute_result"
    }
   ],
   "source": [
    "class Dog:\n",
    "    pass\n",
    "dog1 = Dog()\n",
    "dog2 = Dog()\n",
    "dog3 = dog1.__class__()\n",
    "dog3.__class__ is Dog"
   ]
  },
  {
   "cell_type": "markdown",
   "metadata": {},
   "source": [
    "### 面向对象的综合示例"
   ]
  },
  {
   "cell_type": "markdown",
   "metadata": {},
   "source": [
    "有两个人：  \n",
    "1.\n",
    "    - 姓名：张三\n",
    "    - 年龄：35  \n",
    "2.\n",
    "    - 姓名：李四\n",
    "    - 年龄：38\n",
    "\n",
    "行为：\n",
    "    1. 教别人学东西 teach\n",
    "    2. 赚钱\n",
    "    3. 借钱\n",
    "\n",
    "事情：\n",
    "    - 张三 教 李四 学 Python  \n",
    "    - 李四 教 张三 学 跳皮筋\n",
    "    - 张三 上班赚了 1000元  \n",
    "    - 李四向张三借了200元"
   ]
  },
  {
   "cell_type": "code",
   "execution_count": 54,
   "metadata": {},
   "outputs": [
    {
     "name": "stdout",
     "output_type": "stream",
     "text": [
      "张三 教 李四 学 Python\n",
      "李四 教 张三 学 跳皮筋\n",
      "张三 工作赚了 1000 元钱\n",
      "张三 借给 李四 200 元钱\n",
      "35 岁的 张三 存有 800 元钱\n"
     ]
    }
   ],
   "source": [
    "# 此示例示意如何用面向对象的方式创建对象，\n",
    "# 并建立对象与对象之间的逻辑关系\n",
    "\n",
    "class Human:\n",
    "    '''人类，用于描述人的行为'''\n",
    "    def __init__(self, n, a):\n",
    "        self.name = n\n",
    "        self.age = a\n",
    "        self.money = 0\n",
    "        \n",
    "    def teach(self, other, skill):\n",
    "        print(self.name, '教', other.name, '学', skill)\n",
    "    \n",
    "    def works(self, money):\n",
    "        self.money += money\n",
    "        print(self.name, '工作赚了', money, '元钱')\n",
    "        \n",
    "    def borrow(self, other, money):\n",
    "        if other.money > money:\n",
    "            print(other.name, '借给', self.name, money, '元钱')\n",
    "            other.money -= money\n",
    "            self.money += money\n",
    "        else:\n",
    "            print(other.name, '不借给', self.name)\n",
    "    \n",
    "    def show_info(self):\n",
    "        print(self.age, '岁的', self.name, '存有', self.money, '元钱')\n",
    "\n",
    "# 以下的类的使用\n",
    "zhang3 = Human('张三', 35)\n",
    "li4 = Human('李四', 8)\n",
    "zhang3.teach(li4, 'Python')\n",
    "li4.teach(zhang3, '跳皮筋')\n",
    "\n",
    "zhang3.works(1000)\n",
    "li4.borrow(zhang3, 200)\n",
    "zhang3.show_info()"
   ]
  },
  {
   "cell_type": "markdown",
   "metadata": {},
   "source": [
    "### 用于类的函数"
   ]
  },
  {
   "cell_type": "markdown",
   "metadata": {},
   "source": [
    "- isinstance(obj, class_or_tuple)\n",
    "    - 返回这个对象obj是否某个类class或某类的实例，如果是则返回True，否则返回Flase\n",
    "    - type(obj) 返回对象类型"
   ]
  },
  {
   "cell_type": "code",
   "execution_count": 55,
   "metadata": {},
   "outputs": [
    {
     "data": {
      "text/plain": [
       "True"
      ]
     },
     "execution_count": 55,
     "metadata": {},
     "output_type": "execute_result"
    }
   ],
   "source": [
    "class Dog:\n",
    "    pass\n",
    "class Cat:\n",
    "    pass\n",
    "animal = Dog()\n",
    "isinstance(animal, Dog) # T\n",
    "isinstance(animal, Cat) # F\n",
    "isinstance(animal, (Cat, int, list)) # F\n",
    "isinstance(animal, (Cat, int, Dog)) # T"
   ]
  },
  {
   "cell_type": "markdown",
   "metadata": {},
   "source": [
    "## class attribute 类的变量"
   ]
  },
  {
   "cell_type": "markdown",
   "metadata": {},
   "source": [
    "- 类变量是类的属性，此属性属于类  \n",
    "\n",
    "\n",
    "- 作用：\n",
    "    - 用来记录类相关对的数据\n",
    "\n",
    "   \n",
    "- 说明：\n",
    "    - 类变量可以通过类直接访问\n",
    "    - 类变量可以通过类的实例直接访问\n",
    "    - 类变量可以通过此类的实例__class__属性简介访问"
   ]
  },
  {
   "cell_type": "code",
   "execution_count": 8,
   "metadata": {},
   "outputs": [
    {
     "name": "stdout",
     "output_type": "stream",
     "text": [
      "Human的类变量count= 0\n",
      "Human的类变量count= 100\n",
      "用h1对象访问的类变量count= 0\n",
      "用h1对象访问的类变量count= 100 但是Human的类变量还是 0\n",
      "用h1对象访问的类变量还是count= 100 但是Human的类变量变了 1\n"
     ]
    }
   ],
   "source": [
    "# 此示例表示类变量的定义和使用\n",
    "class Human:\n",
    "    count = 0 # 创建一个类变量\n",
    "    \n",
    "print(\"Human的类变量count=\", Human.count)\n",
    "Human.count = 100\n",
    "print(\"Human的类变量count=\", Human.count)\n",
    "\n",
    "\n",
    "class Human:\n",
    "    count = 0\n",
    "    \n",
    "h1 = Human()\n",
    "print(\"用h1对象访问的类变量count=\", h1.count)\n",
    "h1.count = 100\n",
    "print(\"用h1对象访问的类变量count=\", h1.count, \"但是Human的类变量还是\", Human.count)\n",
    "\n",
    "h1.__class__.count += 1\n",
    "print(\"用h1对象访问的类变量还是count=\", h1.count, \"但是Human的类变量变了\", Human.count)"
   ]
  },
  {
   "cell_type": "code",
   "execution_count": 13,
   "metadata": {},
   "outputs": [
    {
     "name": "stdout",
     "output_type": "stream",
     "text": [
      "BYD 被创建\n",
      "BYD 被销毁\n",
      "TTESLA 被创建\n",
      "TTESLA 被销毁\n",
      "AUDI 被创建\n",
      "当前汽车总数是 3\n",
      "AUDI 被销毁\n",
      "当前汽车总数是 2\n"
     ]
    }
   ],
   "source": [
    "# 此示例示意用类变量来记录对象的个数\n",
    "class Car:\n",
    "    count = 0 # 创建类变量，用来记录汽车对象的总数\n",
    "    def __init__(self, info):\n",
    "        print(info, '被创建')\n",
    "        self.data = info # 记录传入数据\n",
    "        self.__class__.count += 1 # 让车的总数加1\n",
    "    \n",
    "    def __del__(self):\n",
    "        print(self.data, '被销毁')\n",
    "        self.__class__.count -= 1 # 当车被销毁总数减1\n",
    "\n",
    "b1 = Car(\"BYD\")\n",
    "b2 = Car(\"TTESLA\")\n",
    "b3 = Car(\"AUDI\")\n",
    "print(\"当前汽车总数是\", Car.count)\n",
    "del b3\n",
    "print(\"当前汽车总数是\", Car.count)"
   ]
  },
  {
   "cell_type": "markdown",
   "metadata": {},
   "source": [
    "## 类的文档字符串"
   ]
  },
  {
   "cell_type": "markdown",
   "metadata": {},
   "source": [
    "- 类内第一个没有赋值给任何变量的字符串是类的文档字符串\n",
    "\n",
    "\n",
    "- 说明：\n",
    "    - 类的文档字符串用类的 \\_\\_doc\\_\\_ 属性可以访问\n",
    "    - 类的文档字符串可以用help()函数查看"
   ]
  },
  {
   "cell_type": "code",
   "execution_count": 16,
   "metadata": {
    "scrolled": false
   },
   "outputs": [
    {
     "name": "stdout",
     "output_type": "stream",
     "text": [
      "Help on class Car in module __main__:\n",
      "\n",
      "class Car(builtins.object)\n",
      " |  此类用来描述车的对象的行为\n",
      " |  这是Car类的文档字符串\n",
      " |  \n",
      " |  Methods defined here:\n",
      " |  \n",
      " |  run(self, speed)\n",
      " |      车的run方法\n",
      " |  \n",
      " |  ----------------------------------------------------------------------\n",
      " |  Data descriptors defined here:\n",
      " |  \n",
      " |  __dict__\n",
      " |      dictionary for instance variables (if defined)\n",
      " |  \n",
      " |  __weakref__\n",
      " |      list of weak references to the object (if defined)\n",
      "\n"
     ]
    },
    {
     "data": {
      "text/plain": [
       "'此类用来描述车的对象的行为\\n    这是Car类的文档字符串'"
      ]
     },
     "execution_count": 16,
     "metadata": {},
     "output_type": "execute_result"
    }
   ],
   "source": [
    "class Car:\n",
    "    '''此类用来描述车的对象的行为\n",
    "    这是Car类的文档字符串'''\n",
    "    def run(self, speed):\n",
    "        '''车的run方法'''\n",
    "        pass\n",
    "\n",
    "help(Car)\n",
    "Car.__doc__"
   ]
  },
  {
   "cell_type": "markdown",
   "metadata": {},
   "source": [
    "## 类的\\_\\_slots\\_\\_列表"
   ]
  },
  {
   "cell_type": "markdown",
   "metadata": {},
   "source": [
    "- 作用：\n",
    "    - 限定一个类的实例只能有固定的属性（实例变量）\n",
    "    - 通常为防止错写属性名而发生运行时错误\n",
    "    \n",
    "    \n",
    "- 说明：\n",
    "    - 含有\\_\\_slots\\_\\_列表的类创建的实例对象没有\\_\\_dict\\_\\_属性，即此实例不用字典来保存对象的属性（实例变量）"
   ]
  },
  {
   "cell_type": "code",
   "execution_count": 19,
   "metadata": {},
   "outputs": [
    {
     "name": "stdout",
     "output_type": "stream",
     "text": [
      "58\n",
      "100\n",
      "58\n"
     ]
    },
    {
     "ename": "AttributeError",
     "evalue": "'Student' object has no attribute 'socre'",
     "output_type": "error",
     "traceback": [
      "\u001b[0;31m---------------------------------------------------------------------------\u001b[0m",
      "\u001b[0;31mAttributeError\u001b[0m                            Traceback (most recent call last)",
      "\u001b[0;32m<ipython-input-19-5cac1bf3ae50>\u001b[0m in \u001b[0;36m<module>\u001b[0;34m\u001b[0m\n\u001b[1;32m     18\u001b[0m \u001b[0ms1\u001b[0m \u001b[0;34m=\u001b[0m \u001b[0mStudent\u001b[0m\u001b[0;34m(\u001b[0m\u001b[0;34m'小张'\u001b[0m\u001b[0;34m,\u001b[0m \u001b[0;36m58\u001b[0m\u001b[0;34m)\u001b[0m\u001b[0;34m\u001b[0m\u001b[0;34m\u001b[0m\u001b[0m\n\u001b[1;32m     19\u001b[0m \u001b[0mprint\u001b[0m\u001b[0;34m(\u001b[0m\u001b[0ms1\u001b[0m\u001b[0;34m.\u001b[0m\u001b[0mscore\u001b[0m\u001b[0;34m)\u001b[0m\u001b[0;34m\u001b[0m\u001b[0;34m\u001b[0m\u001b[0m\n\u001b[0;32m---> 20\u001b[0;31m \u001b[0ms1\u001b[0m\u001b[0;34m.\u001b[0m\u001b[0msocre\u001b[0m \u001b[0;34m=\u001b[0m \u001b[0;36m100\u001b[0m \u001b[0;31m# 此处错写了属性名！但运行时不报错！\u001b[0m\u001b[0;34m\u001b[0m\u001b[0;34m\u001b[0m\u001b[0m\n\u001b[0m\u001b[1;32m     21\u001b[0m \u001b[0mprint\u001b[0m\u001b[0;34m(\u001b[0m\u001b[0ms1\u001b[0m\u001b[0;34m.\u001b[0m\u001b[0msocre\u001b[0m\u001b[0;34m)\u001b[0m \u001b[0;31m# 这里打印出了第三个属性\u001b[0m\u001b[0;34m\u001b[0m\u001b[0;34m\u001b[0m\u001b[0m\n",
      "\u001b[0;31mAttributeError\u001b[0m: 'Student' object has no attribute 'socre'"
     ]
    }
   ],
   "source": [
    "# 此示例示意类的__slots__列表的作用\n",
    "class Student:\n",
    "    def __init__(self, name, score):\n",
    "        self.name = name\n",
    "        self.score = score\n",
    "\n",
    "s1 = Student('小张', 58)\n",
    "print(s1.score)\n",
    "s1.socre = 100 # 此处错写了属性名！但运行时不报错！\n",
    "print(s1.socre) # 这里打印出了第三个属性\n",
    "\n",
    "class Student:\n",
    "    __slots__ = ['name', 'score']\n",
    "    def __init__(self, name, score):\n",
    "        self.name = name\n",
    "        self.score = score\n",
    "\n",
    "s1 = Student('小张', 58)\n",
    "print(s1.score)\n",
    "s1.socre = 100 # 此处出错，是因为已经用slots限定了变量"
   ]
  },
  {
   "cell_type": "markdown",
   "metadata": {},
   "source": [
    "## @classmethod 类方法"
   ]
  },
  {
   "cell_type": "markdown",
   "metadata": {},
   "source": [
    "- 类方法是描述类的行为的方法，类方法属于类\n",
    "\n",
    "\n",
    "- 说明：\n",
    "    - 类方法需要用@classmethod装饰器定义\n",
    "    - 类方法至少有一个形参，第一个形参用于绑定类，预定写为'cls'\n",
    "    - 类和该类的实例都可以调用类方法\n",
    "    - 类方法不能访问此类创建的实例的属性（只能访问类变量）"
   ]
  },
  {
   "cell_type": "code",
   "execution_count": 22,
   "metadata": {},
   "outputs": [
    {
     "name": "stdout",
     "output_type": "stream",
     "text": [
      "0\n",
      "1\n"
     ]
    }
   ],
   "source": [
    "# 此示例示意类方法的定义方法和用法\n",
    "class Car:\n",
    "    count = 0\n",
    "    \n",
    "    @classmethod\n",
    "    def getTotalCount(cls):\n",
    "        '''此方法为类方法，\n",
    "        第一个参数为cls，代编调用此方法的类'''\n",
    "        return cls.count\n",
    "    \n",
    "    @classmethod\n",
    "    def updateCount(cls, number):\n",
    "        cls.count += number\n",
    "\n",
    "print(Car.getTotalCount()) # 用类来调用类方法\n",
    "#Car.count += 1 # 面向对象思想不提倡直接操作属性\n",
    "Car.updateCount(1)\n",
    "print(Car.getTotalCount()) \n",
    "\n",
    "c1 = Car()\n",
    "c1.updateCount(100) # Car类的实例也可以调用类方法\n",
    "print(c1.getTotalCount()) # 101"
   ]
  },
  {
   "cell_type": "markdown",
   "metadata": {},
   "source": [
    "## @staticmethod 静态类方法"
   ]
  },
  {
   "cell_type": "markdown",
   "metadata": {},
   "source": [
    "- 静态方法不属于类，也不属于类的实例，它相当于定义在类内普通函数，知识他的作用域属于类"
   ]
  },
  {
   "cell_type": "code",
   "execution_count": 23,
   "metadata": {},
   "outputs": [
    {
     "name": "stdout",
     "output_type": "stream",
     "text": [
      "1+2= 3\n",
      "100+200= 300\n"
     ]
    }
   ],
   "source": [
    "# 此示例示意静态方法的创建和使用\n",
    "class A:\n",
    "    \n",
    "    @staticmethod\n",
    "    def myadd(x, y):\n",
    "        '''此方法为静态方法\n",
    "        此方法的形参不需要传入类或实例'''\n",
    "        return x+y\n",
    "    \n",
    "print('1+2=', A.myadd(1, 2))\n",
    "a = A()\n",
    "print('100+200=', a.myadd(100, 200))"
   ]
  }
 ],
 "metadata": {
  "kernelspec": {
   "display_name": "Python 3",
   "language": "python",
   "name": "python3"
  },
  "language_info": {
   "codemirror_mode": {
    "name": "ipython",
    "version": 3
   },
   "file_extension": ".py",
   "mimetype": "text/x-python",
   "name": "python",
   "nbconvert_exporter": "python",
   "pygments_lexer": "ipython3",
   "version": "3.7.1"
  }
 },
 "nbformat": 4,
 "nbformat_minor": 2
}
