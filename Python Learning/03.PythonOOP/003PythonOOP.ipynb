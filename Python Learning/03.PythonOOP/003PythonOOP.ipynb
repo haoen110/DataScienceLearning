{
 "cells": [
  {
   "cell_type": "markdown",
   "metadata": {},
   "source": [
    "# Python面向对象编程3\n",
    "---"
   ]
  },
  {
   "cell_type": "markdown",
   "metadata": {},
   "source": [
    "# override 函数重写"
   ]
  },
  {
   "cell_type": "markdown",
   "metadata": {},
   "source": [
    "- 重写是在自定义的类内添加相应的方法，让自定义的类生成的对象（实例）像内建对象一样进行内建的函数操作"
   ]
  },
  {
   "cell_type": "markdown",
   "metadata": {},
   "source": [
    "## 对象转字符串函数重写"
   ]
  },
  {
   "cell_type": "markdown",
   "metadata": {},
   "source": [
    "- repr(obj) 返回一个能代表此对象的**表达式字符串**（带引号的可以执行），通常：\n",
    "    - eval(repr(obj)) == obj\n",
    "    \n",
    "    \n",
    "- str(obj) 通常给定的对象返回一个**字符串**（这个字符串通常是给人看的）\n",
    "\n",
    "    \n",
    "- 对象转字符串函数重写方法：\n",
    "    - repr() 函数的重写方法：  \n",
    "    ```def __repr__(self):\n",
    "        return 能够表达self内容的字符串```\n",
    "    - srt() 函数的重写方法：  \n",
    "    ```def __str__(self:\n",
    "        return 人能看懂的字符串```\n",
    "        \n",
    "        \n",
    "- 说明：\n",
    "    1. str(obj) 函数优先调用obj.\\_\\_str\\_\\_()方法返回字符串\n",
    "    2. 如果obj没有\\_\\_str\\_\\_()方法，则调用obj.\\_\\_str\\_\\_()方法返回的字符串\n",
    "    3. 如果obj没有\\_\\_repr\\_\\_()方法， 则调用obj.\\_\\_repr\\_\\_()实例方法显示<xxxx>格式的字符串"
   ]
  },
  {
   "cell_type": "code",
   "execution_count": 7,
   "metadata": {},
   "outputs": [
    {
     "name": "stdout",
     "output_type": "stream",
     "text": [
      "str被调用\n",
      "数字：100\n",
      "repr被调用\n",
      "MyNumber(100)\n",
      "str被调用\n",
      "数字：100\n"
     ]
    }
   ],
   "source": [
    "# 此示例示意一个自定义的数字类型重写repr和str方法的用法\n",
    "class MyNumber:\n",
    "    def __init__(self, value):\n",
    "        self.data = value\n",
    "    \n",
    "    def __str__(self):\n",
    "        print(\"str被调用\")\n",
    "        return \"数字：%d\" % self.data\n",
    "    \n",
    "    def __repr__(self):\n",
    "        print(\"repr被调用\")\n",
    "        return \"MyNumber(%d)\" % self.data\n",
    "        \n",
    "#     def __len__(self): # 重写了len\n",
    "#         return 100\n",
    "# n1 = MyNumber()\n",
    "# x = len(n1)\n",
    "# print(x)\n",
    "\n",
    "n1 = MyNumber(100)\n",
    "print(str(n1))\n",
    "print(repr(n1))\n",
    "print(n1)"
   ]
  },
  {
   "cell_type": "markdown",
   "metadata": {},
   "source": [
    "## 数值转换函数的重写"
   ]
  },
  {
   "cell_type": "markdown",
   "metadata": {},
   "source": [
    "    - def __complex__(self)    complex(obj) 函数调用\n",
    "    - def __int__(self)        int(obj) 函数调用\n",
    "    - def __float__(self)      float(obj) 函数调用\n",
    "    - def __bool__(self)       bool(obj) 函数调用"
   ]
  },
  {
   "cell_type": "code",
   "execution_count": 11,
   "metadata": {},
   "outputs": [
    {
     "name": "stdout",
     "output_type": "stream",
     "text": [
      "<class '__main__.MyNumber'>\n",
      "10000 <class 'int'>\n"
     ]
    }
   ],
   "source": [
    "# 此示例示意自定义的类MyNumber能够转成数值类型\n",
    "class MyNumber:\n",
    "    def __init__(self, v):\n",
    "        self.data = v\n",
    "    def __repr(self):\n",
    "        return \"MyNumber(%d)\" % self.data\n",
    "    \n",
    "    def __int__(self):\n",
    "        '''此方法用于int(obj) 函数重载，必须返回整数\n",
    "        此方法通常用于制定自定义对象如何转为整数的规则\n",
    "        '''\n",
    "        return 10000\n",
    "\n",
    "n1 = MyNumber(100)\n",
    "print(type(n1))\n",
    "n = int(n1)\n",
    "print(n, type(n))"
   ]
  },
  {
   "cell_type": "markdown",
   "metadata": {},
   "source": [
    "## 内建函数重写"
   ]
  },
  {
   "cell_type": "markdown",
   "metadata": {},
   "source": [
    "    - __abs__      abs(obj)\n",
    "    - __len__      len(obj)\n",
    "    - __reversed__ reversed(obj)\n",
    "    - __round__    round(obj)"
   ]
  },
  {
   "cell_type": "code",
   "execution_count": 15,
   "metadata": {},
   "outputs": [
    {
     "name": "stdout",
     "output_type": "stream",
     "text": [
      "MyList([1, -2, 3, -4])\n",
      "MyList([1, 2, 3, 4])\n",
      "MyList([0, 1, 2, 3, 4, 5, 6, 7, 8, 9])\n",
      "10\n"
     ]
    }
   ],
   "source": [
    "# 自定义一个MyList，与系统内建的类一样，用来保存有先后顺序关系的数据\n",
    "\n",
    "class MyList:\n",
    "    '''自定义列表类'''\n",
    "    def __init__(self, iterator=[]):\n",
    "        self.data = [x for x in iterator]\n",
    "        \n",
    "    def __repr__(self):\n",
    "        return \"MyList(%r)\" % self.data\n",
    "    \n",
    "    def __abs__(self):\n",
    "        return MyList([abs(x) for x in self.data])\n",
    "    \n",
    "    def __len__(self):\n",
    "        return len(self.data)\n",
    "    \n",
    "myl = MyList([1, -2, 3, -4]) \n",
    "print(myl)\n",
    "print(\"绝对值列表是：\", abs(myl))\n",
    "\n",
    "myl2 = MyList(range(10))\n",
    "print(myl2)\n",
    "print(\"ml2的长度是：\", len(myl2))"
   ]
  },
  {
   "cell_type": "markdown",
   "metadata": {},
   "source": [
    "## 布尔测试函数的重写"
   ]
  },
  {
   "cell_type": "markdown",
   "metadata": {},
   "source": [
    "- 格式： `def __bool__(self):`\n",
    "\n",
    "\n",
    "- 作用：\n",
    "    - 用于bool(obj) 函数取值\n",
    "    - 用于if语句真值表达式中\n",
    "    - 用于while语句真值表达式中\n",
    "    \n",
    "- 说明：\n",
    "    - 优先调用\\_\\_bool\\_\\_方法取值\n",
    "    - 如果不存在\\_\\_bool\\_\\_方法，则用\\_\\_len\\_\\_()方法取值，如果不为零返回True，否则返回Fales\n",
    "    - 如果再没有\\_\\_len\\_\\_方法，则直接返回True\n",
    "    \n",
    " "
   ]
  },
  {
   "cell_type": "code",
   "execution_count": 17,
   "metadata": {},
   "outputs": [
    {
     "name": "stdout",
     "output_type": "stream",
     "text": [
      "True\n"
     ]
    }
   ],
   "source": [
    "class MyList:\n",
    "    '''自定义列表类'''\n",
    "    def __init__(self, iterator=[]):\n",
    "        self.data = [x for x in iterator]\n",
    "        \n",
    "    def __repr__(self):\n",
    "        return \"MyList(%r)\" % self.data\n",
    "    \n",
    "    def __abs__(self):\n",
    "        return MyList([abs(x) for x in self.data])\n",
    "    \n",
    "    def __len__(self):\n",
    "        return len(self.data)\n",
    "    \n",
    "myl = MyList([1, -2, 3, -4]) \n",
    "print(bool(myl)) # True 调用了len，若len也没有，返回True"
   ]
  },
  {
   "cell_type": "markdown",
   "metadata": {},
   "source": [
    "## 迭代器（高级）"
   ]
  },
  {
   "cell_type": "markdown",
   "metadata": {},
   "source": [
    "- 什么是迭代器\n",
    "    - 可以通过next(it) 函数取值的对象就是迭代器\n",
    "    \n",
    "    \n",
    "- 迭代器协议：\n",
    "    - 迭代器协议是指对象能够使用next函数获取下一项数据，在没有下一项数据时出发一个StopIterator来种植迭代的约定\n",
    "    \n",
    "    \n",
    "- 实现方法：\n",
    "    - 类内需要有__next__(self) 方法来实现迭代器协议\n",
    "    \n",
    "    \n",
    "- 语法:\n",
    "\n",
    "```class MyIterator:\n",
    "    def __next__(self):\n",
    "        迭代器协议的实现\n",
    "        return 数据\n",
    "        ```  \n",
    "        \n",
    "- 什么是可迭代对象\n",
    "    - 是指能用iter(obj) 函数返回迭代器的对象（实例）可迭代对象内部一定要定义\\_\\_iter\\_\\_(self)方法来返回迭代器\n"
   ]
  },
  {
   "cell_type": "code",
   "execution_count": 23,
   "metadata": {},
   "outputs": [
    {
     "name": "stdout",
     "output_type": "stream",
     "text": [
      "MyList([2, 3, 5, 7])\n",
      "__iter__方法被调用\n",
      "2\n",
      "3\n",
      "5\n",
      "7\n"
     ]
    }
   ],
   "source": [
    "# 此示例示意可迭代对象和迭代器的定义以及使用方法：\n",
    "class MyList:\n",
    "    def __init__(self, iterator):\n",
    "        '''自定义列表的初始化方法，此方法创建一个data实例变量\n",
    "        来绑定一个用来存储数据的列表'''\n",
    "        self.data = list(iterator)\n",
    "        \n",
    "    def __repr__(self):\n",
    "        '''此方法为了打印此列表数据'''\n",
    "        return 'MyList(%r)' % self.data\n",
    "    \n",
    "    def __iter__(self):\n",
    "        '''有此方法就是可迭代对象，但是要求必须返回迭代器'''\n",
    "        print(\"__iter__方法被调用\")\n",
    "        return MyListIterator(self.data)\n",
    "\n",
    "class MyListIterator:\n",
    "    '''此类用来创建一个迭代器对象，用此迭代器对象可以访问\n",
    "    MyList类型的数据'''\n",
    "    def __init__(self, iter_data):\n",
    "        self.cur = 0 # 设置迭代器的初始值为0,代表列表的索引\n",
    "        # it_data 绑定要迭代的列表\n",
    "        self.iter_data = iter_data\n",
    "        \n",
    "    def __next__(self):\n",
    "        '''有此方法的对象才叫迭代器，\n",
    "        此方法一定要实现迭代器协议'''\n",
    "        # 如果self.cur已经超出了列表的索引范围，就报迭代结束错误\n",
    "        if self.cur >= len(self.iter_data):\n",
    "            raise StopIteration\n",
    "        # 否则尚未迭代完成，需要返回数据\n",
    "        r = self.iter_data[self.cur] # 拿到要送回去的数\n",
    "        self.cur += 1 # 将当前值向后移动一个单位\n",
    "        return r\n",
    "    \n",
    "    \n",
    "myl = MyList([2,3,5,7])\n",
    "print(myl)\n",
    "for x in myl:\n",
    "    print(x)"
   ]
  },
  {
   "cell_type": "markdown",
   "metadata": {},
   "source": [
    "# 异常（高级）"
   ]
  },
  {
   "cell_type": "markdown",
   "metadata": {},
   "source": [
    "- 回顾异常相关的语句：\n",
    "        - try-except 用来捕获异常通知\n",
    "        - try-finally 用来做一定要做的事情\n",
    "        - raise 用来发生异常通知\n",
    "        - assert 用来根据条件发出AssertionError类型的异常通知\n",
    "        \n",
    "## with 语句\n",
    "\n",
    "\n",
    "- 语法：\n",
    "    - ```with 表达式1 [as 变量1], 表达式2 [as 变量2]:\n",
    "        语句块```\n",
    "        \n",
    "        \n",
    "- 作用：\n",
    "    - 使用于对资源进行访问的场合，确保使用过程中不管是否发生异常，都会执行必须\"清理\"操作，并释放资源\n",
    "        - 如：文件使用后自动关闭，线程中锁的自动获取和释放等\n",
    "        \n",
    "        \n",
    "- 说明：\n",
    "    - 能够用于with语句进行管理的对象必须是**环境管理器**"
   ]
  },
  {
   "cell_type": "code",
   "execution_count": 4,
   "metadata": {},
   "outputs": [
    {
     "name": "stdout",
     "output_type": "stream",
     "text": [
      "文件打开失败\n"
     ]
    }
   ],
   "source": [
    "# 此示例用try-except和try-finally组合来对文件进行操作\n",
    "def read_from_file(filename='info.txt'):\n",
    "    try: # 确保文件不崩溃\n",
    "        f = open(filename)\n",
    "        try:    # 这个try用来确保能够close\n",
    "            print(\"正在读取文件\")\n",
    "            n = int(f.read())\n",
    "        finally:\n",
    "            f.close()\n",
    "    except OSError:\n",
    "        print(\"文件打开失败\")\n",
    "\n",
    "read_from_file()"
   ]
  },
  {
   "cell_type": "code",
   "execution_count": 7,
   "metadata": {},
   "outputs": [
    {
     "name": "stdout",
     "output_type": "stream",
     "text": [
      "正在读取文件\n",
      "n= 123\n",
      "文件已关闭\n"
     ]
    }
   ],
   "source": [
    "# \n",
    "def read_from_file(filename='info.txt'):\n",
    "    try: # 确保文件不崩溃\n",
    "        with open(filename) as f: # with 会自动调用close\n",
    "            print(\"正在读取文件\")\n",
    "            n = int(f.read())\n",
    "            print(\"n=\", n)\n",
    "            print(\"文件已关闭\")\n",
    "    except OSError:\n",
    "        print(\"文件打开失败\")\n",
    "\n",
    "read_from_file()"
   ]
  },
  {
   "cell_type": "markdown",
   "metadata": {},
   "source": [
    "## 环境管理器\n",
    "1. 类内有\\_\\_enter\\_\\_ 和 \\_\\_exit\\_\\_实例方法的类被成文环境管理器\n",
    "2. 能够用with语句管理的对象必须是环境管理器\n",
    "3. \\_\\_enter\\_\\_方法将在进入with语句时被调用，并返回由as变量管理的对象\n",
    "4. \\_\\_exit\\_\\_将在离开with语句时被调用，并且可以用参数来判断在离开with语句时是否有异常发生，并作出相应处理"
   ]
  },
  {
   "cell_type": "code",
   "execution_count": 31,
   "metadata": {
    "scrolled": true
   },
   "outputs": [
    {
     "name": "stdout",
     "output_type": "stream",
     "text": [
      "已进入with语句\n",
      "以下是with语句内的一条语句\n",
      "a\n",
      "已离开with语句，离开时状态异常\n",
      "异常类型是： <class 'ValueError'>\n",
      "错误对象时： invalid literal for int() with base 10: 'a'\n",
      "traceback是： <traceback object at 0x10bc99888>\n"
     ]
    },
    {
     "ename": "ValueError",
     "evalue": "invalid literal for int() with base 10: 'a'",
     "output_type": "error",
     "traceback": [
      "\u001b[0;31m---------------------------------------------------------------------------\u001b[0m",
      "\u001b[0;31mValueError\u001b[0m                                Traceback (most recent call last)",
      "\u001b[0;32m<ipython-input-31-5e7aa7e26050>\u001b[0m in \u001b[0;36m<module>\u001b[0;34m\u001b[0m\n\u001b[1;32m     21\u001b[0m \u001b[0;32mwith\u001b[0m \u001b[0mA\u001b[0m\u001b[0;34m(\u001b[0m\u001b[0;34m)\u001b[0m \u001b[0;32mas\u001b[0m \u001b[0ma\u001b[0m\u001b[0;34m:\u001b[0m\u001b[0;34m\u001b[0m\u001b[0;34m\u001b[0m\u001b[0m\n\u001b[1;32m     22\u001b[0m     \u001b[0mprint\u001b[0m\u001b[0;34m(\u001b[0m\u001b[0;34m\"以下是with语句内的一条语句\"\u001b[0m\u001b[0;34m)\u001b[0m\u001b[0;34m\u001b[0m\u001b[0;34m\u001b[0m\u001b[0m\n\u001b[0;32m---> 23\u001b[0;31m     \u001b[0mint\u001b[0m\u001b[0;34m(\u001b[0m\u001b[0minput\u001b[0m\u001b[0;34m(\u001b[0m\u001b[0;34m)\u001b[0m\u001b[0;34m)\u001b[0m\u001b[0;34m\u001b[0m\u001b[0;34m\u001b[0m\u001b[0m\n\u001b[0m",
      "\u001b[0;31mValueError\u001b[0m: invalid literal for int() with base 10: 'a'"
     ]
    }
   ],
   "source": [
    "class A:\n",
    "    def __enter__(self):\n",
    "        print(\"已进入with语句\")\n",
    "        return self # 返回的对象由as绑定\n",
    "    \n",
    "    def __exit__(self, exc_type, exc_val, exc_tb):\n",
    "        '''此方法会在退出with语句时自动调用\n",
    "        exc_type 在没有异常时为None，出现异常时为异常类型\n",
    "        exc_val 在没有异常时为None，出现异常时绑定错误对象\n",
    "        exc_tb 在没有异常时为None，在出现异常时绑定traceback'''\n",
    "        \n",
    "        if exc_type is None:\n",
    "            print(\"已离开with语句，离开时状态正常\")\n",
    "        else:\n",
    "            print(\"已离开with语句，离开时状态异常\")\n",
    "            print(\"异常类型是：\", exc_type)\n",
    "            print(\"错误对象时：\", exc_val)\n",
    "            print(\"traceback是：\", exc_tb)\n",
    "\n",
    "a = A()\n",
    "with A() as a:\n",
    "    print(\"以下是with语句内的一条语句\")\n",
    "    int(input())"
   ]
  },
  {
   "cell_type": "markdown",
   "metadata": {},
   "source": [
    "## 对象的属性管理函数"
   ]
  },
  {
   "cell_type": "markdown",
   "metadata": {},
   "source": [
    "- getattr(obj, name[, default])\n",
    "    - 从一个对象得到对象的属性；getattr(x,'y')等同于x.y；当属性不存在时，如果给出default参数，则返回default；如果没有给出default则产生一个ArributeError错误\n",
    "\n",
    "\n",
    "- hasattr(obj, name)\n",
    "    - 用给定的name返回对象obj是否有该属性，此种做法可以避免在getattr(obj, name)时引发错误\n",
    "    \n",
    "    \n",
    "- setattr(obj, name, value)\n",
    "    - 给对象obj的名为name的属性设置相应的值value，set(x, 'y', v)等同于x.y = v\n",
    "    \n",
    "    \n",
    "- delattr(obj, name)\n",
    "    - 删除对象obj中的name属性，delattr(x, 'y')等同于def x.y\n",
    "    \n"
   ]
  },
  {
   "cell_type": "code",
   "execution_count": 20,
   "metadata": {},
   "outputs": [
    {
     "name": "stdout",
     "output_type": "stream",
     "text": [
      "没有颜色\n",
      "Yellow\n",
      "金毛\n"
     ]
    }
   ],
   "source": [
    "class Dog:\n",
    "    pass\n",
    "\n",
    "dog1 = Dog()\n",
    "print(getattr(dog1, 'color', '没有颜色'))\n",
    "\n",
    "dog1.color = 'Yellow'\n",
    "print(getattr(dog1, 'color', '没有颜色'))\n",
    "\n",
    "dog2 = Dog()\n",
    "setattr(dog2, 'kind', '金毛')\n",
    "print(dog2.kind)\n",
    "\n",
    "delattr(dog2, 'kind')"
   ]
  },
  {
   "cell_type": "markdown",
   "metadata": {},
   "source": [
    "# 运算符重载"
   ]
  },
  {
   "cell_type": "markdown",
   "metadata": {},
   "source": [
    "- 让自定义的类生成的对象（实例）能够运用运算符进行操作\n",
    "\n",
    "\n",
    "- 作用：\n",
    "    - 让自定义的类的实例像内建对象一样运行运算符操作\n",
    "    - 让程序简介易读\n",
    "    - 对自定义的对象，将运算符赋予新的运算规则\n",
    "    \n",
    "    \n",
    "- 算术运算符的重载：\n",
    "    \n",
    "    ```\n",
    "    __add__(self, rhs)        self + rhs 加法\n",
    "    __sub__(self, rhs)        self - rhs 减法\n",
    "    __mul__(self, rhs)        self * rhs 乘法\n",
    "    __truediv__(self, rhs)        self / rhs 除法\n",
    "    __floordiv__(self, rhs)        self // rhs 地板除法\n",
    "    __mod__(self, rhs)        self % rhs 求余\n",
    "    __pow__(self, rhs)        self ** rhs 幂\n",
    "    ```\n",
    "\n",
    "\n",
    "- 说明：\n",
    "    - *运算符重载不能改变运算的优先级*"
   ]
  },
  {
   "cell_type": "code",
   "execution_count": 26,
   "metadata": {},
   "outputs": [
    {
     "name": "stdout",
     "output_type": "stream",
     "text": [
      "__add__被调用\n",
      "__sub__被调用\n",
      "MyNumber(300) MyNumber(100)\n",
      "MyList([1, 2, 3, 4, 5, 6])\n",
      "MyList([4, 5, 6, 1, 2, 3])\n",
      "MyList([1, 2, 3, 1, 2, 3])\n"
     ]
    }
   ],
   "source": [
    "class MyNumber:\n",
    "    def __init__(self, v):\n",
    "        self.data = v\n",
    "    \n",
    "    def __repr__(self):\n",
    "        return \"MyNumber(%d)\" % self.data\n",
    "    \n",
    "    def __add__(self, other):\n",
    "        print(\"__add__被调用\")\n",
    "        v = self.data + other.data\n",
    "        return MyNumber(v)\n",
    "    \n",
    "    def __sub__(self, other):\n",
    "        print(\"__sub__被调用\")\n",
    "        v = self.data - other.data\n",
    "        return MyNumber(v)\n",
    "    \n",
    "    \n",
    "n1 = MyNumber(100)\n",
    "n2 = MyNumber(200)\n",
    "n3 = n1 + n2\n",
    "n4 = n2 - n1\n",
    "print(n3, n4)\n",
    "\n",
    "class MyList:\n",
    "    def __init__(self, iterable):\n",
    "        self.data = list(iterable)\n",
    "    \n",
    "    def __repr__(self):\n",
    "        return \"MyList(%r)\" % self.data\n",
    "    \n",
    "    def __add__(self, other):\n",
    "        return MyList(self.data + other.data)\n",
    "    \n",
    "    def __mul__(self, num):\n",
    "        return MyList(self.data * num)\n",
    "    \n",
    "L1 = MyList([1, 2, 3])\n",
    "L2 = MyList([4, 5, 6])\n",
    "L3 = L1 + L2\n",
    "print(L3) # MyList([1, 2, 3, 4, 5, 6])\n",
    "L4 = L2 + L1\n",
    "print(L4) # MyList([4, 5, 6, 1, 2, 3])\n",
    "L5 = L1 * 2\n",
    "print(L5) # MyList([1, 2, 3, 1, 2, 3])"
   ]
  },
  {
   "cell_type": "markdown",
   "metadata": {},
   "source": [
    "## 反向算术运算符重载："
   ]
  },
  {
   "cell_type": "markdown",
   "metadata": {},
   "source": [
    "```\n",
    "__radd__(self, lhs)        lhs + self 加法\n",
    "__rsub__(self, lhs)        lhs - self 减法\n",
    "__rmul__(self, lhs)        lhs * self 乘法\n",
    "__rtruediv__(self, lhs)        lhs / self 除法\n",
    "__rfloordiv__(self, lhs)        lhs // self 地板除法\n",
    "__rmod__(self, lhs)        lhs % self 求余\n",
    "__rpow__(self, lhs)        lhs ** self 幂\n",
    "```"
   ]
  },
  {
   "cell_type": "code",
   "execution_count": 34,
   "metadata": {},
   "outputs": [
    {
     "name": "stdout",
     "output_type": "stream",
     "text": [
      "MyList([1, 2, 3, 1, 2, 3])\n",
      "MyList([1, 2, 3, 1, 2, 3, 1, 2, 3])\n"
     ]
    }
   ],
   "source": [
    "class MyList:\n",
    "    def __init__(self, iterable):\n",
    "        self.data = list(iterable)\n",
    "    \n",
    "    def __repr__(self):\n",
    "        return \"MyList(%r)\" % self.data\n",
    "    \n",
    "    def __add__(self, other):\n",
    "        return MyList(self.data + other.data)\n",
    "    \n",
    "    def __mul__(self, num):\n",
    "        'mul被调用'\n",
    "        return MyList(self.data * num)\n",
    "    \n",
    "    def __rmul__(self, num):\n",
    "        'rmul被调用'\n",
    "        return MyList(self.data * num)\n",
    "    \n",
    "    \n",
    "L1 = MyList([1, 2, 3])\n",
    "L2 = MyList([4, 5, 6])\n",
    "L4 = L1 * 2\n",
    "L5 = 3 * L1\n",
    "print(L4)\n",
    "print(L5)"
   ]
  },
  {
   "cell_type": "markdown",
   "metadata": {},
   "source": [
    "## 复合赋值算术运算符重载"
   ]
  },
  {
   "cell_type": "markdown",
   "metadata": {},
   "source": [
    "```\n",
    "__iadd__(self, rhs)        self += rhs 加法\n",
    "__isub__(self, rhs)        self -= rhs 减法\n",
    "__imul__(self, rhs)        self *= rhs 乘法\n",
    "__itruediv__(self, rhs)        self /= rhs 除法\n",
    "__ifloordiv__(self, rhs)        self //= rhs 地板除法\n",
    "__imod__(self, rhs)        self %= rhs 求余\n",
    "__ipow__(self, rhs)        self **= rhs 幂\n",
    "```"
   ]
  },
  {
   "cell_type": "code",
   "execution_count": 33,
   "metadata": {
    "scrolled": true
   },
   "outputs": [
    {
     "name": "stdout",
     "output_type": "stream",
     "text": [
      "__iadd__被调用！\n",
      "MyList([1, 2, 3, 4, 5, 6])\n"
     ]
    }
   ],
   "source": [
    "class MyList:\n",
    "    def __init__(self, iterable):\n",
    "        self.data = list(iterable)\n",
    "    \n",
    "    def __repr__(self):\n",
    "        return \"MyList(%r)\" % self.data\n",
    "    \n",
    "    def __add__(self, other):\n",
    "        return MyList(self.data + other.data)\n",
    "    \n",
    "    def __mul__(self, num):\n",
    "        return MyList(self.data * num)\n",
    "    \n",
    "    def __iadd__(self, rhs): \n",
    "        print(\"__iadd__被调用！\")\n",
    "        self.data.extend(rhs.data)\n",
    "        return self\n",
    "        \n",
    "L1 = MyList([1, 2, 3])\n",
    "L2 = MyList([4, 5, 6])\n",
    "L1 += L2 # 当没有__iadd__方法时，等同于调用L1 = L1 + L2\n",
    "print(L1)"
   ]
  },
  {
   "cell_type": "markdown",
   "metadata": {},
   "source": [
    "- 问题  \n",
    "\n",
    "```\n",
    "L = [1,2,3]\n",
    "def f1():\n",
    "    global L # 这里必须加global L\n",
    "    L = L + [4, 5, 6]\n",
    "\n",
    "f1()\n",
    "print(L)\n",
    "\n",
    "def f2():\n",
    "    # 这里就不用加global L\n",
    "    L += [4, 5, 6] # 这里相当于调用了L.__iadd__([4, 5, 6])\n",
    "    \n",
    "f2()\n",
    "```"
   ]
  },
  {
   "cell_type": "markdown",
   "metadata": {},
   "source": [
    "## 比较运算符的重载"
   ]
  },
  {
   "cell_type": "markdown",
   "metadata": {},
   "source": [
    "```\n",
    "__lt__(self, rhs)        self < rhs \n",
    "__le__(self, rhs)        self <= rhs \n",
    "__gt__(self, rhs)        self > rhs \n",
    "__ge__(self, rhs)        self >= rhs \n",
    "__eq__(self, rhs)        self == rhs \n",
    "__ne__(self, rhs)        self != rhs \n",
    "```"
   ]
  },
  {
   "cell_type": "markdown",
   "metadata": {},
   "source": [
    "## 位运算符重载\n",
    "\n",
    "```\n",
    "__invert__(self)        ~ self 取反\n",
    "__and__(self, rhs)      self & rhs 位与\n",
    "__or__(self, rhs)      self | rhs 位或\n",
    "__xor__(self, rhs)      self ^ rhs 位异或\n",
    "__lshift__(self, rhs)      self << rhs 左移\n",
    "__rshift__(self, rhs)      self >> rhs 右移\n",
    "```\n",
    "\n",
    "## 反向位运算符重载\n",
    "\n",
    "```\n",
    "__rand__(self, rhs)      lhs & self 位与\n",
    "__ror__(self, rhs)      lhs | self 位或\n",
    "__rxor__(self, rhs)      lhs ^ self 位异或\n",
    "__rlshift__(self, rhs)      lhs << self 左移\n",
    "__rrshift__(self, rhs)      lhs >> self 右移\n",
    "```\n",
    "\n",
    "## 复合赋值位运算符重载\n",
    "```\n",
    "__iand__(self, rhs)      self &= rhs 位与\n",
    "__ior__(self, rhs)      self |= rhs 位或\n",
    "__ixor__(self, rhs)      self ^= rhs 位异或\n",
    "__ilshift__(self, rhs)      self <<= rhs 左移\n",
    "__irshift__(self, rhs)      self >>= rhs 右移\n",
    "```\n",
    "\n",
    "## 一元运算符的重载\n",
    "```\n",
    "__neg__(self)         - self 负号\n",
    "__pos__(self)         + self 正号\n",
    "__invert__(self)         ~ self 取反\n",
    "```"
   ]
  },
  {
   "cell_type": "code",
   "execution_count": 37,
   "metadata": {},
   "outputs": [
    {
     "name": "stdout",
     "output_type": "stream",
     "text": [
      "__init__被调用\n",
      "__init__被调用\n",
      "MyList([-1, 2, -3, 4])\n"
     ]
    }
   ],
   "source": [
    "# 一元运算符的重载方法：\n",
    "class MyList:\n",
    "    def __init__(self, iterable):\n",
    "        print(\"__init__被调用\")\n",
    "        self.data = list(iterable)\n",
    "    \n",
    "    def __repr__(self):\n",
    "        return \"MyList(%r)\" % self.data\n",
    "    \n",
    "    def __neg__(self):\n",
    "        '''此方法用来制定-self返回的规则'''\n",
    "        L = [-x for x in self.data]\n",
    "        return MyList(L)\n",
    "    \n",
    "L1 = MyList([1, -2, 3, -4])\n",
    "L2 = -L1\n",
    "print(L2)"
   ]
  },
  {
   "cell_type": "markdown",
   "metadata": {},
   "source": [
    "## in / not in 运算符的重载\n",
    "\n",
    "- 重载方法："
   ]
  },
  {
   "cell_type": "code",
   "execution_count": 40,
   "metadata": {},
   "outputs": [
    {
     "name": "stdout",
     "output_type": "stream",
     "text": [
      "__init__被调用\n",
      "__contains__被调用\n",
      "-2 在 L1 中\n"
     ]
    }
   ],
   "source": [
    "class MyList:\n",
    "    def __init__(self, iterable):\n",
    "        print(\"__init__被调用\")\n",
    "        self.data = list(iterable)\n",
    "    \n",
    "    def __repr__(self):\n",
    "        return \"MyList(%r)\" % self.data\n",
    "    \n",
    "    def __contains__(self, e):\n",
    "        '''此方法用来实现 in / not in 运算符的重载'''\n",
    "        print(\"__contains__被调用\")\n",
    "        for x in self.data:\n",
    "            if x == e:\n",
    "                return True\n",
    "        return False\n",
    "        \n",
    "L1 = MyList([1, -2, 3, -4])\n",
    "if -2 in L1:\n",
    "    print(\"-2 在 L1 中\")\n",
    "else:\n",
    "    print(\"-2 不在 L1 中\")"
   ]
  },
  {
   "cell_type": "markdown",
   "metadata": {},
   "source": [
    "## 索引和切片运算符重载"
   ]
  },
  {
   "cell_type": "markdown",
   "metadata": {},
   "source": [
    "```\n",
    "__getitem__(self, i)        x = self[i] 索引/切片取值\n",
    "__setitem__(self, i, v)     self[i] = v 索引/切片赋值\n",
    "__delitem__(self, i)        del self[i] del语句删除索引等\n",
    "```\n",
    "\n",
    "\n",
    "- 作用：\n",
    "    - 让自定义类型的对象能够支持索引和切片操作"
   ]
  },
  {
   "cell_type": "code",
   "execution_count": 47,
   "metadata": {},
   "outputs": [
    {
     "name": "stdout",
     "output_type": "stream",
     "text": [
      "__init__被调用\n",
      "__getitem__被调用, i= 0\n",
      "1\n",
      "__setitem__被调用, i= 1 v =  2\n",
      "MyList([1, 2, 3, -4])\n"
     ]
    }
   ],
   "source": [
    "# 此示例示意[]运算符的重载\n",
    "class MyList:\n",
    "    def __init__(self, iterable):\n",
    "        print(\"__init__被调用\")\n",
    "        self.data = list(iterable)\n",
    "    \n",
    "    def __repr__(self):\n",
    "        return \"MyList(%r)\" % self.data\n",
    "    \n",
    "    def __getitem__(self, i):\n",
    "        print(\"__getitem__被调用, i=\", i)\n",
    "        return self.data[i]\n",
    "    \n",
    "    def __setitem__(self, i, v):\n",
    "        print(\"__setitem__被调用, i=\", i, 'v = ', v)\n",
    "        self.data[i] = v\n",
    "        \n",
    "L1 = MyList([1, -2, 3, -4])\n",
    "v = L1[0]\n",
    "print(v)\n",
    "\n",
    "L1[1] = 2 # 等同于调用L1.__setitem__(1, 2)\n",
    "print(L1)"
   ]
  },
  {
   "cell_type": "markdown",
   "metadata": {},
   "source": [
    "# slice 函数"
   ]
  },
  {
   "cell_type": "markdown",
   "metadata": {},
   "source": [
    "- 作用：\n",
    "    - 用于创建一个slice切片对象，此对象存储一个切片的起始值、中止值和步长信息\n",
    "    - ` slice(start, stope=None, step=None) 创建一个切片对象 ` \n",
    "    \n",
    "    \n",
    "- 属性：\n",
    "    - s.start 切片起始值，默认为None\n",
    "    - s.stop  切片中止值，默认为None\n",
    "    - s.step  切片步长，默认为None"
   ]
  },
  {
   "cell_type": "code",
   "execution_count": 51,
   "metadata": {},
   "outputs": [
    {
     "name": "stdout",
     "output_type": "stream",
     "text": [
      "__init__被调用\n",
      "__getitem__被调用, i= slice(None, None, 2)\n",
      "正在做切片操作\n",
      "切片的起始值为： None\n",
      "切片的中止值为： None\n",
      "切片的步长值为： 2\n",
      "[1, 3, 5]\n"
     ]
    }
   ],
   "source": [
    "class MyList:\n",
    "    def __init__(self, iterable):\n",
    "        print(\"__init__被调用\")\n",
    "        self.data = list(iterable)\n",
    "    \n",
    "    def __repr__(self):\n",
    "        return \"MyList(%r)\" % self.data\n",
    "    \n",
    "    def __getitem__(self, i):\n",
    "        print(\"__getitem__被调用, i=\", i)\n",
    "        if type(i) is int:\n",
    "            print(\"正在做索引操作\")\n",
    "        elif type(i) is slice:\n",
    "            print(\"正在做切片操作\")\n",
    "            print(\"切片的起始值为：\", i.start)\n",
    "            print(\"切片的中止值为：\", i.stop)\n",
    "            print(\"切片的步长值为：\", i.step)\n",
    "        return self.data[i]\n",
    "\n",
    "L1 = MyList([1, -2, 3, -4, 5, -6])\n",
    "print(L1[::2]) # 相当于 L1[slice(None, None, 2)] L.__getitem__(slice(None, None, None))\n"
   ]
  }
 ],
 "metadata": {
  "kernelspec": {
   "display_name": "Python 3",
   "language": "python",
   "name": "python3"
  },
  "language_info": {
   "codemirror_mode": {
    "name": "ipython",
    "version": 3
   },
   "file_extension": ".py",
   "mimetype": "text/x-python",
   "name": "python",
   "nbconvert_exporter": "python",
   "pygments_lexer": "ipython3",
   "version": "3.7.1"
  }
 },
 "nbformat": 4,
 "nbformat_minor": 2
}
