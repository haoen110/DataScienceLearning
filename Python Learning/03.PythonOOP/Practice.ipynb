{
 "cells": [
  {
   "cell_type": "markdown",
   "metadata": {},
   "source": [
    "# 练习1："
   ]
  },
  {
   "cell_type": "markdown",
   "metadata": {},
   "source": [
    "定义一个学生的类：\n",
    "\n",
    "\n",
    "```\n",
    "class Student:\n",
    "\n",
    "    def set_info(self, name, age):\n",
    "        '''此方法用来给学生对象添加'姓名'和'年龄'属性'''\n",
    "        # 此处自己实现\n",
    "\n",
    "    def show_info(self):\n",
    "        '''此处显示学生信息'''\n",
    "```\n",
    "\n",
    "如：\n",
    "\n",
    "s1 = Student()  \n",
    "s1.set_info('小张', 20)  \n",
    "s2 = Student()  \n",
    "s2.set_info(‘小李', 18)  \n",
    "s1.show_info() # 小张 今年 20 岁  \n",
    "s2.show_info() # 小李 今年 18 岁  "
   ]
  },
  {
   "cell_type": "code",
   "execution_count": 3,
   "metadata": {},
   "outputs": [
    {
     "name": "stdout",
     "output_type": "stream",
     "text": [
      "小张 今年 20 岁\n",
      "小李 今年 18 岁\n"
     ]
    }
   ],
   "source": [
    "class Student:\n",
    "    \n",
    "    def set_info(self, name, age=0):\n",
    "        '''此方法用来给学生对象添加'姓名'和'年龄'属性'''\n",
    "        self.name = name\n",
    "        self.age = age\n",
    "    \n",
    "    def show_info(self):\n",
    "        print(self.name, '今年', self.age, '岁')\n",
    "\n",
    "s1 = Student()  \n",
    "s1.set_info('小张', 20)  \n",
    "s2 = Student()  \n",
    "s2.set_info('小李', 18)  \n",
    "s1.show_info()\n",
    "s2.show_info() "
   ]
  },
  {
   "cell_type": "markdown",
   "metadata": {},
   "source": [
    "# 练习2"
   ]
  },
  {
   "cell_type": "markdown",
   "metadata": {},
   "source": [
    "修改之前的Student类：\n",
    "1. 为该类添加初始化方法，实现在创建对象时自动设置\"姓名\"\"年龄\"\"成绩\"属性\n",
    "2. 添加set_score方法能为对象修改成绩信息\n",
    "3. 添加show_info方法打印学生对象的信息"
   ]
  },
  {
   "cell_type": "code",
   "execution_count": 7,
   "metadata": {},
   "outputs": [
    {
     "name": "stdout",
     "output_type": "stream",
     "text": [
      "蔚蔚 今年 22 岁，成绩是： 100 分\n",
      "蔚蔚 今年 22 岁，成绩是： 99 分\n"
     ]
    }
   ],
   "source": [
    "class Student:\n",
    "    def __init__(self, n, a, s):\n",
    "        self.name = n\n",
    "        self.age = a\n",
    "        self.score = s\n",
    "        \n",
    "    def set_score(self, s):\n",
    "        '''为对象修改成绩信息'''\n",
    "        self.score = s\n",
    "        \n",
    "    def show_info(self):\n",
    "        print(self.name, '今年', self.age, '岁，成绩是：', self.score, '分')\n",
    "\n",
    "s = Student('蔚蔚', 22, 100)\n",
    "s.show_info()\n",
    "s.set_score(99)\n",
    "s.show_info()"
   ]
  },
  {
   "cell_type": "markdown",
   "metadata": {},
   "source": [
    "# 练习3 学生管理系统（类）"
   ]
  },
  {
   "cell_type": "markdown",
   "metadata": {},
   "source": [
    "用来描述一个学生的信息（可以修改之前写的Student类）\n",
    "    - 将这些对象存于列表中，可以任意添加和删除学生信息\n",
    "    1. 打印出学生的个数\n",
    "    2. 打印出所有学生的平均成绩  \n",
    "（建议用类变量存储学生的个数，也可以把类表当作类变量）"
   ]
  },
  {
   "cell_type": "code",
   "execution_count": 4,
   "metadata": {
    "scrolled": true
   },
   "outputs": [
    {
     "name": "stdout",
     "output_type": "stream",
     "text": [
      "此时学生对象的个数是： 3\n",
      "此时学生对象的个数是： 4\n",
      "此时学生对象的个数是： 3\n",
      "平均成绩是： 99.0\n"
     ]
    }
   ],
   "source": [
    "# student.py\n",
    "class Student:\n",
    "    count = 0 # 此类变量用来记录学生的个数\n",
    "    \n",
    "    def __init__(self, n, a, s=0):\n",
    "        self.name = n\n",
    "        self.age = a\n",
    "        self.score = s\n",
    "        Student.count += 1\n",
    "    \n",
    "    def __del__(self):\n",
    "        Student.count -= 1\n",
    "    \n",
    "    def get_score(self):\n",
    "        return self.score\n",
    "    \n",
    "    @classmethod\n",
    "    def getTotalCount(cls):\n",
    "        '''此方法用来得到学生对象的个数'''\n",
    "        return cls.count\n",
    "\n",
    "def test():\n",
    "    L = []\n",
    "    L.append(Student('小张', 20, 100))\n",
    "    L.append(Student('小王', 18, 97))    \n",
    "    L.append(Student('小李', 19, 98))    \n",
    "    print('此时学生对象的个数是：', Student.getTotalCount())\n",
    "    \n",
    "    L2 = []\n",
    "    L2.append(Student('小赵', 18, 99))\n",
    "    print('此时学生对象的个数是：', Student.getTotalCount())\n",
    "    # 删除L中的一个\n",
    "    L.pop(1)\n",
    "    print('此时学生对象的个数是：', Student.getTotalCount())\n",
    "    \n",
    "    all_student = L + L2\n",
    "    \n",
    "    scores = 0\n",
    "    for s in all_student:\n",
    "        scores += s.get_score\n",
    "    print(\"平均成绩是：\", scores/len(all_student))\n",
    "    \n",
    "    \n",
    "if __name__ == '__main__':\n",
    "    test()"
   ]
  },
  {
   "cell_type": "markdown",
   "metadata": {},
   "source": [
    "# 练习4"
   ]
  },
  {
   "cell_type": "markdown",
   "metadata": {},
   "source": [
    "- 写一个Bicycle（自行车）类，有run方法，调用时显示骑行里程km  \n",
    "\n",
    "```class Bicycle:\n",
    "    def run(self, km):\n",
    "        print(\"自行车骑了\", km, \"公里\")```\n",
    "        \n",
    "- 在写一个类EBicycle（电动自行车）类，在Bicycle类的基础上添加电池电量volume属性，有两个方法：\n",
    "    1. file_charge(self, vol) 用来充电，vol为电量\n",
    "    2. run(km)方法每骑行10km消耗电量1度，同时显示当前电量，当电量耗尽时，则调用Bicycle的run方法骑行\n",
    "    \n",
    "```class Ebicycle(Bicycle):\n",
    "    ...\n",
    "b = Bicycle()\n",
    "b.run(10) # 自行车骑行了 10 公里\n",
    "e = EBicycle(5)\n",
    "e.run(10) # 电动骑行了 10 公里\n",
    "e.run(100) # 电动骑行了 40 公里，自行车骑行了 60 公里\n",
    "b.fill_charge(10)\n",
    "b.run(100)```\n"
   ]
  },
  {
   "cell_type": "code",
   "execution_count": 7,
   "metadata": {},
   "outputs": [
    {
     "name": "stdout",
     "output_type": "stream",
     "text": [
      "自行车骑了 10 公里\n",
      "欢迎购买，电量5.00度\n",
      "电动骑行了10.00公里，消耗了1.00度电，还剩4.00度电\n",
      "电动骑行了20.00公里，消耗了2.00度电，还剩2.00度电\n",
      "总共骑行了40.00公里，电动骑行了20.00公里，消耗了2.00度电，还剩0度电\n",
      "自行车骑了 20.0 公里\n"
     ]
    }
   ],
   "source": [
    "class Bicycle:\n",
    "    def run(self, km):\n",
    "        print(\"自行车骑了\", km, '公里')\n",
    "        \n",
    "class EBicycle(Bicycle):\n",
    "    def __init__(self, vol):\n",
    "        self.vol = vol\n",
    "        print(\"欢迎购买，电量%.2f度\" % vol)\n",
    "        \n",
    "    def fill_charge(self, vol):\n",
    "        self.vol += vol\n",
    "        print(\"充电成功，本次充电%.2f度，总共%.2f度\" % (vol, self.vol))\n",
    "    \n",
    "    def run(self, km):\n",
    "        e_km = min(self.vol * 10, km) # 电动总公里\n",
    "        if e_km >= km:\n",
    "            self.vol -= e_km/10\n",
    "            print(\"电动骑行了%.2f公里，消耗了%.2f度电，还剩%.2f度电\" % (e_km, e_km/10, self.vol))\n",
    "        else:\n",
    "            km1 = km - self.vol * 10\n",
    "            print(\"总共骑行了%.2f公里，电动骑行了%.2f公里，消耗了%.2f度电，还剩0度电\" % (km, e_km, self.vol))\n",
    "            super().run(km - e_km)\n",
    "            self.vol = 0\n",
    "            \n",
    "b = Bicycle()\n",
    "b.run(10)\n",
    "e = EBicycle(5)\n",
    "e.run(10)\n",
    "e.run(20)\n",
    "e.run(40)"
   ]
  },
  {
   "cell_type": "markdown",
   "metadata": {},
   "source": [
    "# 练习5"
   ]
  },
  {
   "cell_type": "markdown",
   "metadata": {},
   "source": [
    "- 已知list列表类中没有insert_head方法，写一个自定义的类mylist，继承自list类，在mylist类内添加  \n",
    "`class mylist(list):\n",
    "    def insert_head(self, value):\n",
    "        ...`\n",
    "        \n",
    "- 如：  \n",
    "`L = mylist(range(1,5))\n",
    "print(L) # [1,2,3,4]\n",
    "L.insert_head(0)\n",
    "print(L) # [0,1,2,3,4]\n",
    "L.append(5) # [0,1,2,3,4,5]`"
   ]
  },
  {
   "cell_type": "code",
   "execution_count": 5,
   "metadata": {},
   "outputs": [
    {
     "name": "stdout",
     "output_type": "stream",
     "text": [
      "[1, 2, 3, 4]\n",
      "[0, 1, 2, 3, 4]\n"
     ]
    }
   ],
   "source": [
    "class mylist(list):\n",
    "    def insert_head(self, value):\n",
    "        self.insert(0, value)\n",
    "        \n",
    "L = mylist(range(1,5))\n",
    "print(L)\n",
    "L.insert_head(0)\n",
    "print(L)"
   ]
  },
  {
   "cell_type": "markdown",
   "metadata": {},
   "source": [
    "# 练习6"
   ]
  },
  {
   "cell_type": "markdown",
   "metadata": {},
   "source": [
    "- 把学生信息管理系统中的学生信息：姓名，年量，成绩；改为私有属性，不让此类意外的函数访问，来实现封装（修改Student类）\n",
    "- 定一个类，Fibonacci实现迭代器协议，此类的对象可以作为可迭代对象生成相对应的斐波那契数：1 1 2 3 5 8\n",
    "\n",
    "```\n",
    "class Fibonacci:\n",
    "def __init__(self, n:\n",
    "    ...\n",
    "...\n",
    "\n",
    "实现如下：\n",
    "for x in Fibonacci(10):\n",
    "    print(x)\n",
    "L = [x for x in Fibonacci(30)]\n",
    "print(sum(Fibonacci(25)))\n",
    "（需要实现迭代器协议）\n",
    "\n",
    "提示：可以用一个类实现，也可以用两个类实现\n",
    "clss Fibonacci:\n",
    "    def __init__(self, n):\n",
    "        ...\n",
    "    def __iter__(self):\n",
    "        ...\n",
    "    def __next__(self):\n",
    "        ...```"
   ]
  },
  {
   "cell_type": "code",
   "execution_count": 5,
   "metadata": {},
   "outputs": [
    {
     "name": "stdout",
     "output_type": "stream",
     "text": [
      "__iter__方法被调用\n",
      "1\n",
      "1\n",
      "2\n",
      "3\n",
      "5\n",
      "8\n",
      "13\n",
      "21\n",
      "34\n",
      "55\n",
      "__iter__方法被调用\n",
      "[1, 1, 2, 3, 5, 8, 13, 21, 34, 55, 89, 144, 233, 377, 610, 987, 1597, 2584, 4181, 6765, 10946, 17711, 28657, 46368, 75025, 121393, 196418, 317811, 514229, 832040]\n"
     ]
    }
   ],
   "source": [
    "class Fibonacci:\n",
    "    def __init__(self, n):\n",
    "        self.__count = n\n",
    "    \n",
    "    def __iter__(self):\n",
    "        '''有此方法就是可迭代对象，但是要求必须返回迭代器'''\n",
    "        print(\"__iter__方法被调用\")\n",
    "        return FIterator(self.__count)\n",
    "\n",
    "class FIterator:\n",
    "    '''此类用来创建一个迭代器对象，用此迭代器对象可以访问\n",
    "    MyList类型的数据'''\n",
    "    def __init__(self, n):\n",
    "        self.__count = n\n",
    "        self.cur_count = 0 \n",
    "        self.a = 0\n",
    "        self.b = 1\n",
    "        \n",
    "    def __next__(self):\n",
    "        '''有此方法的对象才叫迭代器，\n",
    "        此方法一定要实现迭代器协议'''\n",
    "        # 如果self.cur已经超出了列表的索引范围，就报迭代结束错误\n",
    "        if self.cur_count >= self.__count:\n",
    "            raise StopIteration\n",
    "        # 否则尚未迭代完成，需要返回数据\n",
    "        self.cur_count += 1 # 将当前值向后移动一个单位\n",
    "        self.a, self.b, = self.b, self.a + self.b\n",
    "        return self.a\n",
    "    \n",
    "for x in Fibonacci(10):\n",
    "    print(x)\n",
    "    \n",
    "L = [x for x in Fibonacci(30)]\n",
    "print(L)"
   ]
  },
  {
   "cell_type": "code",
   "execution_count": 6,
   "metadata": {},
   "outputs": [
    {
     "name": "stdout",
     "output_type": "stream",
     "text": [
      "__iter__方法被调用\n",
      "1\n",
      "1\n",
      "2\n",
      "3\n",
      "5\n",
      "8\n",
      "13\n",
      "21\n",
      "34\n",
      "55\n",
      "__iter__方法被调用\n",
      "[1, 1, 2, 3, 5, 8, 13, 21, 34, 55, 89, 144, 233, 377, 610, 987, 1597, 2584, 4181, 6765, 10946, 17711, 28657, 46368, 75025, 121393, 196418, 317811, 514229, 832040]\n"
     ]
    }
   ],
   "source": [
    "class Fibonacci:\n",
    "    def __init__(self, n):\n",
    "        self.__count = n\n",
    "\n",
    "        \n",
    "    def __iter__(self):\n",
    "        self.cur_count = 0 \n",
    "        self.a = 0\n",
    "        self.b = 1\n",
    "        print(\"__iter__方法被调用\")\n",
    "        return self\n",
    "        \n",
    "    def __next__(self):\n",
    "        if self.cur_count >= self.__count:\n",
    "            raise StopIteration\n",
    "        self.cur_count += 1 \n",
    "        self.a, self.b, = self.b, self.a + self.b\n",
    "        return self.a\n",
    "    \n",
    "for x in Fibonacci(10):\n",
    "    print(x)\n",
    "    \n",
    "L = [x for x in Fibonacci(30)]\n",
    "print(L)"
   ]
  },
  {
   "cell_type": "markdown",
   "metadata": {},
   "source": [
    "# 练习7"
   ]
  },
  {
   "cell_type": "markdown",
   "metadata": {},
   "source": [
    "写一个Car类，属性有：\n",
    "- 颜色 color\n",
    "- 品牌 brand\n",
    "\n",
    "\n",
    "\n",
    "```\n",
    "class Car:\n",
    "    def __init__(self, c, b):\n",
    "        ...\n",
    "        \n",
    "    # 添加一个方法\n",
    "    def get_car_attr(self, attr_name):\n",
    "        '''此方法用于获取对象的属性，如果属性名attr_name\n",
    "        在对象内不存在则返回None\n",
    "        '''\n",
    "        \n",
    "```"
   ]
  },
  {
   "cell_type": "code",
   "execution_count": 6,
   "metadata": {},
   "outputs": [
    {
     "data": {
      "text/plain": [
       "'BMW'"
      ]
     },
     "execution_count": 6,
     "metadata": {},
     "output_type": "execute_result"
    }
   ],
   "source": [
    "class Car:\n",
    "    def __init__(self, c, b):\n",
    "        self.color = c\n",
    "        self.brand = b\n",
    "    \n",
    "    def get_car_attr(self, attr_name):\n",
    "        return getattr(self, attr_name, None)\n",
    "    \n",
    "c1 = Car('red', 'BMW')\n",
    "c1.get_car_attr('brand')"
   ]
  },
  {
   "cell_type": "markdown",
   "metadata": {},
   "source": [
    "# 练习8"
   ]
  },
  {
   "cell_type": "markdown",
   "metadata": {},
   "source": [
    "- 实现两个自定义列表相加：\n",
    "\n",
    "```\n",
    "class MyList:\n",
    "    def __init__(self, iterable):\n",
    "        self.data = list(iterable)\n",
    "    ....\n",
    "    \n",
    "    L1 = MyList([1, 2, 3])\n",
    "    L2 = MyList([4, 5, 6])\n",
    "    L3 = L1 + L2\n",
    "    print(L3) # MyList([1, 2, 3, 4, 5, 6])\n",
    "    L4 = L2 + L1\n",
    "    print(L4) # MyList([4, 5, 6, 1, 2, 3])\n",
    "    L5 = L1 * 2\n",
    "    print(L5) # MyList([1, 2, 3, 1, 2, 3])\n",
    "```"
   ]
  },
  {
   "cell_type": "code",
   "execution_count": 11,
   "metadata": {},
   "outputs": [
    {
     "name": "stdout",
     "output_type": "stream",
     "text": [
      "MyList([1, 2, 3, 4, 5, 6])\n",
      "MyList([4, 5, 6, 1, 2, 3])\n",
      "MyList([1, 2, 3, 1, 2, 3])\n"
     ]
    }
   ],
   "source": [
    "class MyList:\n",
    "    def __init__(self, iterable):\n",
    "        self.data = list(iterable)\n",
    "    \n",
    "    def __repr__(self):\n",
    "        return \"MyList(%r)\" % self.data\n",
    "    \n",
    "    def __add__(self, other):\n",
    "        return MyList(self.data + other.data)\n",
    "    \n",
    "    def __mul__(self, num):\n",
    "        return MyList(self.data * num)\n",
    "    \n",
    "L1 = MyList([1, 2, 3])\n",
    "L2 = MyList([4, 5, 6])\n",
    "L3 = L1 + L2\n",
    "print(L3) # MyList([1, 2, 3, 4, 5, 6])\n",
    "L4 = L2 + L1\n",
    "print(L4) # MyList([4, 5, 6, 1, 2, 3])\n",
    "L5 = L1 * 2\n",
    "print(L5) # MyList([1, 2, 3, 1, 2, 3])"
   ]
  },
  {
   "cell_type": "markdown",
   "metadata": {
    "code_folding": []
   },
   "source": [
    "# 练习9"
   ]
  },
  {
   "cell_type": "markdown",
   "metadata": {},
   "source": [
    "- 实现有续集和OrderSet类，能实现两个集合的交集&，并集|，补集-，对称补集合^，==，！=，in /not in集合操作\n",
    "- 要求集合内用list数据存储\n",
    "\n",
    "\n",
    "```\n",
    "s1 = OrderSet([1, 2, 3, 4])\n",
    "s2 = OrderSet([3, 4, 5])\n",
    "print(s1 & s2)  # OrderSet([3, 4])\n",
    "print(s1 | s2)  # OrderSet([1, 2, 3, 4, 5])\n",
    "print(s1 ^ s2)  # OrderSet([1, 2, 5])\n",
    "if OrderSet([1,2,3]) != OrderSet([1,2,3,4]):\n",
    "    print(\"不相等\")\n",
    "if s2 == OrderSet(3,4,5):\n",
    "    print(\"s2 和 OrderSet(3,4,5)相等\"\n",
    "if 2 in s1:\n",
    "print(\"2 in s1\")\n",
    "```\n"
   ]
  }
 ],
 "metadata": {
  "kernelspec": {
   "display_name": "Python 3",
   "language": "python",
   "name": "python3"
  },
  "language_info": {
   "codemirror_mode": {
    "name": "ipython",
    "version": 3
   },
   "file_extension": ".py",
   "mimetype": "text/x-python",
   "name": "python",
   "nbconvert_exporter": "python",
   "pygments_lexer": "ipython3",
   "version": "3.7.1"
  }
 },
 "nbformat": 4,
 "nbformat_minor": 2
}
