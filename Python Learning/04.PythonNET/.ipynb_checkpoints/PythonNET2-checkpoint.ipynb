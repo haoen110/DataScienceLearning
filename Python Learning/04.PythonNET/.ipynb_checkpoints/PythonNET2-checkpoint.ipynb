{
 "cells": [
  {
   "cell_type": "markdown",
   "metadata": {},
   "source": [
    "# UDP应用：广播\n",
    "- 广播：一点发送，多点接收\n",
    "- 广播地址：一个网段内有一个指定的广播地址，是该网段的最大地址\n",
    "    - 192.168.2.255\n",
    "- 广播风暴：一个网络中有大量的广播就会产生广播风暴占用大量带宽，影响正常的访问速度"
   ]
  },
  {
   "cell_type": "code",
   "execution_count": null,
   "metadata": {},
   "outputs": [],
   "source": [
    "# 接受广播：\n",
    "from socket import * \n",
    "\n",
    "#创建套接字\n",
    "s = socket(AF_INET,SOCK_DGRAM)\n",
    "\n",
    "#设置套接字可以发送接收广播\n",
    "s.setsockopt(SOL_SOCKET,SO_BROADCAST,1)\n",
    "\n",
    "#固定接收端口\n",
    "s.bind(('0.0.0.0',9999))\n",
    "\n",
    "while True:\n",
    "    try:\n",
    "        msg,addr = s.recvfrom(1024)\n",
    "        print(\"从{}获取信息:{}\".\\\n",
    "            format(addr,msg.decode()))\n",
    "    except (KeyboardInterrupt,SyntaxError):\n",
    "        raise \n",
    "    except Exception as e:\n",
    "        print(e)\n",
    "s.close()"
   ]
  },
  {
   "cell_type": "code",
   "execution_count": null,
   "metadata": {},
   "outputs": [],
   "source": [
    "# 发送广播\n",
    "from socket import *\n",
    "from time import sleep \n",
    "\n",
    "#设置目标地址\n",
    "dest = ('192.168.2.255',9999)\n",
    "\n",
    "s = socket(AF_INET,SOCK_DGRAM)\n",
    "\n",
    "#设置能够发送广播\n",
    "s.setsockopt(SOL_SOCKET,SO_BROADCAST,1)\n",
    "\n",
    "while True:\n",
    "    sleep(2)\n",
    "    s.sendto(\"来呀,带你去看晴空万里\".encode(),dest)\n",
    "\n",
    "s.close()"
   ]
  }
 ],
 "metadata": {
  "kernelspec": {
   "display_name": "Python 3",
   "language": "python",
   "name": "python3"
  },
  "language_info": {
   "codemirror_mode": {
    "name": "ipython",
    "version": 3
   },
   "file_extension": ".py",
   "mimetype": "text/x-python",
   "name": "python",
   "nbconvert_exporter": "python",
   "pygments_lexer": "ipython3",
   "version": "3.7.1"
  }
 },
 "nbformat": 4,
 "nbformat_minor": 2
}
