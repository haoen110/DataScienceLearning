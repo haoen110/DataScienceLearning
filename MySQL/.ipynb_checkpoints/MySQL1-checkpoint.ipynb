{
 "cells": [
  {
   "cell_type": "markdown",
   "metadata": {},
   "source": [
    "# MySQL 概述\n",
    "---"
   ]
  },
  {
   "cell_type": "markdown",
   "metadata": {},
   "source": [
    "1. 什么是数据库\n",
    "    - 存储数据的仓库\n",
    "    \n",
    "    \n",
    "2. 都有哪些公司在用数据库\n",
    "    - 金融机构、游戏网站、购物网站、论坛网站……\n",
    "    \n",
    "\n",
    "3. 提供数据库服务的软件\n",
    "    - MySQL、Oracle、SQL Server、DB2、MongoDB、MariaDB\n",
    "    - 如何选择使用那个数据库软件  \n",
    "    \n",
    "        1、是否开源\n",
    "            - 开源：MySQL、MariaDB、MongoDB（游戏网站、购物网站、论坛网站）\n",
    "            - 商业软件：Oracle、DB2、SQL Sever（政府部门、金融机构）\n",
    "        2、是否跨平台\n",
    "            - 不跨平台：SQL Server\n",
    "            \n",
    "            \n",
    "4. MySQL的特点\n",
    "    1. **关系型数据库**\n",
    "        1. 关系型数据库特点\n",
    "            1. 数据是以行和列（表格）的形式去存储的\n",
    "            2. 表中的每一行叫做一条**记录**，每一列叫做一个**字段**\n",
    "            3. 表和表之间的逻辑关联叫**关系**\n",
    "            4. 关系型数据库的核心内容是**关系**即**二维表**    \n",
    "        2. 示例\n",
    "            1. 关系型数据库存储\n",
    "                ```表1、学生信息表\n",
    "                姓名    年龄    班级\n",
    "                小明    25     三班\n",
    "                小张    25     六班```\n",
    "                \n",
    "                ```表2、班级信息表\n",
    "                班级    班主任\n",
    "                三班    老李\n",
    "                六班    老白```\n",
    "            2. 非关系型数据库中存储 \n",
    "                    {\"姓名\":\"小明\",\"年龄\":25,\"班级\":\"六班\",\"班主任\":\"老李\"}      \n",
    "    2. **跨平台**  \n",
    "        - 可以在Unix、Linux、Windows上运行数据库服务  \n",
    "    3. **支持多种编程语言**\n",
    "        - python、java、php……\n",
    "\n",
    "\n",
    "5. 数据库软件、数据库、数据仓库的概念\n",
    "    - 数据库软件\n",
    "        - 一个软件、看得见、可操作、实现数据库的逻辑功能\n",
    "    - 数据库\n",
    "        - 一个逻辑概念，用来存放数据的仓库，侧重存储\n",
    "    - 数据仓库\n",
    "        - 从数据量来熟，比数据库庞大的多，主要用于数据分析和数据挖掘\n",
    "    \n",
    "    网购：\n",
    "        - 数据库：user表\n",
    "        - 数据仓库：那个时间段用户登录量最多……"
   ]
  },
  {
   "cell_type": "markdown",
   "metadata": {},
   "source": [
    "# MySQL 安装"
   ]
  },
  {
   "cell_type": "markdown",
   "metadata": {},
   "source": [
    "1. Ubuntu安装MqSQL服务\n",
    "    1. 安装服务端  \n",
    "            sudo apt-get install mysql-server\n",
    "    2. 安装客户端  \n",
    "            sudo apt-get install mysql-client  \n",
    "    3. Ubuntu安装软件  \n",
    "            sudo apt-get update \n",
    "            - 访问源列表中的每个网址，读取软件列表，保存到本地/var/lib/apy/lists/  \n",
    "            sudo apt-get upgrade\n",
    "            - 把本地已安装与刚下载的软件列表进行对比，如果发现已安装软件版本过低，则更新  \n",
    "            sudo apt-get -f install \n",
    "            - 修复依赖关系\n",
    "            \n",
    "            \n",
    "2. Windows安装MySQL服务\n",
    "\n",
    "\n",
    "    1. 下载MySQL安装包（windows）\n",
    "        - mysql-installerxxxx.msi\n",
    "\n",
    "\n",
    "3. 启动和连接MySQL服务\n",
    "\n",
    "\n",
    "    1. 服务端启动\n",
    "    \n",
    "        - 查看MySQL状态  \n",
    "                sudo /etc/init.d/mysql status\n",
    "                sudo /etc/init.d/mysql start stop restart\n",
    "    2. 客户端连接\n",
    "    \n",
    "        - 命令格式  \n",
    "                mysql -h主机地址 -u用户名 -p密码 \n",
    "                mysql -hlocalhost -uroot -p123456（本地连接可省略h选项）"
   ]
  },
  {
   "cell_type": "markdown",
   "metadata": {},
   "source": [
    "# 基本的SQL命令"
   ]
  },
  {
   "cell_type": "markdown",
   "metadata": {},
   "source": [
    "## 使用规则"
   ]
  },
  {
   "cell_type": "markdown",
   "metadata": {},
   "source": [
    "1. SQL每条命令必须以\";\"结尾\n",
    "2. SQl命令不区分大小写\n",
    "3. 使用 \"\\c\" 来中止当前命令的执行\n",
    "\n",
    "## macOS存放位置\n",
    "- mac中添加环境：`PATH=\"$PATH\":/usr/local/mysql/bin`\n",
    "- 数据库目录：`/usr/local/mysql/data`\n",
    "\n",
    "## Linux存放位置\n",
    "- 数据库目录：`/var/lib/mysql`"
   ]
  },
  {
   "cell_type": "markdown",
   "metadata": {},
   "source": [
    "## 库的管理"
   ]
  },
  {
   "cell_type": "markdown",
   "metadata": {},
   "source": [
    "1. 库的基本操作\n",
    "    - 查看已由库  \n",
    "            show databases;\n",
    "        \n",
    "    - 创建库（指定字符集）  \n",
    "            create database 库名 [character set utf8];\n",
    "        \n",
    "    - 查看创建库的语句（字符集）  \n",
    "            show create database 库名\n",
    "        \n",
    "    - 查看当前所在库  \n",
    "            select database();\n",
    "        \n",
    "    - 切换库  \n",
    "            use 库名;\n",
    "        \n",
    "    - 查看库中已有表  \n",
    "            show tables;\n",
    "        \n",
    "    - 删除库\n",
    "            drop database 库名;\n",
    "        \n",
    "        \n",
    "2. 库名的命名规则\n",
    "    - 数字、字母、下划线，但不能使用纯数字\n",
    "    - 库名区分字母大小写\n",
    "    - 不能使用特殊关键字和mysql关键字"
   ]
  },
  {
   "cell_type": "markdown",
   "metadata": {},
   "source": [
    "## 表的管理"
   ]
  },
  {
   "cell_type": "markdown",
   "metadata": {},
   "source": [
    "1. 表的基本操作\n",
    "    - 查看已有表  \n",
    "            show tables;\n",
    "\n",
    "    - 创建表（指定字符集）  \n",
    "            create table 表名(\n",
    "            字段名 数据类型,\n",
    "            字段名 数据类型,\n",
    "            ...          \n",
    "            字段名 数据类型)character set utf8;\n",
    "        \n",
    "    - 查看已有表的字符集  \n",
    "            show create table 表名;\n",
    "        \n",
    "    - 查看表结构  \n",
    "            desc 表名\n",
    "        \n",
    "    - 删除表  \n",
    "            drop table 表名;\n",
    "        "
   ]
  },
  {
   "cell_type": "markdown",
   "metadata": {},
   "source": [
    "## 表记录管理"
   ]
  },
  {
   "cell_type": "markdown",
   "metadata": {},
   "source": [
    "1. insert 插入：\n",
    "        - insert into 表名 values(值1),(值2),...;\n",
    "        - insert into t1 values(1, 'Lucy', 90),(2, 'Green',86);\n",
    "        - insetr into 表名(字段1,...) values(值1),...;\n",
    "        - insert into t1(name,score) values('Peter',100); # id默认为空\n",
    "        \n",
    "2. select 查询：\n",
    "        - select * from 表名 [where 条件];\n",
    "        - select 字段1,字段2, from 表名 [where 条件];\n",
    "        \n",
    "        \n",
    "3. alter 修改：        \n",
    "        - 语法：\n",
    "                alter table 表名 执行动作；\n",
    "        - 添加字段(add)\n",
    "                alter table 表名 add 字段名 数据类型;\n",
    "                alter table 表名 add 字段名 数据类型 first;\n",
    "                alter table 表名 add 字段名 数据类型 after 字段名;\n",
    "        - 删除字段(drop)\n",
    "                alter table 表名 drop 字段名;\n",
    "        - 修改类型(modify)\n",
    "                alter table 表名 modify 字段名 新数据类型;\n",
    "        - 表重命名(rename)\n",
    "                alter table 表名 rename 新表名;"
   ]
  },
  {
   "cell_type": "markdown",
   "metadata": {},
   "source": [
    "        练习：\n",
    "            1、查看所有库\n",
    "            2、创建新库 studb\n",
    "            3、在 studb 中创建表 tab1 ，指定字符集utf8，字段有id、name、age\n",
    "            4、查看tab1的表结构\n",
    "            5、在tab1中随便插入两条记录\n",
    "            6、在tab2中的name、age两个字段插入两条记录\n",
    "            7、查看tab1中所有记录\n",
    "            8、查看tab1中所有人的姓名和年龄\n",
    "            9、查看tab1表中年龄大于20的信息"
   ]
  },
  {
   "cell_type": "markdown",
   "metadata": {},
   "source": [
    "## 如何更改默认字符集"
   ]
  },
  {
   "cell_type": "markdown",
   "metadata": {},
   "source": [
    "- (Ubuntu)：\n",
    "    - 获取root权限\n",
    "            sudo i\n",
    "            cd /etc/mysql/mysql.conf.d/\n",
    "    - 备份\n",
    "            cp mysqld.cnf mysqld.cnf.bak\n",
    "    - subl mysqld.cnf\n",
    "            [mysqld]\n",
    "            character_set_sever = utf8\n",
    "    - 重启mysql服务\n",
    "            /etc/init.d/mysql restart\n",
    "           \n",
    "\n",
    "- (macOS):\n",
    "        vim /etc/my.cnf\n",
    "        [mysqld]\n",
    "        character_set_server = utf8"
   ]
  },
  {
   "cell_type": "markdown",
   "metadata": {},
   "source": [
    "## 数据类型\n",
    "- 能存所有的，包括音频视频，但是一般存一个路径就好了"
   ]
  },
  {
   "cell_type": "markdown",
   "metadata": {},
   "source": [
    "### 数值类型"
   ]
  },
  {
   "cell_type": "markdown",
   "metadata": {},
   "source": [
    "1. 整型\n",
    "    - int 大整型（4个字节）\n",
    "        - 取值范围：2\\*\\*32-1(42亿多）\n",
    "    - tinyint 微小整型（1个字节）\n",
    "        - 有符号（signed默认）：-128～127\n",
    "        - 无符号（unsigned）：0～255\n",
    "        - 例如：age tinyint unsigned;\n",
    "    - smallint 小整型（2个字节）\n",
    "    - bigint 极大整型（8个字节）\n",
    "        - 取值范围：2\\*\\*64-1\n",
    "        \n",
    "        \n",
    "2. 浮点型        \n",
    "    - float（4个字节，最多显示7个有效位）\n",
    "        - 用法：\n",
    "                字段名 float(m,n) m->总位数 n->小数位位数\n",
    "                float(5,2)取值范围是：-999.99～999.99\n",
    "    - decimal（最多显示28个有效位）\n",
    "        - decimal(m,n)\n",
    "        - 存储空间(整数、小树分开存储)\n",
    "            - 规则：将9的倍数包装成4个字节\n",
    "                    余数    字节\n",
    "                     0       0\n",
    "                    1-2      1\n",
    "                    3-4      2\n",
    "                    5-6      3\n",
    "                    7-9      4\n",
    "                    示例：decimal(19,9)\n",
    "                        整数部分：10/9=1...1 4个字节+1个字节=5个字节\n",
    "                        小数部分：9/9=1...0  4个字节+0个字节=4个字节\n",
    "                        占：9字节"
   ]
  },
  {
   "cell_type": "markdown",
   "metadata": {},
   "source": [
    "### 字符类型"
   ]
  },
  {
   "cell_type": "markdown",
   "metadata": {},
   "source": [
    "1. char（定长）\n",
    "    - 取值范围：1～255\n",
    "    - name char(10) 会在后面加空格，始终是10个字符的大小\n",
    "        - 浪费存储空间，但是效率高\n",
    "    \n",
    "    \n",
    "2. varchar（变长）\n",
    "    - 取值范围：1～65535\n",
    "    - varchar(10) 会根据大小来开辟空间\n",
    "        - 节省存储空间，但是效率低\n",
    "        \n",
    "        \n",
    "3. text / longtext（4G） / blob / longblob（4G）\n",
    "    \n",
    "    \n",
    "4. 注意：\n",
    "    - 浮点型，插入整数时会自动补全小数位数\n",
    "    - 小数位数多于指定位数，会对下一位进行四舍五入"
   ]
  },
  {
   "cell_type": "markdown",
   "metadata": {},
   "source": [
    "---\n",
    "- 数值类型宽度为显示宽度，只用于select查询显示，和占用内存无关，可用zerofill（用零填充）查看效果。\n",
    "\n",
    "\n",
    "- 字符类型的宽度超过之后则无法存储 "
   ]
  },
  {
   "cell_type": "markdown",
   "metadata": {},
   "source": [
    "### 枚举类型"
   ]
  },
  {
   "cell_type": "markdown",
   "metadata": {},
   "source": [
    "1. 单选(enum)：\n",
    "        字段名 enum(值1,值,2,...)\n",
    "2. 多选(set)：\n",
    "        字段名 set(值1,值,2,...)\n",
    "        \n",
    "        \n",
    "        create table t5(\n",
    "        id int(3) zerofill,\n",
    "        name varchar(15),\n",
    "        sex enum(\"M\",\"F\",\"Secret\"),\n",
    "        likes set(\"F\",\"M\",\"Study\",\"Python\")\n",
    "        );\n",
    "        \n",
    "多选插入记录时要insert into t1(likes) values(\"F,Study,Python\");"
   ]
  },
  {
   "cell_type": "markdown",
   "metadata": {},
   "source": [
    "### 日期时间类型"
   ]
  },
  {
   "cell_type": "markdown",
   "metadata": {},
   "source": [
    "1. date:\"YYYY-MM-DD\"\n",
    "2. time:\"HH:MM:SS\"\n",
    "3. datetime:\"YYYY-MM-DD HH:MM:SS\"\n",
    "4. timestamp:\"YYYY-MM-DD HH:MM:SS\"\n",
    "- datetime不给值默认返回NULL\n",
    "- timestamp不给值默认返回系统时间\n",
    "\n",
    "        create table t7(\n",
    "        id int,\n",
    "        name varchar(15),\n",
    "        birthday date,\n",
    "        money int,\n",
    "        shijian datetime)\n",
    "        \n",
    "        insert into t7 values(1, \"小明\", 19900910, 5000, 20180731090000);\n",
    "        \n",
    "\n",
    "- 日期时间函数\n",
    "        - now() 返回服务器当前时间\n",
    "        - curdate() 返回当前日期\n",
    "        - curtime() 返回当前时间\n",
    "        - year(date) 返回指定时间的年份\n",
    "        - date(date) 返回指定时间的日期\n",
    "        - time(date) 返回指定时间的时刻\n",
    "        \n",
    "        `select * from t7 where date(shijian)='20180712';`\n",
    "        `select * from t7 where date(shijian)>'20180712 and ....';`\n",
    "        \n",
    "- 日期时间的运算\n",
    "        - select * from 表名 where 字段名 运算符(时间-interval 时间间隔单位);\n",
    "        - 时间间隔单位：\n",
    "            1 day/ 2 hour/ 1 minute/ 2 year/ 3 month\n",
    "        \n",
    "        1、查询1天以内的记录\n",
    "            select * from t7\n",
    "            where shijian > (now()-interval 1 day)\n",
    "            \n",
    "        2、查询一年以前的记录\n",
    "            select * from t7\n",
    "            where shijian < (now()-interval 1 year)\n",
    "            \n",
    "        3、查询1天以前，3天以内的记录\n",
    "            select * from t7\n",
    "            where shijian <(now()-interval 1 day) and\n",
    "            where shijian >(now()-interval 3 day;"
   ]
  }
 ],
 "metadata": {
  "kernelspec": {
   "display_name": "Python 3",
   "language": "python",
   "name": "python3"
  },
  "language_info": {
   "codemirror_mode": {
    "name": "ipython",
    "version": 3
   },
   "file_extension": ".py",
   "mimetype": "text/x-python",
   "name": "python",
   "nbconvert_exporter": "python",
   "pygments_lexer": "ipython3",
   "version": "3.7.1"
  }
 },
 "nbformat": 4,
 "nbformat_minor": 2
}
